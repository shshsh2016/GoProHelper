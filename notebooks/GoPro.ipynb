{
 "cells": [
  {
   "cell_type": "markdown",
   "metadata": {},
   "source": [
    "# GoPro\n",
    "\n",
    "- https://medium.com/@konrad_it/how-to-stream-from-a-gopro-camera-f4a164150797\n",
    "- https://github.com/KonradIT/goprowifihack\n",
    "\n",
    "\n",
    "wireless library: https://github.com/joshvillbrandt/wireless"
   ]
  },
  {
   "cell_type": "markdown",
   "metadata": {},
   "source": [
    "## What Next\n",
    "\n",
    "- Take photos at regular intervals\n",
    "- Maintain database of local photos/videos\n",
    "- Download all files to local storage\n",
    "- Delete files on camera\n",
    "- Establish essential camera settings\n",
    "    - Exposure sensitivity\n",
    "    - shutter time\n",
    "    - white balance, protune, etc.\n",
    "- Multiple, simultaneous comm sessions?\n",
    "    - Take photos at precise intervals\n",
    "    - Batch download/erase photos\n",
    "    - Check camera status\n"
   ]
  },
  {
   "cell_type": "code",
   "execution_count": 1,
   "metadata": {
    "collapsed": true
   },
   "outputs": [],
   "source": [
    "import wireless\n",
    "\n",
    "import context\n",
    "from gopro_helper import gopro\n",
    "from gopro_helper import api"
   ]
  },
  {
   "cell_type": "code",
   "execution_count": 6,
   "metadata": {
    "scrolled": true
   },
   "outputs": [
    {
     "data": {
      "text/plain": [
       "True"
      ]
     },
     "execution_count": 6,
     "metadata": {},
     "output_type": "execute_result"
    }
   ],
   "source": [
    "# Connect computer to GoPro wifi server.  Flaky.\n",
    "wifi = wireless.Wireless()\n",
    "\n",
    "wifi.connect(ssid='GP26528824', password='surf5334')"
   ]
  },
  {
   "cell_type": "code",
   "execution_count": 8,
   "metadata": {
    "scrolled": false
   },
   "outputs": [
    {
     "data": {
      "application/vnd.jupyter.widget-view+json": {
       "model_id": "6e541147abca45bf8c325a6247592474"
      }
     },
     "metadata": {},
     "output_type": "display_data"
    }
   ],
   "source": [
    "k = gopro.GoProStatus()"
   ]
  },
  {
   "cell_type": "code",
   "execution_count": 9,
   "metadata": {},
   "outputs": [],
   "source": [
    "k.stop()"
   ]
  },
  {
   "cell_type": "code",
   "execution_count": 7,
   "metadata": {
    "scrolled": true
   },
   "outputs": [
    {
     "data": {
      "text/plain": [
       "'http://10.5.5.9/gp/gpControl/status'"
      ]
     },
     "execution_count": 7,
     "metadata": {},
     "output_type": "execute_result"
    }
   ],
   "source": [
    "api.url_status"
   ]
  },
  {
   "cell_type": "code",
   "execution_count": null,
   "metadata": {
    "collapsed": true
   },
   "outputs": [],
   "source": []
  },
  {
   "cell_type": "code",
   "execution_count": null,
   "metadata": {
    "collapsed": true
   },
   "outputs": [],
   "source": []
  },
  {
   "cell_type": "code",
   "execution_count": 33,
   "metadata": {
    "scrolled": true
   },
   "outputs": [
    {
     "name": "stdout",
     "output_type": "stream",
     "text": [
      "\n",
      "100GOPRO\n",
      "http://10.5.5.9:8080/videos/DCIM/100GOPRO/G0010001.JPG 2171379977\n",
      "\n",
      "101GOPRO\n",
      "http://10.5.5.9:8080/videos/DCIM/101GOPRO/G0011000.JPG 2163410788\n",
      "\n",
      "102GOPRO\n",
      "http://10.5.5.9:8080/videos/DCIM/102GOPRO/G0011999.JPG 2161870384\n",
      "\n",
      "103GOPRO\n",
      "http://10.5.5.9:8080/videos/DCIM/103GOPRO/G0012998.JPG 2159166361\n",
      "\n",
      "104GOPRO\n",
      "http://10.5.5.9:8080/videos/DCIM/104GOPRO/G0013997.JPG 2169443914\n",
      "\n",
      "105GOPRO\n",
      "http://10.5.5.9:8080/videos/DCIM/105GOPRO/G0014996.JPG 2182091314\n",
      "\n",
      "106GOPRO\n",
      "http://10.5.5.9:8080/videos/DCIM/106GOPRO/G0015995.JPG 1805213182\n",
      "http://10.5.5.9:8080/videos/DCIM/106GOPRO/GOPR6820.JPG 3702200\n",
      "http://10.5.5.9:8080/videos/DCIM/106GOPRO/GOPR6821.JPG 4722659\n",
      "http://10.5.5.9:8080/videos/DCIM/106GOPRO/GOPR6822.JPG 4099982\n",
      "http://10.5.5.9:8080/videos/DCIM/106GOPRO/GOPR6823.JPG 4101899\n",
      "http://10.5.5.9:8080/videos/DCIM/106GOPRO/GOPR6824.JPG 4102010\n",
      "http://10.5.5.9:8080/videos/DCIM/106GOPRO/GOPR6825.JPG 3556572\n",
      "http://10.5.5.9:8080/videos/DCIM/106GOPRO/GOPR6826.JPG 3568567\n",
      "http://10.5.5.9:8080/videos/DCIM/106GOPRO/GOPR6827.JPG 3469426\n",
      "http://10.5.5.9:8080/videos/DCIM/106GOPRO/GOPR6828.MP4 123157439\n",
      "http://10.5.5.9:8080/videos/DCIM/106GOPRO/GOPR6829.MP4 74511357\n",
      "http://10.5.5.9:8080/videos/DCIM/106GOPRO/GOPR6830.MP4 96963321\n",
      "http://10.5.5.9:8080/videos/DCIM/106GOPRO/GOPR6831.MP4 66826087\n",
      "http://10.5.5.9:8080/videos/DCIM/106GOPRO/GOPR6832.JPG 3142412\n",
      "http://10.5.5.9:8080/videos/DCIM/106GOPRO/GOPR6833.JPG 2993792\n",
      "http://10.5.5.9:8080/videos/DCIM/106GOPRO/G0026834.JPG 24903057\n",
      "http://10.5.5.9:8080/videos/DCIM/106GOPRO/G0036864.JPG 25126746\n",
      "http://10.5.5.9:8080/videos/DCIM/106GOPRO/G0046894.JPG 24907190\n",
      "http://10.5.5.9:8080/videos/DCIM/106GOPRO/G0056924.JPG 25016563\n",
      "http://10.5.5.9:8080/videos/DCIM/106GOPRO/G0066954.JPG 25125571\n",
      "\n",
      "107GOPRO\n",
      "http://10.5.5.9:8080/videos/DCIM/107GOPRO/G0076984.JPG 25292480\n",
      "http://10.5.5.9:8080/videos/DCIM/107GOPRO/G0087014.JPG 9228146\n",
      "http://10.5.5.9:8080/videos/DCIM/107GOPRO/GOPR7025.JPG 3115417\n",
      "http://10.5.5.9:8080/videos/DCIM/107GOPRO/GOPR7026.JPG 2588664\n",
      "http://10.5.5.9:8080/videos/DCIM/107GOPRO/G0097027.JPG 2196268774\n",
      "\n",
      "108GOPRO\n",
      "http://10.5.5.9:8080/videos/DCIM/108GOPRO/G0097983.JPG 1046979360\n",
      "http://10.5.5.9:8080/videos/DCIM/108GOPRO/GOPR8449.MP4 1291136481\n",
      "http://10.5.5.9:8080/videos/DCIM/108GOPRO/GOPR8450.MP4 14116162\n"
     ]
    }
   ],
   "source": [
    "for folder in resp['media']:\n",
    "    print()\n",
    "    print(folder['d'])\n",
    "\n",
    "    folder_name = folder['d']\n",
    "    \n",
    "    for item in folder['fs']:\n",
    "        name = item['n']\n",
    "        size = int(item['s'])\n",
    "        time = int(item['mod'])\n",
    "        \n",
    "#         print(name, size, time)\n",
    "        \n",
    "        url = 'http://10.5.5.9:8080/videos/DCIM/{}/{}'.format(folder_name, name)\n",
    "        \n",
    "        print(url, size)"
   ]
  },
  {
   "cell_type": "code",
   "execution_count": null,
   "metadata": {
    "collapsed": true
   },
   "outputs": [],
   "source": []
  },
  {
   "cell_type": "code",
   "execution_count": null,
   "metadata": {
    "collapsed": true
   },
   "outputs": [],
   "source": []
  }
 ],
 "metadata": {
  "kernelspec": {
   "display_name": "Python 3",
   "language": "python",
   "name": "python3"
  },
  "language_info": {
   "codemirror_mode": {
    "name": "ipython",
    "version": 3
   },
   "file_extension": ".py",
   "mimetype": "text/x-python",
   "name": "python",
   "nbconvert_exporter": "python",
   "pygments_lexer": "ipython3",
   "version": "3.5.3"
  }
 },
 "nbformat": 4,
 "nbformat_minor": 2
}
