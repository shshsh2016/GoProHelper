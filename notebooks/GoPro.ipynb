{
 "cells": [
  {
   "cell_type": "markdown",
   "metadata": {},
   "source": [
    "# GoPro\n",
    "\n",
    "- https://medium.com/@konrad_it/how-to-stream-from-a-gopro-camera-f4a164150797\n",
    "- https://github.com/KonradIT/goprowifihack\n",
    "\n",
    "\n",
    "wireless library: https://github.com/joshvillbrandt/wireless"
   ]
  },
  {
   "cell_type": "markdown",
   "metadata": {},
   "source": [
    "## What Next\n",
    "\n",
    "- Take photos at regular intervals\n",
    "- Maintain database of local photos/videos\n",
    "- Download all files to local storage\n",
    "- Delete files on camera\n",
    "- Establish essential camera settings\n",
    "    - Exposure sensitivity\n",
    "    - shutter time\n",
    "    - white balance, protune, etc.\n",
    "- Multiple, simultaneous comm sessions?\n",
    "    - Take photos at precise intervals\n",
    "    - Batch download/erase photos\n",
    "    - Check camera status\n"
   ]
  },
  {
   "cell_type": "code",
   "execution_count": 14,
   "metadata": {},
   "outputs": [],
   "source": [
    "import os\n",
    "import numpy as np\n",
    "import wireless\n",
    "\n",
    "import context\n",
    "\n",
    "\n",
    "import gopro_helper as gopro\n",
    "from gopro_helper import api\n",
    "from gopro_helper import get\n",
    "from gopro_helper import json_io\n",
    "from gopro_helper import namespace"
   ]
  },
  {
   "cell_type": "code",
   "execution_count": 11,
   "metadata": {
    "collapsed": true
   },
   "outputs": [],
   "source": [
    "# Setup\n",
    "path_data = './data'\n",
    "fname_config = os.path.join(path_data, 'config.json')\n",
    "\n",
    "\n",
    "#-----------------------------\n",
    "if not os.path.isdir(path_data):\n",
    "    os.mkdir(path_data)"
   ]
  },
  {
   "cell_type": "code",
   "execution_count": 64,
   "metadata": {
    "scrolled": true
   },
   "outputs": [
    {
     "data": {
      "text/plain": [
       "True"
      ]
     },
     "execution_count": 64,
     "metadata": {},
     "output_type": "execute_result"
    }
   ],
   "source": [
    "# Connect computer to GoPro wifi server.  Flaky.\n",
    "wifi = wireless.Wireless()\n",
    "\n",
    "wifi.connect(ssid='GP26528824', password='racer7616')"
   ]
  },
  {
   "cell_type": "code",
   "execution_count": 36,
   "metadata": {},
   "outputs": [],
   "source": [
    "api_info = json_io.read(api.fname_json)"
   ]
  },
  {
   "cell_type": "markdown",
   "metadata": {},
   "source": [
    "# JSON API\n",
    "\n",
    "## display hints\n",
    "- don't care\n",
    "\n",
    "## status\n",
    "- refers specifically to 'status' object from status GET\n",
    "- associate field names with ID numbers\n",
    "- categorized by informative groups (system, app, photo, battery, wireless, storage\n",
    "\n",
    "## modes\n",
    "- modes and submodes\n",
    "- other important settings like fps, resolution, etc.\n",
    "- entire subsections for video, photo, audio\n",
    "\n",
    "## services\n",
    "- URLs\n",
    "- list media files, only one I care about\n",
    "- start/stop streaming\n",
    "- firmware stuff\n",
    "- auth stuff\n",
    "\n",
    "## commands\n",
    "- define URLs for issuing commands to camera\n",
    "- says nothing about any additional parameters\n",
    "- some duplicates with services\n",
    "\n",
    "## filters\n",
    "- I think this is used to grey out or disable certain GUI elements based on current settings\n",
    "- don't care\n",
    "\n",
    "\n",
    "## camera mode map\n",
    "- some information on making sense of modes and submodes and their aliases"
   ]
  },
  {
   "cell_type": "code",
   "execution_count": 4,
   "metadata": {},
   "outputs": [],
   "source": [
    "def set_mode(mode='photo', sub_mode='single'):\n",
    "    \n",
    "    url_mode     = api.tpl_mode.format(**api.modes[mode])\n",
    "    url_sub_mode = api.tpl_sub_mode.format(**api.sub_modes[mode][sub_mode])\n",
    "\n",
    "    resp = get(url_mode)\n",
    "    status = gopro.status.status_settings(raw=False)\n",
    "    \n",
    "    resp = get(url_sub_mode)\n",
    "    status = gopro.status.status_settings(raw=False)\n",
    "    "
   ]
  },
  {
   "cell_type": "code",
   "execution_count": 13,
   "metadata": {},
   "outputs": [],
   "source": [
    "set_mode(mode='photo', sub_mode='single')"
   ]
  },
  {
   "cell_type": "code",
   "execution_count": null,
   "metadata": {
    "collapsed": true
   },
   "outputs": [],
   "source": []
  },
  {
   "cell_type": "code",
   "execution_count": null,
   "metadata": {
    "collapsed": true
   },
   "outputs": [],
   "source": []
  },
  {
   "cell_type": "code",
   "execution_count": 33,
   "metadata": {},
   "outputs": [
    {
     "name": "stdout",
     "output_type": "stream",
     "text": [
      "\n",
      "100GOPRO\n",
      "http://10.5.5.9:8080/videos/DCIM/100GOPRO/G0010001.JPG 2171379977\n",
      "\n",
      "101GOPRO\n",
      "http://10.5.5.9:8080/videos/DCIM/101GOPRO/G0011000.JPG 2163410788\n",
      "\n",
      "102GOPRO\n",
      "http://10.5.5.9:8080/videos/DCIM/102GOPRO/G0011999.JPG 2161870384\n",
      "\n",
      "103GOPRO\n",
      "http://10.5.5.9:8080/videos/DCIM/103GOPRO/G0012998.JPG 2159166361\n",
      "\n",
      "104GOPRO\n",
      "http://10.5.5.9:8080/videos/DCIM/104GOPRO/G0013997.JPG 2169443914\n",
      "\n",
      "105GOPRO\n",
      "http://10.5.5.9:8080/videos/DCIM/105GOPRO/G0014996.JPG 2182091314\n",
      "\n",
      "106GOPRO\n",
      "http://10.5.5.9:8080/videos/DCIM/106GOPRO/G0015995.JPG 1805213182\n",
      "http://10.5.5.9:8080/videos/DCIM/106GOPRO/GOPR6820.JPG 3702200\n",
      "http://10.5.5.9:8080/videos/DCIM/106GOPRO/GOPR6821.JPG 4722659\n",
      "http://10.5.5.9:8080/videos/DCIM/106GOPRO/GOPR6822.JPG 4099982\n",
      "http://10.5.5.9:8080/videos/DCIM/106GOPRO/GOPR6823.JPG 4101899\n",
      "http://10.5.5.9:8080/videos/DCIM/106GOPRO/GOPR6824.JPG 4102010\n",
      "http://10.5.5.9:8080/videos/DCIM/106GOPRO/GOPR6825.JPG 3556572\n",
      "http://10.5.5.9:8080/videos/DCIM/106GOPRO/GOPR6826.JPG 3568567\n",
      "http://10.5.5.9:8080/videos/DCIM/106GOPRO/GOPR6827.JPG 3469426\n",
      "http://10.5.5.9:8080/videos/DCIM/106GOPRO/GOPR6828.MP4 123157439\n",
      "http://10.5.5.9:8080/videos/DCIM/106GOPRO/GOPR6829.MP4 74511357\n",
      "http://10.5.5.9:8080/videos/DCIM/106GOPRO/GOPR6830.MP4 96963321\n",
      "http://10.5.5.9:8080/videos/DCIM/106GOPRO/GOPR6831.MP4 66826087\n",
      "http://10.5.5.9:8080/videos/DCIM/106GOPRO/GOPR6832.JPG 3142412\n",
      "http://10.5.5.9:8080/videos/DCIM/106GOPRO/GOPR6833.JPG 2993792\n",
      "http://10.5.5.9:8080/videos/DCIM/106GOPRO/G0026834.JPG 24903057\n",
      "http://10.5.5.9:8080/videos/DCIM/106GOPRO/G0036864.JPG 25126746\n",
      "http://10.5.5.9:8080/videos/DCIM/106GOPRO/G0046894.JPG 24907190\n",
      "http://10.5.5.9:8080/videos/DCIM/106GOPRO/G0056924.JPG 25016563\n",
      "http://10.5.5.9:8080/videos/DCIM/106GOPRO/G0066954.JPG 25125571\n",
      "\n",
      "107GOPRO\n",
      "http://10.5.5.9:8080/videos/DCIM/107GOPRO/G0076984.JPG 25292480\n",
      "http://10.5.5.9:8080/videos/DCIM/107GOPRO/G0087014.JPG 9228146\n",
      "http://10.5.5.9:8080/videos/DCIM/107GOPRO/GOPR7025.JPG 3115417\n",
      "http://10.5.5.9:8080/videos/DCIM/107GOPRO/GOPR7026.JPG 2588664\n",
      "http://10.5.5.9:8080/videos/DCIM/107GOPRO/G0097027.JPG 2196268774\n",
      "\n",
      "108GOPRO\n",
      "http://10.5.5.9:8080/videos/DCIM/108GOPRO/G0097983.JPG 1046979360\n",
      "http://10.5.5.9:8080/videos/DCIM/108GOPRO/GOPR8449.MP4 1291136481\n",
      "http://10.5.5.9:8080/videos/DCIM/108GOPRO/GOPR8450.MP4 14116162\n"
     ]
    }
   ],
   "source": [
    "for folder in resp['media']:\n",
    "    print()\n",
    "    print(folder['d'])\n",
    "\n",
    "    folder_name = folder['d']\n",
    "    \n",
    "    for item in folder['fs']:\n",
    "        name = item['n']\n",
    "        size = int(item['s'])\n",
    "        time = int(item['mod'])\n",
    "        \n",
    "#         print(name, size, time)\n",
    "        \n",
    "        url = 'http://10.5.5.9:8080/videos/DCIM/{}/{}'.format(folder_name, name)\n",
    "        \n",
    "        print(url, size)"
   ]
  },
  {
   "cell_type": "code",
   "execution_count": null,
   "metadata": {
    "collapsed": true
   },
   "outputs": [],
   "source": []
  },
  {
   "cell_type": "code",
   "execution_count": null,
   "metadata": {
    "collapsed": true
   },
   "outputs": [],
   "source": []
  },
  {
   "cell_type": "code",
   "execution_count": null,
   "metadata": {
    "collapsed": true
   },
   "outputs": [],
   "source": []
  }
 ],
 "metadata": {
  "kernelspec": {
   "display_name": "Python 3",
   "language": "python",
   "name": "python3"
  },
  "language_info": {
   "codemirror_mode": {
    "name": "ipython",
    "version": 3
   },
   "file_extension": ".py",
   "mimetype": "text/x-python",
   "name": "python",
   "nbconvert_exporter": "python",
   "pygments_lexer": "ipython3",
   "version": "3.5.3"
  }
 },
 "nbformat": 4,
 "nbformat_minor": 2
}
