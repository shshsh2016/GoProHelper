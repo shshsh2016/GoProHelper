{
 "cells": [
  {
   "cell_type": "markdown",
   "metadata": {},
   "source": [
    "# GoPro\n",
    "\n",
    "- https://medium.com/@konrad_it/how-to-stream-from-a-gopro-camera-f4a164150797\n",
    "- https://github.com/KonradIT/goprowifihack\n",
    "\n",
    "\n",
    "wireless library: https://github.com/joshvillbrandt/wireless"
   ]
  },
  {
   "cell_type": "markdown",
   "metadata": {},
   "source": [
    "## What Next\n",
    "\n",
    "- Take photos at regular intervals\n",
    "- Establish essential camera settings\n",
    "    - Exposure sensitivity\n",
    "    - shutter time\n",
    "    - white balance, protune, etc.\n",
    "- Multiple, simultaneous comm sessions?\n",
    "    - Take photos at precise intervals\n",
    "    - Batch download/erase photos\n",
    "    - Check camera status\n"
   ]
  },
  {
   "cell_type": "code",
   "execution_count": 1,
   "metadata": {
    "collapsed": true
   },
   "outputs": [],
   "source": [
    "import context\n",
    "\n",
    "import gopro_helper as gopro"
   ]
  },
  {
   "cell_type": "markdown",
   "metadata": {},
   "source": [
    "# Connect to WiFi Network"
   ]
  },
  {
   "cell_type": "code",
   "execution_count": 2,
   "metadata": {},
   "outputs": [
    {
     "name": "stdout",
     "output_type": "stream",
     "text": [
      "GreenCanoe        67%\n",
      "BlueBalloon       90%\n",
      "HighFive          59%\n",
      "Ehrlich           47%\n",
      "GP26528824        65%\n",
      "BlueBalloon       45%\n",
      "GreenCanoe        45%\n",
      "Ehrlich-ext       39%\n",
      "GreenCanoe        69%\n",
      "GreenCanoe        75%\n",
      "Ehrlich 5G        29%\n",
      "BlueBalloon       74%\n",
      "GreenCanoe        85%\n",
      "TG1672GF2         34%\n",
      "BlueBalloon       69%\n",
      "BlueBalloon       80%\n",
      "cia_monitoringA   19%\n",
      "Lady Di           24%\n",
      "BlueBalloon       92%\n",
      "Cocea@Mpk         22%\n",
      "cia_monitoringA   20%\n"
     ]
    }
   ],
   "source": [
    "gopro.network.scan()"
   ]
  },
  {
   "cell_type": "code",
   "execution_count": 11,
   "metadata": {},
   "outputs": [
    {
     "data": {
      "text/plain": [
       "'GP26528824'"
      ]
     },
     "execution_count": 11,
     "metadata": {},
     "output_type": "execute_result"
    }
   ],
   "source": [
    "gopro.network.current_connection()"
   ]
  },
  {
   "cell_type": "code",
   "execution_count": 9,
   "metadata": {
    "collapsed": true
   },
   "outputs": [],
   "source": [
    "ssid = 'GP26528824'\n",
    "# ssid = 'GreenCanoe'"
   ]
  },
  {
   "cell_type": "code",
   "execution_count": 11,
   "metadata": {
    "collapsed": true
   },
   "outputs": [],
   "source": [
    "# ssid = 'GP26528824'\n",
    "ssid = 'GreenCanoe'"
   ]
  },
  {
   "cell_type": "code",
   "execution_count": 10,
   "metadata": {},
   "outputs": [
    {
     "name": "stdout",
     "output_type": "stream",
     "text": [
      "disconnected  [new_activation]\n",
      "config\n",
      "ip_config\n",
      "secondaries\n",
      "activated\n",
      "ok: GP26528824\n"
     ]
    }
   ],
   "source": [
    "device = gopro.network.connect_wifi(ssid)\n",
    "gopro.network.check_state(device)"
   ]
  },
  {
   "cell_type": "code",
   "execution_count": 5,
   "metadata": {},
   "outputs": [
    {
     "ename": "NameError",
     "evalue": "name 'device' is not defined",
     "output_type": "error",
     "traceback": [
      "\u001b[0;31m---------------------------------------------------------------------------\u001b[0m",
      "\u001b[0;31mNameError\u001b[0m                                 Traceback (most recent call last)",
      "\u001b[0;32m<ipython-input-5-515206eed1e2>\u001b[0m in \u001b[0;36m<module>\u001b[0;34m()\u001b[0m\n\u001b[0;32m----> 1\u001b[0;31m \u001b[0mgopro\u001b[0m\u001b[0;34m.\u001b[0m\u001b[0mnetwork\u001b[0m\u001b[0;34m.\u001b[0m\u001b[0mcheck_state\u001b[0m\u001b[0;34m(\u001b[0m\u001b[0mdevice\u001b[0m\u001b[0;34m)\u001b[0m\u001b[0;34m\u001b[0m\u001b[0m\n\u001b[0m",
      "\u001b[0;31mNameError\u001b[0m: name 'device' is not defined"
     ]
    }
   ],
   "source": [
    "gopro.network.check_state(device)"
   ]
  },
  {
   "cell_type": "code",
   "execution_count": 6,
   "metadata": {
    "scrolled": false
   },
   "outputs": [
    {
     "data": {
      "application/vnd.jupyter.widget-view+json": {
       "model_id": "0fc2b98699f546449c516239d8692f09"
      }
     },
     "metadata": {},
     "output_type": "display_data"
    }
   ],
   "source": [
    "k = gopro.GoProStatus()"
   ]
  },
  {
   "cell_type": "code",
   "execution_count": 7,
   "metadata": {},
   "outputs": [],
   "source": [
    "k.stop()"
   ]
  },
  {
   "cell_type": "code",
   "execution_count": 8,
   "metadata": {},
   "outputs": [
    {
     "name": "stdout",
     "output_type": "stream",
     "text": [
      "http://10.5.5.9/gp/gpControl/status\n"
     ]
    }
   ],
   "source": [
    "print(gopro.api.url_status)"
   ]
  },
  {
   "cell_type": "code",
   "execution_count": null,
   "metadata": {
    "collapsed": true
   },
   "outputs": [],
   "source": []
  }
 ],
 "metadata": {
  "kernelspec": {
   "display_name": "Python 3",
   "language": "python",
   "name": "python3"
  },
  "language_info": {
   "codemirror_mode": {
    "name": "ipython",
    "version": 3
   },
   "file_extension": ".py",
   "mimetype": "text/x-python",
   "name": "python",
   "nbconvert_exporter": "python",
   "pygments_lexer": "ipython3",
   "version": "3.6.1"
  }
 },
 "nbformat": 4,
 "nbformat_minor": 2
}
