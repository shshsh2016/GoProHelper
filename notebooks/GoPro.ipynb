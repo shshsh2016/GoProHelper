{
 "cells": [
  {
   "cell_type": "markdown",
   "metadata": {},
   "source": [
    "# GoPro\n",
    "\n",
    "- https://medium.com/@konrad_it/how-to-stream-from-a-gopro-camera-f4a164150797\n",
    "- https://github.com/KonradIT/goprowifihack\n",
    "\n",
    "\n",
    "wireless library: https://github.com/joshvillbrandt/wireless"
   ]
  },
  {
   "cell_type": "markdown",
   "metadata": {},
   "source": [
    "## What Next\n",
    "\n",
    "- Take photos at regular intervals\n",
    "- Maintain database of local photos/videos\n",
    "- Download all files to local storage\n",
    "- Delete files on camera\n",
    "- Establish essential camera settings\n",
    "    - Exposure sensitivity\n",
    "    - shutter time\n",
    "    - white balance, protune, etc.\n",
    "- Multiple, simultaneous comm sessions?\n",
    "    - Take photos at precise intervals\n",
    "    - Batch download/erase photos\n",
    "    - Check camera status\n"
   ]
  },
  {
   "cell_type": "code",
   "execution_count": 1,
   "metadata": {},
   "outputs": [],
   "source": [
    "import wireless\n",
    "\n",
    "import context\n",
    "from gopro_helper import gopro\n",
    "from gopro_helper import api"
   ]
  },
  {
   "cell_type": "code",
   "execution_count": 79,
   "metadata": {
    "scrolled": true
   },
   "outputs": [
    {
     "data": {
      "text/plain": [
       "False"
      ]
     },
     "execution_count": 79,
     "metadata": {},
     "output_type": "execute_result"
    }
   ],
   "source": [
    "# Connect computer to GoPro wifi server.  Flaky.\n",
    "wifi = wireless.Wireless()\n",
    "\n",
    "wifi.connect(ssid='GP26528824', password='surf5334')"
   ]
  },
  {
   "cell_type": "code",
   "execution_count": 2,
   "metadata": {
    "scrolled": false
   },
   "outputs": [
    {
     "data": {
      "application/vnd.jupyter.widget-view+json": {
       "model_id": "790734e400a84df4aada600912e42aa9"
      }
     },
     "metadata": {},
     "output_type": "display_data"
    }
   ],
   "source": [
    "k = gopro.GoProStatus()"
   ]
  },
  {
   "cell_type": "code",
   "execution_count": 9,
   "metadata": {},
   "outputs": [],
   "source": [
    "k.stop()"
   ]
  },
  {
   "cell_type": "code",
   "execution_count": 80,
   "metadata": {},
   "outputs": [
    {
     "name": "stdout",
     "output_type": "stream",
     "text": [
      "http://10.5.5.9/gp/gpControl/status\n"
     ]
    }
   ],
   "source": [
    "print(api.url_status)"
   ]
  },
  {
   "cell_type": "code",
   "execution_count": 10,
   "metadata": {
    "collapsed": true
   },
   "outputs": [],
   "source": [
    "import ipywidgets\n",
    "import IPython"
   ]
  },
  {
   "cell_type": "code",
   "execution_count": 115,
   "metadata": {
    "collapsed": true
   },
   "outputs": [],
   "source": [
    "template = \"\"\"\n",
    "<p style=\"font-family:  DejaVu Sans Mono, Consolas, Lucida Console, Monospace;'\n",
    "          font-variant: normal;\n",
    "          font-weight:  normal;\n",
    "          font-style:   normal;\n",
    "          font-size:    10pt; \">\n",
    "        {content:}</p>\n",
    "\"\"\""
   ]
  },
  {
   "cell_type": "code",
   "execution_count": 116,
   "metadata": {},
   "outputs": [],
   "source": [
    "content = \"\"\"Hello!\n",
    "I am not a robot!\n",
    "\"\"\"\n",
    "\n",
    "content = '<br>'.join(content.split('\\n'))\n",
    "\n",
    "text = template.format(content=content)"
   ]
  },
  {
   "cell_type": "code",
   "execution_count": 117,
   "metadata": {
    "collapsed": true
   },
   "outputs": [],
   "source": [
    "w = ipywidgets.HTML(value=text)"
   ]
  },
  {
   "cell_type": "code",
   "execution_count": 118,
   "metadata": {},
   "outputs": [
    {
     "data": {
      "application/vnd.jupyter.widget-view+json": {
       "model_id": "fea9dc233e134456b84249e2902ea8bc"
      }
     },
     "metadata": {},
     "output_type": "display_data"
    }
   ],
   "source": [
    "w"
   ]
  },
  {
   "cell_type": "code",
   "execution_count": null,
   "metadata": {
    "collapsed": true
   },
   "outputs": [],
   "source": []
  }
 ],
 "metadata": {
  "kernelspec": {
   "display_name": "Python 3",
   "language": "python",
   "name": "python3"
  },
  "language_info": {
   "codemirror_mode": {
    "name": "ipython",
    "version": 3
   },
   "file_extension": ".py",
   "mimetype": "text/x-python",
   "name": "python",
   "nbconvert_exporter": "python",
   "pygments_lexer": "ipython3",
   "version": "3.5.3"
  }
 },
 "nbformat": 4,
 "nbformat_minor": 2
}
