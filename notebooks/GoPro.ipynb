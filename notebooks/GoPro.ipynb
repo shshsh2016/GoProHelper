{
 "cells": [
  {
   "cell_type": "markdown",
   "metadata": {},
   "source": [
    "# GoPro\n",
    "\n",
    "- https://medium.com/@konrad_it/how-to-stream-from-a-gopro-camera-f4a164150797\n",
    "- https://github.com/KonradIT/goprowifihack\n",
    "\n",
    "\n",
    "wireless library: https://github.com/joshvillbrandt/wireless"
   ]
  },
  {
   "cell_type": "markdown",
   "metadata": {},
   "source": [
    "## What Next\n",
    "\n",
    "- Take photos at regular intervals\n",
    "- Maintain database of local photos/videos\n",
    "- Download all files to local storage\n",
    "- Delete files on camera\n",
    "- Establish essential camera settings\n",
    "    - Exposure sensitivity\n",
    "    - shutter time\n",
    "    - white balance, protune, etc.\n",
    "- Multiple, simultaneous comm sessions?\n",
    "    - Take photos at precise intervals\n",
    "    - Batch download/erase photos\n",
    "    - Check camera status\n"
   ]
  },
  {
   "cell_type": "code",
   "execution_count": 22,
   "metadata": {},
   "outputs": [],
   "source": [
    "import os\n",
    "import numpy as np\n",
    "import wireless\n",
    "\n",
    "import context\n",
    "from gopro_helper import gopro\n",
    "from gopro_helper import api"
   ]
  },
  {
   "cell_type": "code",
   "execution_count": 6,
   "metadata": {
    "collapsed": true
   },
   "outputs": [],
   "source": [
    "# Setup\n",
    "path_data = './data'\n",
    "fname_config = os.path.join(path_data, 'config.json')\n",
    "\n",
    "\n",
    "#-----------------------------\n",
    "if not os.path.isdir(path_data):\n",
    "    os.mkdir(path_data)"
   ]
  },
  {
   "cell_type": "code",
   "execution_count": 46,
   "metadata": {
    "scrolled": true
   },
   "outputs": [
    {
     "data": {
      "text/plain": [
       "True"
      ]
     },
     "execution_count": 46,
     "metadata": {},
     "output_type": "execute_result"
    }
   ],
   "source": [
    "# Connect computer to GoPro wifi server.  Flaky.\n",
    "\n",
    "wifi = wireless.Wireless()\n",
    "\n",
    "wifi.connect(ssid='GP26528824', password='racer7616')"
   ]
  },
  {
   "cell_type": "code",
   "execution_count": 25,
   "metadata": {},
   "outputs": [
    {
     "data": {
      "text/plain": [
       "{'on_screen_display': {0: 'off', 1: 'on', 'on': 1, 'off': 0},\n",
       " 'default_video_mode': {'video': 0,\n",
       "  0: 'video',\n",
       "  2: 'video+photo',\n",
       "  3: 'looping',\n",
       "  1: 'timelapse video',\n",
       "  'timelapse video': 1,\n",
       "  'video+photo': 2,\n",
       "  'looping': 3},\n",
       " 'auto_off': {0: 'never',\n",
       "  1: '1m',\n",
       "  '5m': 4,\n",
       "  3: '3m',\n",
       "  4: '5m',\n",
       "  6: '15m',\n",
       "  7: '30m',\n",
       "  2: '2m',\n",
       "  '3m': 3,\n",
       "  '15m': 6,\n",
       "  'never': 0,\n",
       "  '1m': 1,\n",
       "  '2m': 2,\n",
       "  '30m': 7},\n",
       " 1: {'video': 0,\n",
       "  0: 'video',\n",
       "  2: 'video+photo',\n",
       "  3: 'looping',\n",
       "  1: 'timelapse video',\n",
       "  'timelapse video': 1,\n",
       "  'video+photo': 2,\n",
       "  'looping': 3},\n",
       " 'white_balance': {0: 'auto',\n",
       "  '4000k': 5,\n",
       "  2: '5500k',\n",
       "  3: '6500k',\n",
       "  4: 'native',\n",
       "  5: '4000k',\n",
       "  6: '4800k',\n",
       "  1: '3000k',\n",
       "  '3000k': 1,\n",
       "  7: '6000k',\n",
       "  '5500k': 2,\n",
       "  '4800k': 6,\n",
       "  '6500k': 3,\n",
       "  '6000k': 7,\n",
       "  'native': 4,\n",
       "  'auto': 0},\n",
       " 16: {0: 'single',\n",
       "  1: 'continuous',\n",
       "  2: 'night',\n",
       "  'continuous': 1,\n",
       "  'night': 2,\n",
       "  'single': 0},\n",
       " 17: {0: '12mp_wide',\n",
       "  1: '7mp_wide',\n",
       "  '12mp_linear': 10,\n",
       "  3: '5mp_med',\n",
       "  8: '12mp_narrow',\n",
       "  9: '12mp_med',\n",
       "  10: '12mp_linear',\n",
       "  2: '7mp_med',\n",
       "  '7mp_med': 2,\n",
       "  '12mp_med': 9,\n",
       "  '12mp_wide': 0,\n",
       "  '5mp_med': 3,\n",
       "  '12mp_narrow': 8,\n",
       "  '7mp_wide': 1},\n",
       " 18: {0: '3', 1: '5', '10': 2, '5': 1, '3': 0, 2: '10'},\n",
       " 20: {0: 'off', 1: 'on', 'on': 1, 'off': 0},\n",
       " 21: {0: 'off', 1: 'on', 'on': 1, 'off': 0},\n",
       " 22: {0: 'auto',\n",
       "  '4000k': 5,\n",
       "  2: '5500k',\n",
       "  3: '6500k',\n",
       "  4: 'native',\n",
       "  5: '4000k',\n",
       "  6: '4800k',\n",
       "  1: '3000k',\n",
       "  '3000k': 1,\n",
       "  7: '6000k',\n",
       "  '5500k': 2,\n",
       "  '4800k': 6,\n",
       "  '6500k': 3,\n",
       "  '6000k': 7,\n",
       "  'native': 4,\n",
       "  'auto': 0},\n",
       " 23: {0: 'gopro', 1: 'flat', 'flat': 1, 'gopro': 0},\n",
       " 24: {'100': 3,\n",
       "  0: '800',\n",
       "  2: '200',\n",
       "  3: '100',\n",
       "  4: '1600',\n",
       "  '400': 1,\n",
       "  1: '400',\n",
       "  '200': 2,\n",
       "  '800': 0,\n",
       "  '1600': 4},\n",
       " 25: {0: 'high', 1: 'med', 2: 'low', 'low': 2, 'med': 1, 'high': 0},\n",
       " 26: {'+1.0': 2,\n",
       "  '-1.0': 6,\n",
       "  2: '+1.0',\n",
       "  '-0.5': 5,\n",
       "  4: '0.0',\n",
       "  5: '-0.5',\n",
       "  6: '-1.0',\n",
       "  1: '+1.5',\n",
       "  8: '-2.0',\n",
       "  '+2.0': 0,\n",
       "  '0.0': 4,\n",
       "  7: '-1.5',\n",
       "  3: '+0.5',\n",
       "  '+1.5': 1,\n",
       "  '+0.5': 3,\n",
       "  '-2.0': 8,\n",
       "  '-1.5': 7,\n",
       "  0: '+2.0'},\n",
       " 27: {0: 'burst',\n",
       "  1: 'timelapse',\n",
       "  2: 'nightlapse',\n",
       "  'burst': 0,\n",
       "  'timelapse': 1,\n",
       "  'nightlapse': 2},\n",
       " 'gps': {0: 'off', 1: 'on', 'on': 1, 'off': 0},\n",
       " 'default_photo_mode': {0: 'single',\n",
       "  1: 'continuous',\n",
       "  2: 'night',\n",
       "  'continuous': 1,\n",
       "  'night': 2,\n",
       "  'single': 0},\n",
       " 'wdr_image': {0: 'off', 1: 'on', 'on': 1, 'off': 0},\n",
       " 52: {'up': 1, 1: 'up', 2: 'down', 0: 'auto', 'auto': 0, 'down': 2},\n",
       " 54: {0: 'off', 1: 'on', 'on': 1, 'off': 0},\n",
       " 'protune': {0: 'off', 1: 'on', 'on': 1, 'off': 0},\n",
       " 57: {'ntsc': 0, 0: 'ntsc', 1: 'pal', 'pal': 1},\n",
       " 58: {0: 'off', 1: 'on', 'on': 1, 'off': 0},\n",
       " 59: {0: 'never',\n",
       "  1: '1m',\n",
       "  '5m': 4,\n",
       "  3: '3m',\n",
       "  4: '5m',\n",
       "  6: '15m',\n",
       "  7: '30m',\n",
       "  2: '2m',\n",
       "  '3m': 3,\n",
       "  '15m': 6,\n",
       "  'never': 0,\n",
       "  '1m': 1,\n",
       "  '2m': 2,\n",
       "  '30m': 7},\n",
       " 'quick_capture': {0: 'off', 1: 'on', 'on': 1, 'off': 0},\n",
       " 'video_format': {'ntsc': 0, 0: 'ntsc', 1: 'pal', 'pal': 1},\n",
       " 'continuous_rate': {0: '3', 1: '5', '10': 2, '5': 1, '3': 0, 2: '10'},\n",
       " 'protune_iso_max': {'100': 3,\n",
       "  0: '800',\n",
       "  2: '200',\n",
       "  3: '100',\n",
       "  4: '1600',\n",
       "  '400': 1,\n",
       "  1: '400',\n",
       "  '200': 2,\n",
       "  '800': 0,\n",
       "  '1600': 4},\n",
       " 'default_multishot_mode': {0: 'burst',\n",
       "  1: 'timelapse',\n",
       "  2: 'nightlapse',\n",
       "  'burst': 0,\n",
       "  'timelapse': 1,\n",
       "  'nightlapse': 2},\n",
       " 75: {'100': 3,\n",
       "  0: '800',\n",
       "  2: '200',\n",
       "  3: '100',\n",
       "  4: '1600',\n",
       "  '400': 1,\n",
       "  1: '400',\n",
       "  '200': 2,\n",
       "  '800': 0,\n",
       "  '1600': 4},\n",
       " 77: {0: 'off', 1: 'on', 'on': 1, 'off': 0},\n",
       " 'sharpness': {0: 'high', 1: 'med', 2: 'low', 'low': 2, 'med': 1, 'high': 0},\n",
       " 82: {0: 'off', 1: 'on', 'on': 1, 'off': 0},\n",
       " 83: {0: 'off', 1: 'on', 'on': 1, 'off': 0},\n",
       " 'spot_meter': {0: 'off', 1: 'on', 'on': 1, 'off': 0},\n",
       " 'protune_iso_min': {'100': 3,\n",
       "  0: '800',\n",
       "  2: '200',\n",
       "  3: '100',\n",
       "  4: '1600',\n",
       "  '400': 1,\n",
       "  1: '400',\n",
       "  '200': 2,\n",
       "  '800': 0,\n",
       "  '1600': 4},\n",
       " 'ev': {'+1.0': 2,\n",
       "  '-1.0': 6,\n",
       "  2: '+1.0',\n",
       "  '-0.5': 5,\n",
       "  4: '0.0',\n",
       "  5: '-0.5',\n",
       "  6: '-1.0',\n",
       "  1: '+1.5',\n",
       "  8: '-2.0',\n",
       "  '+2.0': 0,\n",
       "  '0.0': 4,\n",
       "  7: '-1.5',\n",
       "  3: '+0.5',\n",
       "  '+1.5': 1,\n",
       "  '+0.5': 3,\n",
       "  '-2.0': 8,\n",
       "  '-1.5': 7,\n",
       "  0: '+2.0'},\n",
       " 'leds': {0: 'off', 1: 'front', 'on': 2, 'front': 1, 'off': 0, 2: 'on'},\n",
       " 91: {0: 'off', 1: 'front', 'on': 2, 'front': 1, 'off': 0, 2: 'on'},\n",
       " 'raw_image': {0: 'off', 1: 'on', 'on': 1, 'off': 0},\n",
       " 'orientation': {'up': 1, 1: 'up', 2: 'down', 0: 'auto', 'auto': 0, 'down': 2},\n",
       " 'color': {0: 'gopro', 1: 'flat', 'flat': 1, 'gopro': 0},\n",
       " 'resolution': {0: '12mp_wide',\n",
       "  1: '7mp_wide',\n",
       "  '12mp_linear': 10,\n",
       "  3: '5mp_med',\n",
       "  8: '12mp_narrow',\n",
       "  9: '12mp_med',\n",
       "  10: '12mp_linear',\n",
       "  2: '7mp_med',\n",
       "  '7mp_med': 2,\n",
       "  '12mp_med': 9,\n",
       "  '12mp_wide': 0,\n",
       "  '5mp_med': 3,\n",
       "  '12mp_narrow': 8,\n",
       "  '7mp_wide': 1}}"
      ]
     },
     "execution_count": 25,
     "metadata": {},
     "output_type": "execute_result"
    }
   ],
   "source": [
    "api.feature_photo_options"
   ]
  },
  {
   "cell_type": "code",
   "execution_count": 30,
   "metadata": {},
   "outputs": [
    {
     "data": {
      "text/plain": [
       "{'mode': 1, 'sub': 0}"
      ]
     },
     "execution_count": 30,
     "metadata": {},
     "output_type": "execute_result"
    }
   ],
   "source": [
    "api.sub_modes['photo']['single']"
   ]
  },
  {
   "cell_type": "code",
   "execution_count": 27,
   "metadata": {},
   "outputs": [
    {
     "data": {
      "text/plain": [
       "'http://10.5.5.9/gp/gpControl/command/mode?p=0'"
      ]
     },
     "execution_count": 27,
     "metadata": {},
     "output_type": "execute_result"
    }
   ],
   "source": [
    "api.tpl_mode.format(**api.modes['video'])"
   ]
  },
  {
   "cell_type": "code",
   "execution_count": 33,
   "metadata": {},
   "outputs": [],
   "source": [
    "mode='photo'\n",
    "sub_mode='single'\n",
    "\n",
    "url_mode     = api.tpl_mode.format(**api.modes[mode])\n",
    "url_sub_mode = api.tpl_sub_mode.format(**api.sub_modes[mode][sub_mode])\n"
   ]
  },
  {
   "cell_type": "code",
   "execution_count": 35,
   "metadata": {},
   "outputs": [
    {
     "data": {
      "text/plain": [
       "'http://10.5.5.9/gp/gpControl/command/sub_mode?mode=1&sub_mode=0'"
      ]
     },
     "execution_count": 35,
     "metadata": {},
     "output_type": "execute_result"
    }
   ],
   "source": [
    "url_sub_mode"
   ]
  },
  {
   "cell_type": "code",
   "execution_count": 38,
   "metadata": {},
   "outputs": [],
   "source": [
    "\n",
    "def set_mode(mode='photo', sub_mode='single'):\n",
    "    \n",
    "    url_mode     = api.tpl_mode.format(**api.modes[mode])\n",
    "    url_sub_mode = api.tpl_sub_mode.format(**api.sub_modes[mode][sub_mode])\n",
    "\n",
    "\n",
    "    resp = gopro.get(url_mode)\n",
    "    \n",
    "    return resp"
   ]
  },
  {
   "cell_type": "code",
   "execution_count": 47,
   "metadata": {},
   "outputs": [
    {
     "data": {
      "text/plain": [
       "{}"
      ]
     },
     "execution_count": 47,
     "metadata": {},
     "output_type": "execute_result"
    }
   ],
   "source": [
    "set_mode()"
   ]
  },
  {
   "cell_type": "code",
   "execution_count": null,
   "metadata": {
    "collapsed": true
   },
   "outputs": [],
   "source": []
  },
  {
   "cell_type": "code",
   "execution_count": 15,
   "metadata": {},
   "outputs": [],
   "source": [
    "files = gopro.get_file_list(details=False)"
   ]
  },
  {
   "cell_type": "code",
   "execution_count": 16,
   "metadata": {},
   "outputs": [
    {
     "name": "stdout",
     "output_type": "stream",
     "text": [
      "http://10.5.5.9:8080/videos/DCIM/100GOPRO/G0010001.JPG\n"
     ]
    }
   ],
   "source": [
    "print(files[0]['url'])"
   ]
  },
  {
   "cell_type": "code",
   "execution_count": 48,
   "metadata": {},
   "outputs": [
    {
     "name": "stdout",
     "output_type": "stream",
     "text": [
      "unknown index: 18 continuous_rate 4\n"
     ]
    }
   ],
   "source": [
    "results = gopro.status_settings()"
   ]
  },
  {
   "cell_type": "code",
   "execution_count": 49,
   "metadata": {},
   "outputs": [
    {
     "data": {
      "text/plain": [
       "{'auto_off': '30m',\n",
       " 'battery_level': 78,\n",
       " 'color': 'gopro',\n",
       " 'default_multishot_mode': 'burst',\n",
       " 'default_photo_mode': 'single',\n",
       " 'default_video_mode': 'video',\n",
       " 'ev': '0.0',\n",
       " 'gps': 'on',\n",
       " 'leds': 'on',\n",
       " 'mode': 'photo',\n",
       " 'name': 'GP26528824',\n",
       " 'number_videos': 6,\n",
       " 'on_screen_display': 'on',\n",
       " 'orientation': 'auto',\n",
       " 'processing': 0,\n",
       " 'protune': 'on',\n",
       " 'protune_iso_max': '400',\n",
       " 'protune_iso_min': '100',\n",
       " 'quick_capture': 'off',\n",
       " 'raw_image': 'off',\n",
       " 'remaining_photos': 16422,\n",
       " 'remaining_video': 4765,\n",
       " 'resolution': '12mp_linear',\n",
       " 'sharpness': 'low',\n",
       " 'spot_meter': 'off',\n",
       " 'storage': 42040064,\n",
       " 'submode': 'Continuous',\n",
       " 'video_duration': 0,\n",
       " 'video_format': 'ntsc',\n",
       " 'wdr_image': 'on',\n",
       " 'white_balance': '3000k'}"
      ]
     },
     "execution_count": 49,
     "metadata": {},
     "output_type": "execute_result"
    }
   ],
   "source": [
    "results"
   ]
  },
  {
   "cell_type": "code",
   "execution_count": null,
   "metadata": {
    "collapsed": true
   },
   "outputs": [],
   "source": []
  },
  {
   "cell_type": "code",
   "execution_count": 130,
   "metadata": {},
   "outputs": [
    {
     "name": "stdout",
     "output_type": "stream",
     "text": [
      "2185295\n",
      "2179929\n",
      "2186642\n",
      "2185188\n",
      "2178855\n",
      "2217460\n",
      "2187615\n",
      "2179915\n",
      "2205340\n",
      "2186516\n",
      "2181913\n",
      "2197841\n",
      "2189777\n",
      "2185054\n",
      "2190917\n",
      "2189559\n",
      "2191931\n",
      "2194618\n",
      "2192796\n",
      "2205358\n",
      "2192908\n",
      "2186659\n",
      "2193132\n",
      "2186155\n",
      "2187441\n",
      "2182752\n",
      "2182306\n",
      "2192578\n",
      "2173674\n",
      "2178594\n",
      "2202120\n",
      "2165852\n",
      "2174915\n",
      "2216290\n",
      "2167056\n",
      "2165599\n",
      "2184587\n",
      "2167875\n",
      "2166732\n",
      "2182381\n",
      "2171959\n",
      "2167357\n",
      "2211310\n",
      "2175221\n",
      "2166490\n",
      "2198089\n",
      "2180001\n",
      "2173609\n",
      "2190250\n",
      "2184491\n"
     ]
    }
   ],
   "source": [
    "for f in files[:50]:\n",
    "    api.download(f['url'])"
   ]
  },
  {
   "cell_type": "code",
   "execution_count": 111,
   "metadata": {},
   "outputs": [
    {
     "name": "stdout",
     "output_type": "stream",
     "text": [
      "100GOPRO\n",
      "{'t': 't', 'n': 'G0010001.JPG', 'g': '1', 'l': '999', 'mod': '1487958902', 'm': [], 'b': '1', 's': '2171379977'}\n",
      "101GOPRO\n",
      "{'t': 't', 'n': 'G0011000.JPG', 'g': '1', 'l': '1998', 'mod': '1487959568', 'm': [], 'b': '1000', 's': '2163410788'}\n",
      "102GOPRO\n",
      "{'t': 't', 'n': 'G0011999.JPG', 'g': '1', 'l': '2997', 'mod': '1487960234', 'm': [], 'b': '1999', 's': '2161870384'}\n",
      "103GOPRO\n",
      "{'t': 't', 'n': 'G0012998.JPG', 'g': '1', 'l': '3996', 'mod': '1487960900', 'm': [], 'b': '2998', 's': '2159166361'}\n",
      "104GOPRO\n",
      "{'t': 't', 'n': 'G0013997.JPG', 'g': '1', 'l': '4995', 'mod': '1487961566', 'm': [], 'b': '3997', 's': '2169443914'}\n",
      "105GOPRO\n",
      "{'t': 't', 'n': 'G0014996.JPG', 'g': '1', 'l': '5994', 'mod': '1487962232', 'm': [], 'b': '4996', 's': '2182091314'}\n",
      "106GOPRO\n",
      "{'t': 't', 'n': 'G0015995.JPG', 'g': '1', 'l': '6819', 'mod': '1487962898', 'm': [], 'b': '5995', 's': '1805213182'}\n",
      "{'s': '3702200', 'n': 'GOPR6820.JPG', 'mod': '1487963740'}\n",
      "{'s': '4722659', 'n': 'GOPR6821.JPG', 'mod': '1487963858'}\n",
      "{'s': '4099982', 'n': 'GOPR6822.JPG', 'mod': '1487965174'}\n",
      "{'s': '4101899', 'n': 'GOPR6823.JPG', 'mod': '1487965198'}\n",
      "{'s': '4102010', 'n': 'GOPR6824.JPG', 'mod': '1487965266'}\n",
      "{'s': '3556572', 'n': 'GOPR6825.JPG', 'mod': '1487965322'}\n",
      "{'s': '3568567', 'n': 'GOPR6826.JPG', 'mod': '1487965328'}\n",
      "{'s': '3469426', 'n': 'GOPR6827.JPG', 'mod': '1487965374'}\n",
      "{'s': '123157439', 'n': 'GOPR6828.MP4', 'ls': '7315980', 'mod': '1487965770'}\n",
      "{'s': '74511357', 'n': 'GOPR6829.MP4', 'ls': '4450935', 'mod': '1487965806'}\n",
      "{'s': '96963321', 'n': 'GOPR6830.MP4', 'ls': '5789279', 'mod': '1487965884'}\n",
      "{'s': '66826087', 'n': 'GOPR6831.MP4', 'ls': '3997728', 'mod': '1487965918'}\n",
      "{'s': '3142412', 'n': 'GOPR6832.JPG', 'mod': '1488019416'}\n",
      "{'s': '2993792', 'n': 'GOPR6833.JPG', 'mod': '1488019418'}\n",
      "{'t': 'b', 'n': 'G0026834.JPG', 'g': '2', 'l': '6863', 'mod': '1488019432', 'm': [], 'b': '6834', 's': '24903057'}\n",
      "{'t': 'b', 'n': 'G0036864.JPG', 'g': '3', 'l': '6893', 'mod': '1488019440', 'm': [], 'b': '6864', 's': '25126746'}\n",
      "{'t': 'b', 'n': 'G0046894.JPG', 'g': '4', 'l': '6923', 'mod': '1488019450', 'm': [], 'b': '6894', 's': '24907190'}\n",
      "{'t': 'b', 'n': 'G0056924.JPG', 'g': '5', 'l': '6953', 'mod': '1488019458', 'm': [], 'b': '6924', 's': '25016563'}\n",
      "{'t': 'b', 'n': 'G0066954.JPG', 'g': '6', 'l': '6983', 'mod': '1488019466', 'm': [], 'b': '6954', 's': '25125571'}\n",
      "107GOPRO\n",
      "{'t': 'b', 'n': 'G0076984.JPG', 'g': '7', 'l': '7013', 'mod': '1488019474', 'm': [], 'b': '6984', 's': '25292480'}\n",
      "{'t': 'b', 'n': 'G0087014.JPG', 'g': '8', 'l': '7024', 'mod': '1488019482', 'm': [], 'b': '7014', 's': '9228146'}\n",
      "{'s': '3115417', 'n': 'GOPR7025.JPG', 'mod': '1488019598'}\n",
      "{'s': '2588664', 'n': 'GOPR7026.JPG', 'mod': '1488019624'}\n",
      "{'t': 't', 'n': 'G0097027.JPG', 'g': '9', 'l': '7982', 'mod': '1488020394', 'm': [], 'b': '7027', 's': '2196268774'}\n",
      "108GOPRO\n",
      "{'t': 't', 'n': 'G0097983.JPG', 'g': '9', 'l': '8448', 'mod': '1488021350', 'm': [], 'b': '7983', 's': '1046979360'}\n",
      "{'s': '1291136481', 'n': 'GOPR8449.MP4', 'ls': '215382373', 'mod': '1488032372'}\n",
      "{'s': '14116162', 'n': 'GOPR8450.MP4', 'ls': '859729', 'mod': '1492337368'}\n",
      "{'s': '2647801', 'n': 'GOPR8451.JPG', 'mod': '1492955406'}\n",
      "{'s': '3269612', 'n': 'GOPR8452.JPG', 'mod': '1492957818'}\n",
      "{'s': '3254384', 'n': 'GOPR8453.JPG', 'mod': '1492957880'}\n",
      "{'s': '3231697', 'n': 'GOPR8454.JPG', 'mod': '1492957964'}\n"
     ]
    }
   ],
   "source": [
    "for f in files:\n",
    "    print(f['d'])\n",
    "    for i in f['fs']:\n",
    "        print(i)"
   ]
  },
  {
   "cell_type": "code",
   "execution_count": 113,
   "metadata": {
    "collapsed": true
   },
   "outputs": [],
   "source": [
    "d={}"
   ]
  },
  {
   "cell_type": "code",
   "execution_count": 115,
   "metadata": {},
   "outputs": [
    {
     "data": {
      "text/plain": [
       "'g'"
      ]
     },
     "execution_count": 115,
     "metadata": {},
     "output_type": "execute_result"
    }
   ],
   "source": [
    "d.get('s', 'g')"
   ]
  },
  {
   "cell_type": "code",
   "execution_count": 36,
   "metadata": {},
   "outputs": [
    {
     "data": {
      "text/plain": [
       "2081.004442214966"
      ]
     },
     "execution_count": 36,
     "metadata": {},
     "output_type": "execute_result"
    }
   ],
   "source": [
    "files[5]['size']/1024/1024\n"
   ]
  },
  {
   "cell_type": "code",
   "execution_count": 38,
   "metadata": {},
   "outputs": [
    {
     "name": "stdout",
     "output_type": "stream",
     "text": [
      "2185295\n"
     ]
    },
    {
     "data": {
      "text/plain": [
       "'G0010001.JPG'"
      ]
     },
     "execution_count": 38,
     "metadata": {},
     "output_type": "execute_result"
    }
   ],
   "source": [
    "api.download('http://10.5.5.9:8080/videos/DCIM/100GOPRO/G0010001.JPG')"
   ]
  },
  {
   "cell_type": "code",
   "execution_count": 41,
   "metadata": {},
   "outputs": [
    {
     "data": {
      "text/plain": [
       "2.084059715270996"
      ]
     },
     "execution_count": 41,
     "metadata": {},
     "output_type": "execute_result"
    }
   ],
   "source": [
    "2185295/1024/1024"
   ]
  },
  {
   "cell_type": "code",
   "execution_count": 39,
   "metadata": {},
   "outputs": [
    {
     "data": {
      "text/plain": [
       "{'size': 2171379977,\n",
       " 'time': 1487958902,\n",
       " 'url': 'http://10.5.5.9:8080/videos/DCIM/100GOPRO/G0010001.JPG'}"
      ]
     },
     "execution_count": 39,
     "metadata": {},
     "output_type": "execute_result"
    }
   ],
   "source": [
    "files[0]"
   ]
  },
  {
   "cell_type": "code",
   "execution_count": null,
   "metadata": {
    "collapsed": true
   },
   "outputs": [],
   "source": [
    "def parse_filelist(response):\n",
    "    \n",
    "    media = response.json()['media']\n",
    "    "
   ]
  },
  {
   "cell_type": "code",
   "execution_count": 33,
   "metadata": {},
   "outputs": [
    {
     "name": "stdout",
     "output_type": "stream",
     "text": [
      "\n",
      "100GOPRO\n",
      "http://10.5.5.9:8080/videos/DCIM/100GOPRO/G0010001.JPG 2171379977\n",
      "\n",
      "101GOPRO\n",
      "http://10.5.5.9:8080/videos/DCIM/101GOPRO/G0011000.JPG 2163410788\n",
      "\n",
      "102GOPRO\n",
      "http://10.5.5.9:8080/videos/DCIM/102GOPRO/G0011999.JPG 2161870384\n",
      "\n",
      "103GOPRO\n",
      "http://10.5.5.9:8080/videos/DCIM/103GOPRO/G0012998.JPG 2159166361\n",
      "\n",
      "104GOPRO\n",
      "http://10.5.5.9:8080/videos/DCIM/104GOPRO/G0013997.JPG 2169443914\n",
      "\n",
      "105GOPRO\n",
      "http://10.5.5.9:8080/videos/DCIM/105GOPRO/G0014996.JPG 2182091314\n",
      "\n",
      "106GOPRO\n",
      "http://10.5.5.9:8080/videos/DCIM/106GOPRO/G0015995.JPG 1805213182\n",
      "http://10.5.5.9:8080/videos/DCIM/106GOPRO/GOPR6820.JPG 3702200\n",
      "http://10.5.5.9:8080/videos/DCIM/106GOPRO/GOPR6821.JPG 4722659\n",
      "http://10.5.5.9:8080/videos/DCIM/106GOPRO/GOPR6822.JPG 4099982\n",
      "http://10.5.5.9:8080/videos/DCIM/106GOPRO/GOPR6823.JPG 4101899\n",
      "http://10.5.5.9:8080/videos/DCIM/106GOPRO/GOPR6824.JPG 4102010\n",
      "http://10.5.5.9:8080/videos/DCIM/106GOPRO/GOPR6825.JPG 3556572\n",
      "http://10.5.5.9:8080/videos/DCIM/106GOPRO/GOPR6826.JPG 3568567\n",
      "http://10.5.5.9:8080/videos/DCIM/106GOPRO/GOPR6827.JPG 3469426\n",
      "http://10.5.5.9:8080/videos/DCIM/106GOPRO/GOPR6828.MP4 123157439\n",
      "http://10.5.5.9:8080/videos/DCIM/106GOPRO/GOPR6829.MP4 74511357\n",
      "http://10.5.5.9:8080/videos/DCIM/106GOPRO/GOPR6830.MP4 96963321\n",
      "http://10.5.5.9:8080/videos/DCIM/106GOPRO/GOPR6831.MP4 66826087\n",
      "http://10.5.5.9:8080/videos/DCIM/106GOPRO/GOPR6832.JPG 3142412\n",
      "http://10.5.5.9:8080/videos/DCIM/106GOPRO/GOPR6833.JPG 2993792\n",
      "http://10.5.5.9:8080/videos/DCIM/106GOPRO/G0026834.JPG 24903057\n",
      "http://10.5.5.9:8080/videos/DCIM/106GOPRO/G0036864.JPG 25126746\n",
      "http://10.5.5.9:8080/videos/DCIM/106GOPRO/G0046894.JPG 24907190\n",
      "http://10.5.5.9:8080/videos/DCIM/106GOPRO/G0056924.JPG 25016563\n",
      "http://10.5.5.9:8080/videos/DCIM/106GOPRO/G0066954.JPG 25125571\n",
      "\n",
      "107GOPRO\n",
      "http://10.5.5.9:8080/videos/DCIM/107GOPRO/G0076984.JPG 25292480\n",
      "http://10.5.5.9:8080/videos/DCIM/107GOPRO/G0087014.JPG 9228146\n",
      "http://10.5.5.9:8080/videos/DCIM/107GOPRO/GOPR7025.JPG 3115417\n",
      "http://10.5.5.9:8080/videos/DCIM/107GOPRO/GOPR7026.JPG 2588664\n",
      "http://10.5.5.9:8080/videos/DCIM/107GOPRO/G0097027.JPG 2196268774\n",
      "\n",
      "108GOPRO\n",
      "http://10.5.5.9:8080/videos/DCIM/108GOPRO/G0097983.JPG 1046979360\n",
      "http://10.5.5.9:8080/videos/DCIM/108GOPRO/GOPR8449.MP4 1291136481\n",
      "http://10.5.5.9:8080/videos/DCIM/108GOPRO/GOPR8450.MP4 14116162\n"
     ]
    }
   ],
   "source": [
    "for folder in resp['media']:\n",
    "    print()\n",
    "    print(folder['d'])\n",
    "\n",
    "    folder_name = folder['d']\n",
    "    \n",
    "    for item in folder['fs']:\n",
    "        name = item['n']\n",
    "        size = int(item['s'])\n",
    "        time = int(item['mod'])\n",
    "        \n",
    "#         print(name, size, time)\n",
    "        \n",
    "        url = 'http://10.5.5.9:8080/videos/DCIM/{}/{}'.format(folder_name, name)\n",
    "        \n",
    "        print(url, size)"
   ]
  },
  {
   "cell_type": "code",
   "execution_count": null,
   "metadata": {
    "collapsed": true
   },
   "outputs": [],
   "source": []
  },
  {
   "cell_type": "code",
   "execution_count": null,
   "metadata": {
    "collapsed": true
   },
   "outputs": [],
   "source": []
  },
  {
   "cell_type": "code",
   "execution_count": null,
   "metadata": {
    "collapsed": true
   },
   "outputs": [],
   "source": []
  }
 ],
 "metadata": {
  "kernelspec": {
   "display_name": "Python 3",
   "language": "python",
   "name": "python3"
  },
  "language_info": {
   "codemirror_mode": {
    "name": "ipython",
    "version": 3
   },
   "file_extension": ".py",
   "mimetype": "text/x-python",
   "name": "python",
   "nbconvert_exporter": "python",
   "pygments_lexer": "ipython3",
   "version": "3.5.3"
  }
 },
 "nbformat": 4,
 "nbformat_minor": 2
}
