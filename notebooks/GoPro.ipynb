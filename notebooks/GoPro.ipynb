{
 "cells": [
  {
   "cell_type": "markdown",
   "metadata": {},
   "source": [
    "# GoPro\n",
    "\n",
    "- https://medium.com/@konrad_it/how-to-stream-from-a-gopro-camera-f4a164150797\n",
    "- https://github.com/KonradIT/goprowifihack\n",
    "\n",
    "\n",
    "wireless library: https://github.com/joshvillbrandt/wireless"
   ]
  },
  {
   "cell_type": "markdown",
   "metadata": {},
   "source": [
    "## What Next\n",
    "\n",
    "- Take photos at regular intervals\n",
    "- Establish essential camera settings\n",
    "    - Exposure sensitivity\n",
    "    - shutter time\n",
    "    - white balance, protune, etc.\n",
    "- Multiple, simultaneous comm sessions?\n",
    "    - Take photos at precise intervals\n",
    "    - Batch download/erase photos\n",
    "    - Check camera status\n"
   ]
  },
  {
   "cell_type": "code",
   "execution_count": 3,
   "metadata": {
    "collapsed": true
   },
   "outputs": [],
   "source": [
    "import context\n",
    "\n",
    "import gopro_helper as gopro"
   ]
  },
  {
   "cell_type": "markdown",
   "metadata": {},
   "source": [
    "# Connect to WiFi Network"
   ]
  },
  {
   "cell_type": "code",
   "execution_count": 94,
   "metadata": {},
   "outputs": [
    {
     "name": "stdout",
     "output_type": "stream",
     "text": [
      "GreenCanoe        92%\n",
      "BlueBalloon       92%\n",
      "GreenCanoe        72%\n",
      "BlueBalloon       72%\n",
      "HighFive          64%\n",
      "BlueBalloon       77%\n",
      "BlueBalloon       42%\n",
      "GreenCanoe        42%\n",
      "BlueBalloon       70%\n",
      "GreenCanoe        69%\n",
      "Ehrlich           54%\n",
      "Ehrlich-ext       45%\n",
      "TG1672GF2         29%\n",
      "GreenCanoe        77%\n",
      "GreenCanoe       100%\n",
      "BlueBalloon      100%\n",
      "Ehrlich 5G        22%\n",
      "Lady Di           34%\n",
      "TG1672GF2-5G      22%\n",
      "GP26528824        84%\n",
      "Cocea@Mpk         15%\n",
      "ATTXHt4uI2        15%\n",
      "CallMeCaitlyn     10%\n",
      "Oh Shoot!         17%\n"
     ]
    }
   ],
   "source": [
    "gopro.network.scan()"
   ]
  },
  {
   "cell_type": "code",
   "execution_count": 93,
   "metadata": {},
   "outputs": [
    {
     "data": {
      "text/plain": [
       "'GP26528824'"
      ]
     },
     "execution_count": 93,
     "metadata": {},
     "output_type": "execute_result"
    }
   ],
   "source": [
    "gopro.network.current_connection()"
   ]
  },
  {
   "cell_type": "code",
   "execution_count": 89,
   "metadata": {
    "collapsed": true
   },
   "outputs": [],
   "source": [
    "ssid = 'GP26528824'\n",
    "# ssid = 'GreenCanoe'"
   ]
  },
  {
   "cell_type": "code",
   "execution_count": 90,
   "metadata": {},
   "outputs": [
    {
     "name": "stdout",
     "output_type": "stream",
     "text": [
      "disconnected  [new_activation]\n",
      "config\n",
      "ip_config\n",
      "activated\n",
      "ok: GP26528824\n"
     ]
    }
   ],
   "source": [
    "device = gopro.network.connect_wifi(ssid)\n",
    "gopro.network.check_state(device)"
   ]
  },
  {
   "cell_type": "code",
   "execution_count": 92,
   "metadata": {},
   "outputs": [
    {
     "name": "stdout",
     "output_type": "stream",
     "text": [
      "activated\n",
      "ok: GP26528824\n"
     ]
    }
   ],
   "source": [
    "gopro.network.check_state(device)"
   ]
  },
  {
   "cell_type": "code",
   "execution_count": null,
   "metadata": {
    "collapsed": true
   },
   "outputs": [],
   "source": []
  },
  {
   "cell_type": "code",
   "execution_count": null,
   "metadata": {
    "collapsed": true
   },
   "outputs": [],
   "source": []
  },
  {
   "cell_type": "code",
   "execution_count": 148,
   "metadata": {
    "scrolled": false
   },
   "outputs": [
    {
     "data": {
      "application/vnd.jupyter.widget-view+json": {
       "model_id": "3ee513f2cc984234b960fda9abc1399e"
      }
     },
     "metadata": {},
     "output_type": "display_data"
    }
   ],
   "source": [
    "k = gopro.GoProStatus()"
   ]
  },
  {
   "cell_type": "code",
   "execution_count": 147,
   "metadata": {},
   "outputs": [],
   "source": [
    "k.stop()"
   ]
  },
  {
   "cell_type": "code",
   "execution_count": 33,
   "metadata": {},
   "outputs": [
    {
     "name": "stdout",
     "output_type": "stream",
     "text": [
      "http://10.5.5.9/gp/gpControl/status\n"
     ]
    }
   ],
   "source": [
    "print(gopro.api.url_status)"
   ]
  },
  {
   "cell_type": "code",
   "execution_count": null,
   "metadata": {
    "collapsed": true
   },
   "outputs": [],
   "source": []
  }
 ],
 "metadata": {
  "kernelspec": {
   "display_name": "Python 3",
   "language": "python",
   "name": "python3"
  },
  "language_info": {
   "codemirror_mode": {
    "name": "ipython",
    "version": 3
   },
   "file_extension": ".py",
   "mimetype": "text/x-python",
   "name": "python",
   "nbconvert_exporter": "python",
   "pygments_lexer": "ipython3",
   "version": "3.6.1"
  }
 },
 "nbformat": 4,
 "nbformat_minor": 2
}
