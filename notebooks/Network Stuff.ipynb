{
 "cells": [
  {
   "cell_type": "markdown",
   "metadata": {},
   "source": [
    "https://github.com/seveas/python-networkmanager/tree/master/examples"
   ]
  },
  {
   "cell_type": "code",
   "execution_count": 85,
   "metadata": {
    "collapsed": true
   },
   "outputs": [],
   "source": [
    "import context"
   ]
  },
  {
   "cell_type": "code",
   "execution_count": 87,
   "metadata": {
    "collapsed": true
   },
   "outputs": [],
   "source": [
    "import os\n",
    "import sys\n",
    "import time\n",
    "\n",
    "# import NetworkManager as NM\n",
    "\n",
    "import gopro_helper"
   ]
  },
  {
   "cell_type": "code",
   "execution_count": 89,
   "metadata": {},
   "outputs": [
    {
     "name": "stdout",
     "output_type": "stream",
     "text": [
      "Active connection: GP26528824 2 (on wlan0)\n",
      "   802-11-wireless\n",
      "      ssid                           GP26528824\n",
      "      mode                           infrastructure\n",
      "      mac-address                    5C:E0:C5:09:39:31\n",
      "      mac-address-blacklist          []\n",
      "      seen-bssids                    ['F6:DD:9E:8F:AE:CF']\n",
      "      mac-address-randomization      1\n",
      "      security                       802-11-wireless-security\n",
      "   802-11-wireless-security\n",
      "      key-mgmt                       wpa-psk\n",
      "      auth-alg                       open\n",
      "      proto                          []\n",
      "      pairwise                       []\n",
      "      group                          []\n",
      "      psk                            surf5334\n",
      "   connection\n",
      "      id                             GP26528824 2\n",
      "      uuid                           d94b1be3-6cfc-465e-bbd4-66e26c546ad5\n",
      "      type                           802-11-wireless\n",
      "      permissions                    []\n",
      "      timestamp                      1495935020\n",
      "      secondaries                    []\n",
      "   ipv4\n",
      "      method                         auto\n",
      "      dns                            []\n",
      "      dns-search                     []\n",
      "      addresses                      []\n",
      "      routes                         []\n",
      "      address-data                   []\n",
      "      route-data                     []\n",
      "   ipv6\n",
      "      method                         auto\n",
      "      dns                            []\n",
      "      dns-search                     []\n",
      "      addresses                      []\n",
      "      routes                         []\n",
      "      addr-gen-mode                  0\n",
      "      address-data                   []\n",
      "      route-data                     []\n",
      "Device: wlan0\n",
      "   Type             wifi\n",
      "   MAC address      5C:E0:C5:09:39:31\n",
      "   IPv4 config\n",
      "      Addresses\n",
      "         10.5.5.100/24 -> 10.5.5.9\n",
      "      Routes\n",
      "         169.254.0.0/16 -> 0.0.0.0 (1000)\n",
      "      Nameservers\n"
     ]
    }
   ],
   "source": [
    "gopro_helper.network.display_connection_details()"
   ]
  },
  {
   "cell_type": "code",
   "execution_count": 75,
   "metadata": {},
   "outputs": [],
   "source": [
    "ssid = 'GP26528824'\n",
    "# ssid = 'GreenCanoe'"
   ]
  },
  {
   "cell_type": "code",
   "execution_count": 76,
   "metadata": {},
   "outputs": [],
   "source": [
    "device = connect_wifi(ssid)"
   ]
  },
  {
   "cell_type": "code",
   "execution_count": 90,
   "metadata": {
    "scrolled": true
   },
   "outputs": [
    {
     "name": "stdout",
     "output_type": "stream",
     "text": [
      "activated\n"
     ]
    }
   ],
   "source": [
    "gopro_helper.network.check_state(device)"
   ]
  },
  {
   "cell_type": "code",
   "execution_count": null,
   "metadata": {
    "collapsed": true
   },
   "outputs": [],
   "source": []
  },
  {
   "cell_type": "code",
   "execution_count": 91,
   "metadata": {},
   "outputs": [],
   "source": [
    "device = gopro_helper.network.find_wifi_device()"
   ]
  },
  {
   "cell_type": "code",
   "execution_count": 95,
   "metadata": {},
   "outputs": [
    {
     "data": {
      "text/plain": [
       "'5C:E0:C5:09:39:31'"
      ]
     },
     "execution_count": 95,
     "metadata": {},
     "output_type": "execute_result"
    }
   ],
   "source": [
    "device.HwAddress"
   ]
  },
  {
   "cell_type": "code",
   "execution_count": 96,
   "metadata": {},
   "outputs": [
    {
     "data": {
      "text/plain": [
       "'wlan0'"
      ]
     },
     "execution_count": 96,
     "metadata": {},
     "output_type": "execute_result"
    }
   ],
   "source": [
    "device.Interface"
   ]
  },
  {
   "cell_type": "code",
   "execution_count": 97,
   "metadata": {},
   "outputs": [
    {
     "data": {
      "text/plain": [
       "72200"
      ]
     },
     "execution_count": 97,
     "metadata": {},
     "output_type": "execute_result"
    }
   ],
   "source": [
    "device.Bitrate"
   ]
  },
  {
   "cell_type": "code",
   "execution_count": null,
   "metadata": {
    "collapsed": true
   },
   "outputs": [],
   "source": []
  },
  {
   "cell_type": "code",
   "execution_count": null,
   "metadata": {
    "collapsed": true
   },
   "outputs": [],
   "source": []
  },
  {
   "cell_type": "code",
   "execution_count": null,
   "metadata": {
    "collapsed": true
   },
   "outputs": [],
   "source": []
  }
 ],
 "metadata": {
  "kernelspec": {
   "display_name": "Python 3",
   "language": "python",
   "name": "python3"
  },
  "language_info": {
   "codemirror_mode": {
    "name": "ipython",
    "version": 3
   },
   "file_extension": ".py",
   "mimetype": "text/x-python",
   "name": "python",
   "nbconvert_exporter": "python",
   "pygments_lexer": "ipython3",
   "version": "3.6.1"
  }
 },
 "nbformat": 4,
 "nbformat_minor": 2
}
