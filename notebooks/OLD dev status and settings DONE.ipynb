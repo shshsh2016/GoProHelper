{
 "cells": [
  {
   "cell_type": "markdown",
   "metadata": {},
   "source": [
    "# Make Sense of Status and Settings"
   ]
  },
  {
   "cell_type": "markdown",
   "metadata": {},
   "source": [
    "## What Next\n",
    "\n",
    "- Take photos at regular intervals\n",
    "- Maintain database of local photos/videos\n",
    "- Download all files to local storage\n",
    "- Delete files on camera\n",
    "- Establish essential camera settings\n",
    "    - Exposure sensitivity\n",
    "    - shutter time\n",
    "    - white balance, protune, etc.\n",
    "- Multiple, simultaneous comm sessions?\n",
    "    - Take photos at precise intervals\n",
    "    - Batch download/erase photos\n",
    "    - Check camera status\n"
   ]
  },
  {
   "cell_type": "code",
   "execution_count": 1,
   "metadata": {
    "collapsed": true
   },
   "outputs": [],
   "source": [
    "import os\n",
    "import numpy as np\n",
    "import wireless\n",
    "\n",
    "import context\n",
    "\n",
    "import gopro_helper as gopro\n",
    "\n",
    "from gopro_helper import api\n",
    "from gopro_helper import get\n",
    "from gopro_helper import json_io\n",
    "from gopro_helper import namespace"
   ]
  },
  {
   "cell_type": "markdown",
   "metadata": {},
   "source": [
    "# JSON API\n",
    "\n",
    "## display hints\n",
    "- don't care\n",
    "\n",
    "## status\n",
    "- refers specifically to 'status' object from status GET\n",
    "- associate field names with ID numbers\n",
    "- categorized by informative groups (system, app, photo, wireless, storage\n",
    "\n",
    "## modes\n",
    "- modes and submodes\n",
    "- other important settings like fps, resolution, etc.\n",
    "- entire subsections for video, photo, audio\n",
    "\n",
    "## services\n",
    "- URLs\n",
    "- list media files, only one I care about\n",
    "- start/stop streaming\n",
    "- firmware stuff\n",
    "- auth stuff\n",
    "\n",
    "## commands\n",
    "- define URLs for issuing commands to camera\n",
    "- says nothing about any additional parameters\n",
    "- some duplicates with services\n",
    "\n",
    "## filters\n",
    "- I think this is used to grey out or disable certain GUI elements based on current settings\n",
    "- don't care\n",
    "\n",
    "\n",
    "## camera mode map\n",
    "- some information on making sense of modes and submodes and their aliases"
   ]
  },
  {
   "cell_type": "code",
   "execution_count": 2,
   "metadata": {
    "collapsed": true
   },
   "outputs": [],
   "source": [
    "# Load JSON API information\n",
    "api_details = json_io.read(api.fname_json)"
   ]
  },
  {
   "cell_type": "code",
   "execution_count": 3,
   "metadata": {},
   "outputs": [
    {
     "data": {
      "text/plain": [
       "{'fields': [{'id': 1, 'name': 'internal_battery_present'},\n",
       "  {'id': 2, 'name': 'internal_battery_level'},\n",
       "  {'id': 3, 'name': 'external_battery_present'},\n",
       "  {'id': 4, 'name': 'external_battery_level'},\n",
       "  {'id': 6, 'name': 'system_hot'},\n",
       "  {'id': 8, 'name': 'system_busy'},\n",
       "  {'id': 9, 'name': 'quick_capture_active'},\n",
       "  {'id': 10, 'name': 'encoding_active'},\n",
       "  {'id': 11, 'name': 'lcd_lock_active'},\n",
       "  {'id': 45, 'name': 'camera_locate_active'},\n",
       "  {'id': 57, 'name': 'current_time_msec'},\n",
       "  {'id': 60, 'name': 'next_poll_msec'},\n",
       "  {'id': 61, 'name': 'analytics_ready'},\n",
       "  {'id': 62, 'name': 'analytics_size'},\n",
       "  {'id': 63, 'name': 'in_contextual_menu'},\n",
       "  {'id': 68, 'name': 'gps_status'},\n",
       "  {'id': 70, 'name': 'internal_battery_percentage'},\n",
       "  {'id': 74, 'name': 'acc_mic_status'}],\n",
       " 'group': 'system'}"
      ]
     },
     "execution_count": 3,
     "metadata": {},
     "output_type": "execute_result"
    }
   ],
   "source": [
    "# Example status group details\n",
    "api_details['status']['groups'][0]"
   ]
  },
  {
   "cell_type": "code",
   "execution_count": 4,
   "metadata": {},
   "outputs": [
    {
     "data": {
      "text/plain": [
       "{'fields': [{'id': 43, 'name': 'mode'},\n",
       "  {'id': 44, 'name': 'sub_mode'},\n",
       "  {'id': 71, 'name': 'video_selected_flatmode'},\n",
       "  {'id': 72, 'name': 'photo_selected_flatmode'},\n",
       "  {'id': 73, 'name': 'timelapse_selected_flatmode'}],\n",
       " 'group': 'app'}"
      ]
     },
     "execution_count": 4,
     "metadata": {},
     "output_type": "execute_result"
    }
   ],
   "source": [
    "# Example status group details\n",
    "api_details['status']['groups'][1]"
   ]
  },
  {
   "cell_type": "markdown",
   "metadata": {},
   "source": [
    "# Get and Display Camera Info"
   ]
  },
  {
   "cell_type": "code",
   "execution_count": 5,
   "metadata": {
    "collapsed": true
   },
   "outputs": [],
   "source": [
    "# camera status GET returns two objects: 'status' and 'settings'.\n",
    "\n",
    "content = get(api.url_status)\n",
    "\n",
    "camera_status = content['status']\n",
    "camera_settings = content['settings']"
   ]
  },
  {
   "cell_type": "code",
   "execution_count": 6,
   "metadata": {
    "collapsed": true
   },
   "outputs": [],
   "source": [
    "def entry_option_value(entry, index):\n",
    "    for option in entry['options']:\n",
    "        if option['value'] == index:\n",
    "            # Return nice text value\n",
    "            return option['display_name']\n",
    "        \n",
    "    # Fallback to simply returning the index number\n",
    "    return str(index)\n",
    "\n",
    "\n",
    "def parse_mode_values(camera_settings, api_details):\n",
    "    \"\"\"Associate camera numerical setting values with human-readable text.\n",
    "    Store in mode-structured dict.\n",
    "    \"\"\"\n",
    "    # Main loop over top-level modes\n",
    "    info = {}\n",
    "    modes_include = ['Video', 'Photo', 'Setup']   # 'Multishot', 'Audio', 'Playback', 'Broadcast']\n",
    "    for mode in api_details['modes']:\n",
    "        if mode['display_name'] in modes_include:\n",
    "\n",
    "            info_mode = {}\n",
    "            for entry in mode['settings']:\n",
    "\n",
    "                # Find corresponding entry and value in camera settings output\n",
    "                id_str = str(entry['id'])\n",
    "                index = camera_settings[id_str]\n",
    "                value = entry_option_value(entry, index)\n",
    "\n",
    "                info_mode[entry['display_name']] = value\n",
    "\n",
    "            info[mode['display_name']] = info_mode\n",
    "\n",
    "    # Done\n",
    "    return info\n",
    "\n",
    "\n",
    "def parse_status_values(camera_status, api_details):\n",
    "    \"\"\"Extact a few non-retarded bits of information from 'status' group.  Store in flat dict.\n",
    "    \"\"\"\n",
    "    # known groups:  ['system', 'storage', 'broadcast', 'fwupdate', 'liveview', 'setup', 'stream']\n",
    "    groups_include = ['system', 'storage', 'app']\n",
    "\n",
    "    info = {}\n",
    "    for group in api_details['status']['groups']:\n",
    "        # Check for group name in set of to-be-extracted details\n",
    "        group_name = group['group']\n",
    "        if group_name in groups_include:\n",
    "            for entry in group['fields']:\n",
    "                id_str = str(entry['id'])\n",
    "                value = camera_status[id_str]\n",
    "\n",
    "                info[entry['name']] = value\n",
    "                \n",
    "    # Done\n",
    "    return info"
   ]
  },
  {
   "cell_type": "code",
   "execution_count": 7,
   "metadata": {
    "collapsed": true
   },
   "outputs": [],
   "source": [
    "def _pretty_status(info):\n",
    "    keys = ['system_hot', 'system_busy', 'current_time_msec',\n",
    "            'internal_battery_percentage', 'remaining_photos', 'remaining_video_time',\n",
    "            'remaining_space', 'remaining_timelapse_time', 'num_total_photos', 'num_total_videos']\n",
    "    \n",
    "    info_out = {}\n",
    "    for k in keys:\n",
    "        k_out = k.replace('_', ' ')\n",
    "        k_out = ' '.join([s.capitalize() for s in k_out.split()])\n",
    "        info_out[k_out] = info[k]\n",
    "        \n",
    "    return info_out\n",
    "\n",
    "\n",
    "def _pretty_modes(info):\n",
    "    keys = {'Video': ['Color', 'White Balance', 'EV Comp', 'Field of View', 'ISO', 'ISO Mode',\n",
    "                      'Low Light', 'Frames Per Second', 'Shutter', 'Resolution',\n",
    "                      'Video Stabilization', 'Sharpness', 'Protune'],\n",
    "            'Photo': ['Color', 'EV Comp', 'ISO MIN', 'ISO MAX', 'WDR', 'Shutter', 'Megapixels',\n",
    "                      'RAW', 'Protune', 'White Balance', 'Sharpness'],\n",
    "            'Setup': ['Current Flat Mode', 'Auto Off', 'GPS']}\n",
    "    \n",
    "    info_out = {}\n",
    "    \n",
    "    for n, g in keys.items():\n",
    "        info_out[n] = {}\n",
    "        for k in g:\n",
    "            info_out[n][k] = info[n][k]\n",
    "            \n",
    "    return info_out"
   ]
  },
  {
   "cell_type": "code",
   "execution_count": 13,
   "metadata": {
    "collapsed": true
   },
   "outputs": [],
   "source": [
    "def get_settings(pretty=True):\n",
    "    \"\"\"Fetch status and mode settings information from camera.  Optionally return as nicely-\n",
    "    formatted dict for useful subset.\n",
    "    \"\"\"\n",
    "    # Fetch info from camera.  Camera status GET returns two objects: 'status' and 'settings' (aka modes).\n",
    "    content = get(api.url_status)\n",
    "\n",
    "    camera_status = content['status']\n",
    "    camera_settings = content['settings']\n",
    "\n",
    "    # Load JSON API information\n",
    "    api_details = json_io.read(api.fname_json)\n",
    "\n",
    "    # Parse status and settings details\n",
    "    info_status = parse_status_values(camera_status, api_details)\n",
    "    info_modes = parse_mode_values(camera_settings, api_details)\n",
    "    mode = info_status['mode']\n",
    "    \n",
    "    if pretty:\n",
    "        info_status = _pretty_status(info_status)\n",
    "        info_modes = _pretty_modes(info_modes)\n",
    "\n",
    "    _VIDEO_MODE = 0\n",
    "    _PHOTO_MODE = 1\n",
    "    _MULTI_MODE = 2\n",
    "\n",
    "    # Exclude non-current mode info\n",
    "    if mode == _VIDEO_MODE:\n",
    "        info_modes.pop('Photo')\n",
    "    elif mode == _PHOTO_MODE:\n",
    "        info_modes.pop('Video')\n",
    "    else:\n",
    "        pass\n",
    "    \n",
    "    # Combine\n",
    "    info_modes['System'] = info_status\n",
    "    \n",
    "    # Done\n",
    "    return info_modes"
   ]
  },
  {
   "cell_type": "markdown",
   "metadata": {},
   "source": [
    "# Example function calls"
   ]
  },
  {
   "cell_type": "code",
   "execution_count": 14,
   "metadata": {},
   "outputs": [
    {
     "data": {
      "text/plain": [
       "{'Setup': {'Auto Off': '30 MIN', 'Current Flat Mode': 'Video', 'GPS': 'ON'},\n",
       " 'System': {'Current Time Msec': 296103,\n",
       "  'Internal Battery Percentage': 91,\n",
       "  'Num Total Photos': 8448,\n",
       "  'Num Total Videos': 6,\n",
       "  'Remaining Photos': 6317,\n",
       "  'Remaining Space': 42040064,\n",
       "  'Remaining Timelapse Time': 0,\n",
       "  'Remaining Video Time': 4765,\n",
       "  'System Busy': 0,\n",
       "  'System Hot': 0},\n",
       " 'Video': {'Color': 'GoPro',\n",
       "  'EV Comp': '0.0',\n",
       "  'Field of View': 'Wide',\n",
       "  'Frames Per Second': '60',\n",
       "  'ISO': '400',\n",
       "  'ISO Mode': 'Max',\n",
       "  'Low Light': 'ON',\n",
       "  'Protune': 'ON',\n",
       "  'Resolution': '2.7K',\n",
       "  'Sharpness': 'Low',\n",
       "  'Shutter': '1/60',\n",
       "  'Video Stabilization': 'OFF',\n",
       "  'White Balance': '4800K'}}"
      ]
     },
     "execution_count": 14,
     "metadata": {},
     "output_type": "execute_result"
    }
   ],
   "source": [
    "get_settings()"
   ]
  },
  {
   "cell_type": "code",
   "execution_count": 15,
   "metadata": {},
   "outputs": [
    {
     "data": {
      "text/plain": [
       "{'acc_mic_status': 0,\n",
       " 'analytics_ready': 2,\n",
       " 'analytics_size': 0,\n",
       " 'camera_locate_active': 0,\n",
       " 'current_time_msec': 72785,\n",
       " 'encoding_active': 0,\n",
       " 'external_battery_level': 0,\n",
       " 'external_battery_present': 0,\n",
       " 'gps_status': 1,\n",
       " 'in_contextual_menu': 0,\n",
       " 'internal_battery_level': 3,\n",
       " 'internal_battery_percentage': 94,\n",
       " 'internal_battery_present': 1,\n",
       " 'last_hilight_time_msec': 0,\n",
       " 'lcd_lock_active': 0,\n",
       " 'mode': 0,\n",
       " 'next_poll_msec': 500,\n",
       " 'num_group_photos': 32,\n",
       " 'num_group_videos': 6,\n",
       " 'num_hilights': 0,\n",
       " 'num_total_photos': 8448,\n",
       " 'num_total_videos': 6,\n",
       " 'photo_selected_flatmode': 17,\n",
       " 'quick_capture_active': 0,\n",
       " 'remaining_photos': 6317,\n",
       " 'remaining_space': 42040064,\n",
       " 'remaining_timelapse_time': 0,\n",
       " 'remaining_video_time': 4765,\n",
       " 'sd_status': 0,\n",
       " 'sub_mode': 0,\n",
       " 'system_busy': 0,\n",
       " 'system_hot': 0,\n",
       " 'timelapse_selected_flatmode': 20,\n",
       " 'video_selected_flatmode': 12}"
      ]
     },
     "execution_count": 15,
     "metadata": {},
     "output_type": "execute_result"
    }
   ],
   "source": [
    "parse_status_values(camera_status, api_details)"
   ]
  },
  {
   "cell_type": "code",
   "execution_count": 16,
   "metadata": {},
   "outputs": [
    {
     "data": {
      "text/plain": [
       "{'Photo': {'Color': 'GoPro',\n",
       "  'Default Photo Sub Mode': 'Single',\n",
       "  'EV Comp': '0.0',\n",
       "  'ISO MAX': '400',\n",
       "  'ISO MIN': '200',\n",
       "  'Megapixels': '12MP Linear',\n",
       "  'Photo Sub Mode': 'Continuous',\n",
       "  'Protune': 'ON',\n",
       "  'RAW': 'OFF',\n",
       "  'Sharpness': 'Low',\n",
       "  'Shutter': '1/125',\n",
       "  'WDR': 'ON',\n",
       "  'White Balance': '3000K'},\n",
       " 'Setup': {'Audio Input': 'Standard Mic',\n",
       "  'Auto Off': '30 MIN',\n",
       "  'Auto-Rotation': 'Auto',\n",
       "  'Beeps': 'Low',\n",
       "  'Current Flat Mode': 'Video',\n",
       "  'Default Mode': 'Video',\n",
       "  'GPS': 'ON',\n",
       "  'LCD Brightness': '51',\n",
       "  'LED': 'ON',\n",
       "  'Language': 'English',\n",
       "  'Quick Capture': 'OFF',\n",
       "  'Screensaver': '1 MIN',\n",
       "  'Secondary Stream Bit Rate': '2.5 Mbps',\n",
       "  'Secondary Stream GOP Size': '8',\n",
       "  'Secondary Stream IDR Interval': '1',\n",
       "  'Secondary Stream Window Size': '480',\n",
       "  'Video Format': 'NTSC',\n",
       "  'Voice Control Enable': 'OFF',\n",
       "  'Voice Control Language': 'English - US'},\n",
       " 'Video': {'Color': 'GoPro',\n",
       "  'Default Video Sub Mode': 'Video',\n",
       "  'EV Comp': '0.0',\n",
       "  'Field of View': 'Wide',\n",
       "  'Frames Per Second': '60',\n",
       "  'ISO': '400',\n",
       "  'ISO Mode': 'Max',\n",
       "  'Interval': '1 Photo / 5 Seconds',\n",
       "  'Low Light': 'ON',\n",
       "  'No Audio Track': 'OFF',\n",
       "  'Protune': 'ON',\n",
       "  'Resolution': '2.7K',\n",
       "  'Sharpness': 'Low',\n",
       "  'Shutter': '1/60',\n",
       "  'Video Stabilization': 'OFF',\n",
       "  'Video Sub Mode': 'Video',\n",
       "  'White Balance': '4800K'}}"
      ]
     },
     "execution_count": 16,
     "metadata": {},
     "output_type": "execute_result"
    }
   ],
   "source": [
    "parse_mode_values(camera_settings, api_details)"
   ]
  },
  {
   "cell_type": "code",
   "execution_count": null,
   "metadata": {
    "collapsed": true
   },
   "outputs": [],
   "source": []
  },
  {
   "cell_type": "code",
   "execution_count": null,
   "metadata": {
    "collapsed": true
   },
   "outputs": [],
   "source": []
  }
 ],
 "metadata": {
  "kernelspec": {
   "display_name": "Python 3",
   "language": "python",
   "name": "python3"
  },
  "language_info": {
   "codemirror_mode": {
    "name": "ipython",
    "version": 3
   },
   "file_extension": ".py",
   "mimetype": "text/x-python",
   "name": "python",
   "nbconvert_exporter": "python",
   "pygments_lexer": "ipython3",
   "version": "3.6.1"
  }
 },
 "nbformat": 4,
 "nbformat_minor": 2
}
