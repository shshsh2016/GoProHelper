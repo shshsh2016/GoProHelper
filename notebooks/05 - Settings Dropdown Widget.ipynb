{
 "cells": [
  {
   "cell_type": "code",
   "execution_count": 1,
   "metadata": {
    "collapsed": true
   },
   "outputs": [],
   "source": [
    "import IPython\n",
    "import ipywidgets\n",
    "\n",
    "import context\n",
    "import gopro_helper as gopro"
   ]
  },
  {
   "cell_type": "code",
   "execution_count": 2,
   "metadata": {},
   "outputs": [],
   "source": [
    "%load_ext autoreload\n",
    "%autoreload 2"
   ]
  },
  {
   "cell_type": "markdown",
   "metadata": {},
   "source": [
    "# Dropdown feature/option selection widget\n",
    "\n",
    "Driven entirely by GoPro JSON configuration file."
   ]
  },
  {
   "cell_type": "code",
   "execution_count": 3,
   "metadata": {},
   "outputs": [
    {
     "data": {
      "text/plain": [
       "'video'"
      ]
     },
     "execution_count": 3,
     "metadata": {},
     "output_type": "execute_result"
    }
   ],
   "source": [
    "# Fetch new information from camera\n",
    "raw_status, raw_settings = gopro.commands.get_raw_status_settings()\n",
    "\n",
    "info_status = gopro.api.parse_status_names(raw_status)\n",
    "name_mode, name_sub_mode = gopro.api.parse_mode_sub_mode(info_status)\n",
    "\n",
    "name_mode"
   ]
  },
  {
   "cell_type": "markdown",
   "metadata": {},
   "source": [
    "### Features and Options"
   ]
  },
  {
   "cell_type": "code",
   "execution_count": 4,
   "metadata": {
    "collapsed": true
   },
   "outputs": [],
   "source": [
    "gopro.commands.set_mode_photo()"
   ]
  },
  {
   "cell_type": "code",
   "execution_count": 5,
   "metadata": {
    "scrolled": false
   },
   "outputs": [
    {
     "name": "stdout",
     "output_type": "stream",
     "text": [
      " 1 - default_sub_mode       [Default Video Sub Mode]\n",
      "68 - current_sub_mode       [Video Sub Mode]\n",
      " 2 - resolution             [Resolution]\n",
      " 3 - fps                    [Frames Per Second]\n",
      " 4 - fov                    [Field of View]\n",
      " 5 - timelapse_rate         [Interval]\n",
      " 6 - looping                [Interval]\n",
      " 7 - piv                    [Interval]\n",
      " 8 - low_light              [Low Light]\n",
      "78 - eis                    [Video Stabilization]\n",
      "10 - protune                [Protune]\n",
      "11 - protune_white_balance  [White Balance]\n",
      "12 - protune_color          [Color]\n",
      "14 - protune_sharpness      [Sharpness]\n",
      "15 - protune_ev             [EV Comp]\n",
      "73 - exposure_time          [Shutter]\n",
      "13 - protune_iso            [ISO]\n",
      "74 - protune_iso_mode       [ISO Mode]\n",
      "96 - no_audio               [No Audio Track]\n"
     ]
    }
   ],
   "source": [
    "# List features for current mode (copied from API notebook)\n",
    "features = gopro.api.mode_features(name_mode)\n",
    "    \n",
    "for F in features:\n",
    "    print('{:2d} - {:22s} [{}]'.format(F['id'], F['path_segment'], F['display_name']))\n",
    "    "
   ]
  },
  {
   "cell_type": "code",
   "execution_count": 6,
   "metadata": {
    "scrolled": true
   },
   "outputs": [
    {
     "name": "stdout",
     "output_type": "stream",
     "text": [
      "default_sub_mode\n",
      "current_sub_mode\n",
      "resolution\n",
      "fps\n",
      "fov\n",
      "timelapse_rate\n",
      "looping\n",
      "piv\n",
      "low_light\n",
      "eis\n",
      "protune\n",
      "protune_white_balance\n",
      "protune_color\n",
      "protune_sharpness\n",
      "protune_ev\n",
      "exposure_time\n",
      "protune_iso\n",
      "protune_iso_mode\n",
      "no_audio\n"
     ]
    }
   ],
   "source": [
    "# List features for current mode (copied from API notebook)\n",
    "features = gopro.api.mode_features(name_mode)\n",
    "    \n",
    "for F in features:\n",
    "    print(F['path_segment'])\n",
    "    "
   ]
  },
  {
   "cell_type": "markdown",
   "metadata": {
    "collapsed": true
   },
   "source": [
    "# The Widget"
   ]
  },
  {
   "cell_type": "code",
   "execution_count": 7,
   "metadata": {
    "scrolled": false
   },
   "outputs": [
    {
     "data": {
      "application/vnd.jupyter.widget-view+json": {
       "model_id": "ced0384213594c379cce8f91b35a43cb"
      }
     },
     "metadata": {},
     "output_type": "display_data"
    }
   ],
   "source": [
    "wid = gopro.Settings()"
   ]
  },
  {
   "cell_type": "code",
   "execution_count": 18,
   "metadata": {},
   "outputs": [
    {
     "data": {
      "application/vnd.jupyter.widget-view+json": {
       "model_id": "3cfe7663bc424ae7b4a6292210a4e4d5"
      }
     },
     "metadata": {},
     "output_type": "display_data"
    }
   ],
   "source": [
    "wid.start()"
   ]
  },
  {
   "cell_type": "code",
   "execution_count": 9,
   "metadata": {
    "collapsed": true
   },
   "outputs": [],
   "source": [
    "wid.stop()"
   ]
  },
  {
   "cell_type": "code",
   "execution_count": 16,
   "metadata": {
    "collapsed": true
   },
   "outputs": [],
   "source": [
    "gopro.commands.set_mode_photo()"
   ]
  },
  {
   "cell_type": "code",
   "execution_count": 8,
   "metadata": {
    "collapsed": true
   },
   "outputs": [],
   "source": [
    "gopro.commands.set_mode_video()"
   ]
  },
  {
   "cell_type": "code",
   "execution_count": null,
   "metadata": {
    "collapsed": true
   },
   "outputs": [],
   "source": [
    "wid.up"
   ]
  }
 ],
 "metadata": {
  "kernelspec": {
   "display_name": "Python 3",
   "language": "python",
   "name": "python3"
  },
  "language_info": {
   "codemirror_mode": {
    "name": "ipython",
    "version": 3
   },
   "file_extension": ".py",
   "mimetype": "text/x-python",
   "name": "python",
   "nbconvert_exporter": "python",
   "pygments_lexer": "ipython3",
   "version": "3.6.1"
  }
 },
 "nbformat": 4,
 "nbformat_minor": 2
}
