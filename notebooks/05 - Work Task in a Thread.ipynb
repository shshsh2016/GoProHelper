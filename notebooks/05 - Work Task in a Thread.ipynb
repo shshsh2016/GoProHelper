{
 "cells": [
  {
   "cell_type": "code",
   "execution_count": 1,
   "metadata": {
    "collapsed": true
   },
   "outputs": [],
   "source": [
    "import time\n",
    "import IPython\n",
    "import ipywidgets\n",
    "\n",
    "import context\n",
    "\n",
    "import gopro_helper.task as task"
   ]
  },
  {
   "cell_type": "code",
   "execution_count": null,
   "metadata": {
    "collapsed": true
   },
   "outputs": [],
   "source": []
  },
  {
   "cell_type": "code",
   "execution_count": 19,
   "metadata": {
    "collapsed": true
   },
   "outputs": [],
   "source": [
    "class Example(task.Task):\n",
    "    \"\"\"Simple example of a work task running in a background thread.\n",
    "    \"\"\"\n",
    "    def __init__(self, label='', *args, **kwargs):\n",
    "        self.label = label\n",
    "        self.max = 10\n",
    "        super().__init__(interval=0.01, *args, **kwargs)\n",
    "        \n",
    "    def initialize(self, ):\n",
    "        self.widget = ipywidgets.FloatSlider(min=0, max=self.max, description=self.label)\n",
    "        IPython.display.display(self.widget)\n",
    "\n",
    "    def update(self):\n",
    "        self.widget.value = round(time.time() % self.max, 2)\n",
    "\n",
    "    def finish(self):\n",
    "        self.widget.close()\n",
    "\n",
    "    def special_update_max(self, max_new):\n",
    "        with self.lock:\n",
    "            self.max = max_new\n",
    "            self.widget.max = max_new\n",
    "\n"
   ]
  },
  {
   "cell_type": "code",
   "execution_count": null,
   "metadata": {
    "collapsed": true
   },
   "outputs": [],
   "source": []
  },
  {
   "cell_type": "code",
   "execution_count": 20,
   "metadata": {},
   "outputs": [
    {
     "data": {
      "application/vnd.jupyter.widget-view+json": {
       "model_id": "daf60ef6228745f193ddb1da5234b532"
      }
     },
     "metadata": {},
     "output_type": "display_data"
    }
   ],
   "source": [
    "e = Example(label='Seconds', auto_start=True)"
   ]
  },
  {
   "cell_type": "code",
   "execution_count": 23,
   "metadata": {},
   "outputs": [],
   "source": [
    "e.special_update_max(5)"
   ]
  },
  {
   "cell_type": "code",
   "execution_count": 24,
   "metadata": {
    "collapsed": true
   },
   "outputs": [],
   "source": [
    "e.stop()"
   ]
  },
  {
   "cell_type": "code",
   "execution_count": null,
   "metadata": {
    "collapsed": true
   },
   "outputs": [],
   "source": []
  }
 ],
 "metadata": {
  "kernelspec": {
   "display_name": "Python 3",
   "language": "python",
   "name": "python3"
  },
  "language_info": {
   "codemirror_mode": {
    "name": "ipython",
    "version": 3
   },
   "file_extension": ".py",
   "mimetype": "text/x-python",
   "name": "python",
   "nbconvert_exporter": "python",
   "pygments_lexer": "ipython3",
   "version": "3.6.1"
  }
 },
 "nbformat": 4,
 "nbformat_minor": 2
}
