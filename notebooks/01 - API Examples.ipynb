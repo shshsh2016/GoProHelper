{
 "cells": [
  {
   "cell_type": "code",
   "execution_count": 1,
   "metadata": {},
   "outputs": [],
   "source": [
    "import context\n",
    "\n",
    "import gopro_helper as gopro"
   ]
  },
  {
   "cell_type": "markdown",
   "metadata": {},
   "source": [
    "## List Camera Modes"
   ]
  },
  {
   "cell_type": "code",
   "execution_count": 2,
   "metadata": {},
   "outputs": [
    {
     "data": {
      "text/plain": [
       "['video', 'audio', 'photo', 'multi_shot']"
      ]
     },
     "execution_count": 2,
     "metadata": {},
     "output_type": "execute_result"
    }
   ],
   "source": [
    "gopro.api.camera_modes()"
   ]
  },
  {
   "cell_type": "markdown",
   "metadata": {},
   "source": [
    "## List Mode Feature Names"
   ]
  },
  {
   "cell_type": "code",
   "execution_count": 3,
   "metadata": {},
   "outputs": [
    {
     "name": "stdout",
     "output_type": "stream",
     "text": [
      " 1 - default_sub_mode       [Default Video Sub Mode]\n",
      "68 - current_sub_mode       [Video Sub Mode]\n",
      " 2 - resolution             [Resolution]\n",
      " 3 - fps                    [Frames Per Second]\n",
      " 4 - fov                    [Field of View]\n",
      " 5 - timelapse_rate         [Interval]\n",
      " 6 - looping                [Interval]\n",
      " 7 - piv                    [Interval]\n",
      " 8 - low_light              [Low Light]\n",
      "78 - eis                    [Video Stabilization]\n",
      "10 - protune                [Protune]\n",
      "11 - protune_white_balance  [White Balance]\n",
      "12 - protune_color          [Color]\n",
      "14 - protune_sharpness      [Sharpness]\n",
      "15 - protune_ev             [EV Comp]\n",
      "73 - exposure_time          [Shutter]\n",
      "13 - protune_iso            [ISO]\n",
      "74 - protune_iso_mode       [ISO Mode]\n",
      "96 - no_audio               [No Audio Track]\n"
     ]
    }
   ],
   "source": [
    "m = 'video'\n",
    "# m = 'photo'\n",
    "# m = 'audio'\n",
    "# m = 'multi_shot'\n",
    "\n",
    "features = gopro.api.mode_features(m)\n",
    "    \n",
    "for F in features:\n",
    "    print('{:2d} - {:22s} [{}]'.format(F['id'], F['path_segment'], F['display_name']))"
   ]
  },
  {
   "cell_type": "markdown",
   "metadata": {},
   "source": [
    "# List Feature Options"
   ]
  },
  {
   "cell_type": "code",
   "execution_count": 4,
   "metadata": {},
   "outputs": [
    {
     "name": "stdout",
     "output_type": "stream",
     "text": [
      "Option IDs and values for mode=\"video\" and feature=\"fov\":\n",
      "[ 3] - Superview \n",
      "[ 0] - Wide \n",
      "[ 1] - Medium \n",
      "[ 4] - Linear \n",
      "[ 2] - Narrow \n"
     ]
    }
   ],
   "source": [
    "m = 'video'\n",
    "# m = 'photo'\n",
    "# m = 'audio'\n",
    "# m = 'multi_shot'\n",
    "\n",
    "fid = 4\n",
    "\n",
    "name, fid, options = gopro.api.feature_options(m, fid)\n",
    "\n",
    "print('Option IDs and values for mode=\"{}\" and feature=\"{}\":'.format(m, name))\n",
    "for item in options:\n",
    "    print('[{:2d}] - {} '.format(item['value'], item['display_name']))"
   ]
  },
  {
   "cell_type": "markdown",
   "metadata": {},
   "source": [
    "# Reverse Lookup Feature Names/IDs"
   ]
  },
  {
   "cell_type": "code",
   "execution_count": 5,
   "metadata": {},
   "outputs": [
    {
     "data": {
      "text/plain": [
       "'protune'"
      ]
     },
     "execution_count": 5,
     "metadata": {},
     "output_type": "execute_result"
    }
   ],
   "source": [
    "m = 'video'\n",
    "gopro.api.feature_id_name(m, 10)"
   ]
  },
  {
   "cell_type": "code",
   "execution_count": 6,
   "metadata": {},
   "outputs": [
    {
     "data": {
      "text/plain": [
       "10"
      ]
     },
     "execution_count": 6,
     "metadata": {},
     "output_type": "execute_result"
    }
   ],
   "source": [
    "m = 'video'\n",
    "gopro.api.feature_name_id(m, 'protune')"
   ]
  }
 ],
 "metadata": {
  "kernelspec": {
   "display_name": "Python 3",
   "language": "python",
   "name": "python3"
  },
  "language_info": {
   "codemirror_mode": {
    "name": "ipython",
    "version": 3
   },
   "file_extension": ".py",
   "mimetype": "text/x-python",
   "name": "python",
   "nbconvert_exporter": "python",
   "pygments_lexer": "ipython3",
   "version": "3.6.1"
  }
 },
 "nbformat": 4,
 "nbformat_minor": 2
}
