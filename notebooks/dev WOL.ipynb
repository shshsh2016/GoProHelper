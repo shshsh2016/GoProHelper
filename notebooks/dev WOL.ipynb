{
 "cells": [
  {
   "cell_type": "markdown",
   "metadata": {},
   "source": [
    "# Wake on LAN"
   ]
  },
  {
   "cell_type": "markdown",
   "metadata": {},
   "source": [
    "The magic packet is a broadcast frame containing anywhere within its payload 6 bytes of all 255 (FF FF FF FF FF FF in hexadecimal), followed by sixteen repetitions of the target computer's 48-bit MAC address, for a total of 102 bytes.\n"
   ]
  },
  {
   "cell_type": "code",
   "execution_count": 67,
   "metadata": {},
   "outputs": [],
   "source": [
    "import numpy as np\n",
    "\n",
    "import wireless\n",
    "\n",
    "import context\n",
    "from gopro_helper import gopro\n",
    "from gopro_helper import api\n",
    "from gopro_helper import commands"
   ]
  },
  {
   "cell_type": "code",
   "execution_count": 90,
   "metadata": {
    "scrolled": true
   },
   "outputs": [
    {
     "data": {
      "text/plain": [
       "True"
      ]
     },
     "execution_count": 90,
     "metadata": {},
     "output_type": "execute_result"
    }
   ],
   "source": [
    "# Connect computer to GoPro wifi server.  Flaky.\n",
    "wifi = wireless.Wireless()\n",
    "\n",
    "wifi.connect(ssid='GP26528824', password='surf5334')"
   ]
  },
  {
   "cell_type": "code",
   "execution_count": null,
   "metadata": {
    "collapsed": true
   },
   "outputs": [],
   "source": [
    "\n",
    "MAC = 'f6:dd:9e:8f:ae:cf'\n",
    "\n",
    "def wake_on_lan(mac=MAC):\n",
    "    \"\"\"Command remote device to turn on, https://en.wikipedia.org/wiki/Wake-on-LAN\n",
    "    \"\"\"\n",
    "    IP = api.base_addr\n",
    "\n",
    "    # Verify MAC address format\n",
    "    if len(mac) == 12:\n",
    "        pass\n",
    "    elif len(mac) == 12 + 5:\n",
    "        sep = mac[2]\n",
    "        mac = mac.replace(sep, '')\n",
    "    else:\n",
    "        raise ValueError('Unexpected MAC address format {}'.format(mac))\n",
    "\n",
    "    if isinstance(mac, str):\n",
    "        mac = bytes(mac.encode())\n",
    "\n",
    "    # Pad the synchronization stream.\n",
    "    data_FF = np.zeros(dtype=np.uint8,shape=(6))\n",
    "\n",
    "    data = b''.join([b'FFFFFFFFFFFF', mac * 16])\n",
    "    send_data = b''\n",
    "\n",
    "    message = .join([b'FFFFFFFFFFFF', mac * 16])\n",
    "\n",
    "    # Split up the hex values and pack.\n",
    "    for i in range(0, len(data), 2):\n",
    "        send_data = b''.join( [send_data, struct.pack('B', int(data[i: i + 2], 16))] )\n",
    "\n",
    "    # Broadcast it to the LAN.\n",
    "    S = socket.socket(socket.AF_INET, socket.SOCK_DGRAM)\n",
    "\n",
    "    # http://www.delorie.com/gnu/docs/glibc/libc_352.html\n",
    "    S.setsockopt(socket.SOL_SOCKET, socket.SO_BROADCAST, 1)\n",
    "\n",
    "    S.sendto(send_data, (ip, 9))\n"
   ]
  },
  {
   "cell_type": "code",
   "execution_count": 99,
   "metadata": {},
   "outputs": [
    {
     "name": "stdout",
     "output_type": "stream",
     "text": [
      "http://10.5.5.9/gp/gpControl/status\n"
     ]
    }
   ],
   "source": [
    "print(api.url_status)"
   ]
  },
  {
   "cell_type": "code",
   "execution_count": null,
   "metadata": {
    "collapsed": true
   },
   "outputs": [],
   "source": []
  },
  {
   "cell_type": "code",
   "execution_count": 95,
   "metadata": {},
   "outputs": [],
   "source": [
    "# https://superuser.com/questions/295325/does-it-matter-what-udp-port-a-wol-signal-is-sent-to\n",
    "\n"
   ]
  },
  {
   "cell_type": "code",
   "execution_count": null,
   "metadata": {
    "collapsed": true
   },
   "outputs": [],
   "source": [
    "'f6:dd:9e:8f:ae:cf'"
   ]
  },
  {
   "cell_type": "code",
   "execution_count": 100,
   "metadata": {},
   "outputs": [
    {
     "name": "stdout",
     "output_type": "stream",
     "text": [
      "102\n"
     ]
    }
   ],
   "source": [
    "# Camera IP address\n",
    "ip = '10.5.5.9'\n",
    "\n",
    "\n",
    "port = 9\n",
    "addr = (ip, port)\n",
    "\n",
    "# Six bytes equal to 255 (FF)\n",
    "FF_bytes = b'\\xff' * 6\n",
    "\n",
    "# Six-byte MAC address\n",
    "mac_string = 'f6:dd:9e:8f:ae:cf'\n",
    "\n",
    "mac_ints = [int(value, 16) for value in mac_string.split(':')]\n",
    "mac_bytes = bytes(mac_ints)\n",
    "\n",
    "# WOL payload data\n",
    "data = FF_bytes + mac_bytes * 16\n",
    "\n",
    "# Data size should be 102 bytes\n",
    "assert(len(data) == 102)\n",
    "\n",
    "# Create UDP datagram socket\n",
    "S = socket.socket(socket.AF_INET, socket.SOCK_DGRAM)\n",
    "\n",
    "# http://www.delorie.com/gnu/docs/glibc/libc_352.html\n",
    "S.setsockopt(socket.SOL_SOCKET, socket.SO_BROADCAST, 1)\n",
    "\n",
    "# Send WOL payload\n",
    "N = S.sendto(data, addr)\n",
    "\n",
    "print(N)"
   ]
  },
  {
   "cell_type": "code",
   "execution_count": 97,
   "metadata": {},
   "outputs": [
    {
     "data": {
      "text/plain": [
       "102"
      ]
     },
     "execution_count": 97,
     "metadata": {},
     "output_type": "execute_result"
    }
   ],
   "source": []
  },
  {
   "cell_type": "code",
   "execution_count": 81,
   "metadata": {},
   "outputs": [
    {
     "data": {
      "text/plain": [
       "('http://10.5.5.9', 9)"
      ]
     },
     "execution_count": 81,
     "metadata": {},
     "output_type": "execute_result"
    }
   ],
   "source": [
    "addr"
   ]
  },
  {
   "cell_type": "code",
   "execution_count": 39,
   "metadata": {},
   "outputs": [
    {
     "data": {
      "text/plain": [
       "6"
      ]
     },
     "execution_count": 39,
     "metadata": {},
     "output_type": "execute_result"
    }
   ],
   "source": [
    "len(mac_bytes)"
   ]
  },
  {
   "cell_type": "code",
   "execution_count": 24,
   "metadata": {
    "collapsed": true
   },
   "outputs": [],
   "source": [
    "s='\\xFF'"
   ]
  },
  {
   "cell_type": "code",
   "execution_count": null,
   "metadata": {
    "collapsed": true
   },
   "outputs": [],
   "source": [
    "GoPro.keepAlivePeriod = 2500;\n",
    "GoPro.keepAliveMessage = new Buffer(\"_GPHD_:0:0:2:0.000000\\n\");\n",
    "GoPro.keepAlivePort = 8554;\n",
    "\n",
    "\n",
    "    var kaInterval = function () {\n",
    "        var client = dgram.createSocket(\"udp4\");\n",
    "        client.send(GoPro.keepAliveMessage, 0,\n",
    "                    GoPro.keepAliveMessage.length, GoPro.keepAlivePort,\n",
    "                    self._ip, function () {\n",
    "            client.close();\n",
    "        });\n",
    "    };\n",
    "\n",
    "    "
   ]
  }
 ],
 "metadata": {
  "kernelspec": {
   "display_name": "Python 3",
   "language": "python",
   "name": "python3"
  },
  "language_info": {
   "codemirror_mode": {
    "name": "ipython",
    "version": 3
   },
   "file_extension": ".py",
   "mimetype": "text/x-python",
   "name": "python",
   "nbconvert_exporter": "python",
   "pygments_lexer": "ipython3",
   "version": "3.5.3"
  }
 },
 "nbformat": 4,
 "nbformat_minor": 2
}
