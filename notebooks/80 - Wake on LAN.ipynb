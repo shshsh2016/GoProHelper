{
 "cells": [
  {
   "cell_type": "markdown",
   "metadata": {},
   "source": [
    "# Wake on LAN"
   ]
  },
  {
   "cell_type": "markdown",
   "metadata": {},
   "source": [
    "The magic packet is a broadcast frame containing anywhere within its payload 6 bytes of all 255 (FF FF FF FF FF FF in hexadecimal), followed by sixteen repetitions of the target computer's 48-bit MAC address, for a total of 102 bytes.\n"
   ]
  },
  {
   "cell_type": "markdown",
   "metadata": {},
   "source": [
    "I don't think will actually work with WiFI...'"
   ]
  },
  {
   "cell_type": "code",
   "execution_count": 2,
   "metadata": {},
   "outputs": [],
   "source": [
    "import numpy as np\n",
    "\n",
    "import context\n",
    "import gopro_helper as gopro"
   ]
  },
  {
   "cell_type": "code",
   "execution_count": null,
   "metadata": {
    "collapsed": true
   },
   "outputs": [],
   "source": [
    "ssid = 'GP26528824'\n",
    "# ssid = 'GreenCanoe'\n",
    "\n",
    "gopro.network.connect_wifi(ssid)"
   ]
  },
  {
   "cell_type": "code",
   "execution_count": null,
   "metadata": {
    "collapsed": true
   },
   "outputs": [],
   "source": [
    "\n",
    "MAC = 'f6:dd:9e:8f:ae:cf'\n",
    "\n",
    "def wake_on_lan(mac=MAC):\n",
    "    \"\"\"Command remote device to turn on, https://en.wikipedia.org/wiki/Wake-on-LAN\n",
    "    \"\"\"\n",
    "    IP = api.base_addr\n",
    "\n",
    "    # Verify MAC address format\n",
    "    if len(mac) == 12:\n",
    "        pass\n",
    "    elif len(mac) == 12 + 5:\n",
    "        sep = mac[2]\n",
    "        mac = mac.replace(sep, '')\n",
    "    else:\n",
    "        raise ValueError('Unexpected MAC address format {}'.format(mac))\n",
    "\n",
    "    if isinstance(mac, str):\n",
    "        mac = bytes(mac.encode())\n",
    "\n",
    "    # Pad the synchronization stream.\n",
    "    data_FF = np.zeros(dtype=np.uint8,shape=(6))\n",
    "\n",
    "    data = b''.join([b'FFFFFFFFFFFF', mac * 16])\n",
    "    send_data = b''\n",
    "\n",
    "    message = .join([b'FFFFFFFFFFFF', mac * 16])\n",
    "\n",
    "    # Split up the hex values and pack.\n",
    "    for i in range(0, len(data), 2):\n",
    "        send_data = b''.join( [send_data, struct.pack('B', int(data[i: i + 2], 16))] )\n",
    "\n",
    "    # Broadcast it to the LAN.\n",
    "    S = socket.socket(socket.AF_INET, socket.SOCK_DGRAM)\n",
    "\n",
    "    # http://www.delorie.com/gnu/docs/glibc/libc_352.html\n",
    "    S.setsockopt(socket.SOL_SOCKET, socket.SO_BROADCAST, 1)\n",
    "\n",
    "    S.sendto(send_data, (ip, 9))\n"
   ]
  },
  {
   "cell_type": "code",
   "execution_count": 99,
   "metadata": {},
   "outputs": [
    {
     "name": "stdout",
     "output_type": "stream",
     "text": [
      "http://10.5.5.9/gp/gpControl/status\n"
     ]
    }
   ],
   "source": [
    "print(api.url_status)"
   ]
  },
  {
   "cell_type": "code",
   "execution_count": null,
   "metadata": {
    "collapsed": true
   },
   "outputs": [],
   "source": []
  },
  {
   "cell_type": "code",
   "execution_count": 95,
   "metadata": {
    "collapsed": true
   },
   "outputs": [],
   "source": [
    "# https://superuser.com/questions/295325/does-it-matter-what-udp-port-a-wol-signal-is-sent-to\n",
    "\n"
   ]
  }
 ],
 "metadata": {
  "kernelspec": {
   "display_name": "Python 3",
   "language": "python",
   "name": "python3"
  },
  "language_info": {
   "codemirror_mode": {
    "name": "ipython",
    "version": 3
   },
   "file_extension": ".py",
   "mimetype": "text/x-python",
   "name": "python",
   "nbconvert_exporter": "python",
   "pygments_lexer": "ipython3",
   "version": "3.6.1"
  }
 },
 "nbformat": 4,
 "nbformat_minor": 2
}
