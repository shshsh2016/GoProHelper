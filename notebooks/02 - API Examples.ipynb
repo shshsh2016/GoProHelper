{
 "cells": [
  {
   "cell_type": "code",
   "execution_count": 1,
   "metadata": {},
   "outputs": [],
   "source": [
    "import context\n",
    "\n",
    "import gopro_helper as gopro"
   ]
  },
  {
   "cell_type": "code",
   "execution_count": 21,
   "metadata": {},
   "outputs": [
    {
     "name": "stdout",
     "output_type": "stream",
     "text": [
      "The autoreload extension is already loaded. To reload it, use:\n",
      "  %reload_ext autoreload\n"
     ]
    }
   ],
   "source": [
    "%load_ext autoreload\n",
    "%autoreload 2"
   ]
  },
  {
   "cell_type": "markdown",
   "metadata": {},
   "source": [
    "# Camera Raw Status and Settings Information"
   ]
  },
  {
   "cell_type": "code",
   "execution_count": 23,
   "metadata": {},
   "outputs": [],
   "source": [
    "raw_status, raw_settings = gopro.commands.get_raw_status_settings()"
   ]
  },
  {
   "cell_type": "code",
   "execution_count": 24,
   "metadata": {
    "collapsed": true
   },
   "outputs": [],
   "source": [
    "info_status = gopro.api.parse_status_names(raw_status)"
   ]
  },
  {
   "cell_type": "code",
   "execution_count": 25,
   "metadata": {},
   "outputs": [
    {
     "data": {
      "text/plain": [
       "Struct([('external_battery_present', 0),\n",
       "        ('external_battery_level', 255),\n",
       "        ('system_hot', 0),\n",
       "        ('system_busy', 0),\n",
       "        ('quick_capture_active', 0),\n",
       "        ('encoding_active', 0),\n",
       "        ('lcd_lock_active', 0),\n",
       "        ('camera_locate_active', 0),\n",
       "        ('current_time_msec', 153138),\n",
       "        ('next_poll_msec', 500),\n",
       "        ('analytics_ready', 2),\n",
       "        ('analytics_size', 0),\n",
       "        ('in_contextual_menu', 0),\n",
       "        ('gps_status', 0),\n",
       "        ('acc_mic_status', 0),\n",
       "        ('mode', 0),\n",
       "        ('sub_mode', 0),\n",
       "        ('video_selected_flatmode', 12),\n",
       "        ('photo_selected_flatmode', 17),\n",
       "        ('timelapse_selected_flatmode', 20),\n",
       "        ('sd_status', 0),\n",
       "        ('remaining_photos', 9360),\n",
       "        ('remaining_video_time', 9029),\n",
       "        ('num_group_photos', 1),\n",
       "        ('num_group_videos', 0),\n",
       "        ('num_total_photos', 1),\n",
       "        ('num_total_videos', 0),\n",
       "        ('remaining_space', 62297984),\n",
       "        ('num_hilights', 0),\n",
       "        ('last_hilight_time_msec', 0),\n",
       "        ('remaining_timelapse_time', 0),\n",
       "        ('date_time', '%11%06%19%12%0C%2B'),\n",
       "        ('battery_percentage', 0),\n",
       "        ('battery_present', 1),\n",
       "        ('battery_level', 0)])"
      ]
     },
     "execution_count": 25,
     "metadata": {},
     "output_type": "execute_result"
    }
   ],
   "source": [
    "info_status"
   ]
  },
  {
   "cell_type": "code",
   "execution_count": 5,
   "metadata": {},
   "outputs": [
    {
     "data": {
      "text/plain": [
       "('video', 'Video')"
      ]
     },
     "execution_count": 5,
     "metadata": {},
     "output_type": "execute_result"
    }
   ],
   "source": [
    "gopro.api.parse_mode_sub_mode(info_status)"
   ]
  },
  {
   "cell_type": "markdown",
   "metadata": {},
   "source": [
    "## List Camera Modes"
   ]
  },
  {
   "cell_type": "code",
   "execution_count": 6,
   "metadata": {},
   "outputs": [
    {
     "data": {
      "text/plain": [
       "['video', 'audio', 'photo', 'multi_shot', 'setup']"
      ]
     },
     "execution_count": 6,
     "metadata": {},
     "output_type": "execute_result"
    }
   ],
   "source": [
    "gopro.api.camera_modes()"
   ]
  },
  {
   "cell_type": "markdown",
   "metadata": {},
   "source": [
    "## List Mode Feature Names"
   ]
  },
  {
   "cell_type": "code",
   "execution_count": 7,
   "metadata": {},
   "outputs": [
    {
     "name": "stdout",
     "output_type": "stream",
     "text": [
      "51 - lcd_sleep              [Screensaver]\n",
      "52 - orientation            [Auto-Rotation]\n",
      "89 - default_app_mode_flat  [Default Mode]\n",
      "92 - current_flat_mode      [Current Flat Mode]\n",
      "54 - quick_capture          [Quick Capture]\n",
      "91 - led_v2                 [LED]\n",
      "83 - gps                    [GPS]\n",
      "84 - language               [Language]\n",
      "85 - voice_control_language [Voice Control Language]\n",
      "86 - local_voice_control    [Voice Control Enable]\n",
      "88 - lcd_brightness_v2      [LCD Brightness]\n",
      "87 - beep_volume_v2         [Beeps]\n",
      "57 - video_format           [Video Format]\n",
      "59 - auto_power_down        [Auto Off]\n",
      "60 - stream_gop_size        [Secondary Stream GOP Size]\n",
      "61 - stream_idr_interval    [Secondary Stream IDR Interval]\n",
      "62 - stream_bit_rate        [Secondary Stream Bit Rate]\n",
      "64 - stream_window_size     [Secondary Stream Window Size]\n",
      "95 - acc_mic_mode           [Audio Input]\n"
     ]
    }
   ],
   "source": [
    "# m = 'video'\n",
    "# m = 'photo'\n",
    "# m = 'audio'\n",
    "# m = 'multi_shot'\n",
    "m = 'setup'\n",
    "\n",
    "features = gopro.api.mode_features(m)\n",
    "    \n",
    "for F in features:\n",
    "    print('{:2d} - {:22s} [{}]'.format(F['id'], F['path_segment'], F['display_name']))"
   ]
  },
  {
   "cell_type": "markdown",
   "metadata": {},
   "source": [
    "# List Feature Options"
   ]
  },
  {
   "cell_type": "code",
   "execution_count": 10,
   "metadata": {},
   "outputs": [
    {
     "name": "stdout",
     "output_type": "stream",
     "text": [
      "Option IDs and values for mode=\"setup\" and feature=\"current_flat_mode\":\n",
      "[12] - Video \n",
      "[14] - Video + Photo \n",
      "[15] - Looping \n",
      "[13] - Time Lapse Video \n",
      "[16] - Single Photo \n",
      "[17] - Photo \n",
      "[18] - Night Photo \n",
      "[19] - Burst Photo \n",
      "[21] - Night Lapse Photo \n",
      "[20] - Time Lapse Photo \n"
     ]
    }
   ],
   "source": [
    "# m = 'video'\n",
    "# m = 'photo'\n",
    "# m = 'audio'\n",
    "# m = 'multi_shot'\n",
    "m = 'setup'\n",
    "\n",
    "fid = 92\n",
    "\n",
    "name, fid, options = gopro.api.feature_options(m, fid)\n",
    "\n",
    "print('Option IDs and values for mode=\"{}\" and feature=\"{}\":'.format(m, name))\n",
    "for item in options:\n",
    "    print('[{:2d}] - {} '.format(item['value'], item['display_name']))"
   ]
  },
  {
   "cell_type": "markdown",
   "metadata": {},
   "source": [
    "# Reverse Lookup Feature Names and IDs"
   ]
  },
  {
   "cell_type": "code",
   "execution_count": 5,
   "metadata": {},
   "outputs": [
    {
     "data": {
      "text/plain": [
       "'protune'"
      ]
     },
     "execution_count": 5,
     "metadata": {},
     "output_type": "execute_result"
    }
   ],
   "source": [
    "m = 'video'\n",
    "gopro.api.feature_id_name(m, 10)"
   ]
  },
  {
   "cell_type": "code",
   "execution_count": 15,
   "metadata": {},
   "outputs": [
    {
     "ename": "ValueError",
     "evalue": "Invalid mode/feature combination: \"photo\", \"photo_selected_flatmode\"",
     "output_type": "error",
     "traceback": [
      "\u001b[0;31m---------------------------------------------------------------------------\u001b[0m",
      "\u001b[0;31mValueError\u001b[0m                                Traceback (most recent call last)",
      "\u001b[0;32m<ipython-input-15-78d38ccdd4e2>\u001b[0m in \u001b[0;36m<module>\u001b[0;34m()\u001b[0m\n\u001b[1;32m      1\u001b[0m \u001b[0mm\u001b[0m \u001b[0;34m=\u001b[0m \u001b[0;34m'photo'\u001b[0m\u001b[0;34m\u001b[0m\u001b[0m\n\u001b[0;32m----> 2\u001b[0;31m \u001b[0mgopro\u001b[0m\u001b[0;34m.\u001b[0m\u001b[0mapi\u001b[0m\u001b[0;34m.\u001b[0m\u001b[0mfeature_name_id\u001b[0m\u001b[0;34m(\u001b[0m\u001b[0mm\u001b[0m\u001b[0;34m,\u001b[0m \u001b[0;34m'photo_selected_flatmode'\u001b[0m\u001b[0;34m)\u001b[0m\u001b[0;34m\u001b[0m\u001b[0m\n\u001b[0m",
      "\u001b[0;32m~/Projects/GoProHelper/gopro_helper/api.py\u001b[0m in \u001b[0;36mfeature_name_id\u001b[0;34m(mode, name)\u001b[0m\n\u001b[1;32m    230\u001b[0m     \"\"\"Return feature ID belonging to supplied name\n\u001b[1;32m    231\u001b[0m     \"\"\"\n\u001b[0;32m--> 232\u001b[0;31m     \u001b[0mname\u001b[0m\u001b[0;34m,\u001b[0m \u001b[0mfid\u001b[0m\u001b[0;34m,\u001b[0m \u001b[0moptions\u001b[0m \u001b[0;34m=\u001b[0m \u001b[0mfeature_options\u001b[0m\u001b[0;34m(\u001b[0m\u001b[0mmode\u001b[0m\u001b[0;34m,\u001b[0m \u001b[0mname\u001b[0m\u001b[0;34m)\u001b[0m\u001b[0;34m\u001b[0m\u001b[0m\n\u001b[0m\u001b[1;32m    233\u001b[0m     \u001b[0;32mreturn\u001b[0m \u001b[0mfid\u001b[0m\u001b[0;34m\u001b[0m\u001b[0m\n\u001b[1;32m    234\u001b[0m \u001b[0;34m\u001b[0m\u001b[0m\n",
      "\u001b[0;32m~/Projects/GoProHelper/gopro_helper/api.py\u001b[0m in \u001b[0;36mfeature_options\u001b[0;34m(mode, name_or_id)\u001b[0m\n\u001b[1;32m    201\u001b[0m             \u001b[0;32mreturn\u001b[0m \u001b[0mname\u001b[0m\u001b[0;34m,\u001b[0m \u001b[0mfid\u001b[0m\u001b[0;34m,\u001b[0m \u001b[0moptions\u001b[0m\u001b[0;34m\u001b[0m\u001b[0m\n\u001b[1;32m    202\u001b[0m \u001b[0;34m\u001b[0m\u001b[0m\n\u001b[0;32m--> 203\u001b[0;31m     \u001b[0;32mraise\u001b[0m \u001b[0mValueError\u001b[0m\u001b[0;34m(\u001b[0m\u001b[0;34m'Invalid mode/feature combination: \"{}\", \"{}\"'\u001b[0m\u001b[0;34m.\u001b[0m\u001b[0mformat\u001b[0m\u001b[0;34m(\u001b[0m\u001b[0mmode\u001b[0m\u001b[0;34m,\u001b[0m \u001b[0mname_or_id\u001b[0m\u001b[0;34m)\u001b[0m\u001b[0;34m)\u001b[0m\u001b[0;34m\u001b[0m\u001b[0m\n\u001b[0m\u001b[1;32m    204\u001b[0m \u001b[0;34m\u001b[0m\u001b[0m\n\u001b[1;32m    205\u001b[0m \u001b[0;34m\u001b[0m\u001b[0m\n",
      "\u001b[0;31mValueError\u001b[0m: Invalid mode/feature combination: \"photo\", \"photo_selected_flatmode\""
     ]
    }
   ],
   "source": [
    "m = 'photo'\n",
    "gopro.api.feature_name_id(m, 'photo_selected_flatmode')"
   ]
  },
  {
   "cell_type": "code",
   "execution_count": null,
   "metadata": {
    "collapsed": true
   },
   "outputs": [],
   "source": []
  }
 ],
 "metadata": {
  "kernelspec": {
   "display_name": "Python 3",
   "language": "python",
   "name": "python3"
  },
  "language_info": {
   "codemirror_mode": {
    "name": "ipython",
    "version": 3
   },
   "file_extension": ".py",
   "mimetype": "text/x-python",
   "name": "python",
   "nbconvert_exporter": "python",
   "pygments_lexer": "ipython3",
   "version": "3.6.1"
  }
 },
 "nbformat": 4,
 "nbformat_minor": 2
}
