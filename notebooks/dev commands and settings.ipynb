{
 "cells": [
  {
   "cell_type": "markdown",
   "metadata": {},
   "source": [
    "# Issue Commands to Change Settings"
   ]
  },
  {
   "cell_type": "markdown",
   "metadata": {},
   "source": [
    "https://github.com/stilldavid/gopro-utils"
   ]
  },
  {
   "cell_type": "code",
   "execution_count": 1,
   "metadata": {
    "collapsed": true
   },
   "outputs": [],
   "source": [
    "import bs4\n",
    "\n",
    "import data_io\n",
    "\n",
    "import context\n",
    "\n",
    "from gopro_helper import gopro\n",
    "from gopro_helper import api\n",
    "from gopro_helper import commands"
   ]
  },
  {
   "cell_type": "markdown",
   "metadata": {},
   "source": [
    "# Camera Current Settings"
   ]
  },
  {
   "cell_type": "code",
   "execution_count": 27,
   "metadata": {},
   "outputs": [
    {
     "data": {
      "application/vnd.jupyter.widget-view+json": {
       "model_id": "f0f92c63a32c463398ac5b056649c1cc"
      }
     },
     "metadata": {},
     "output_type": "display_data"
    }
   ],
   "source": [
    "k = gopro.GoProStatus(interval=1)"
   ]
  },
  {
   "cell_type": "code",
   "execution_count": 65,
   "metadata": {
    "collapsed": true
   },
   "outputs": [],
   "source": [
    "k.stop()"
   ]
  },
  {
   "cell_type": "markdown",
   "metadata": {},
   "source": [
    "# Basic Commands"
   ]
  },
  {
   "cell_type": "code",
   "execution_count": 2,
   "metadata": {
    "collapsed": true
   },
   "outputs": [],
   "source": [
    "commands.set_mode_photo()"
   ]
  },
  {
   "cell_type": "code",
   "execution_count": 38,
   "metadata": {
    "collapsed": true
   },
   "outputs": [],
   "source": [
    "commands.set_mode_video()"
   ]
  },
  {
   "cell_type": "code",
   "execution_count": 53,
   "metadata": {
    "collapsed": true
   },
   "outputs": [],
   "source": [
    "commands.shutter_capture()"
   ]
  },
  {
   "cell_type": "code",
   "execution_count": 52,
   "metadata": {
    "collapsed": true
   },
   "outputs": [],
   "source": [
    "commands.shutter_stop()"
   ]
  },
  {
   "cell_type": "code",
   "execution_count": 22,
   "metadata": {},
   "outputs": [
    {
     "name": "stdout",
     "output_type": "stream",
     "text": [
      "CPU times: user 16 ms, sys: 0 ns, total: 16 ms\n",
      "Wall time: 129 ms\n"
     ]
    }
   ],
   "source": [
    "%%time\n",
    "\n",
    "urls = commands.get_data_urls()"
   ]
  },
  {
   "cell_type": "code",
   "execution_count": 23,
   "metadata": {},
   "outputs": [
    {
     "data": {
      "text/plain": [
       "0"
      ]
     },
     "execution_count": 23,
     "metadata": {},
     "output_type": "execute_result"
    }
   ],
   "source": [
    "len(urls)"
   ]
  },
  {
   "cell_type": "markdown",
   "metadata": {},
   "source": [
    "---"
   ]
  },
  {
   "cell_type": "code",
   "execution_count": 2,
   "metadata": {
    "collapsed": true
   },
   "outputs": [],
   "source": [
    "from progress_bar import bar"
   ]
  },
  {
   "cell_type": "code",
   "execution_count": 69,
   "metadata": {
    "collapsed": true
   },
   "outputs": [],
   "source": [
    "def local_data(path_save='./data'):\n",
    "    \"\"\"Return list of locally-stored data files\n",
    "    \"\"\"\n",
    "    files = data_io.find(path_save, ['*.JPG', '*.jpg', '*.MP4', '*.mp4'])\n",
    "    names = [os.path.basename(f) for f in files]\n",
    "    \n",
    "    return names"
   ]
  },
  {
   "cell_type": "code",
   "execution_count": 70,
   "metadata": {
    "collapsed": true
   },
   "outputs": [],
   "source": [
    "def update_local_data(path_save='./data', delete=False):\n",
    "\n",
    "    local_names = local_data(path_save)\n",
    "    data_urls = commands.get_data_urls()\n",
    "    \n",
    "    for url in bar(data_urls):\n",
    "        name = os.path.basename(url)\n",
    "        if name not in local_names:\n",
    "            f = commands.download(url, path_save)\n",
    "                \n",
    "        if delete:\n",
    "            commands.delete_file(url)"
   ]
  },
  {
   "cell_type": "code",
   "execution_count": 76,
   "metadata": {},
   "outputs": [
    {
     "data": {
      "application/vnd.jupyter.widget-view+json": {
       "model_id": "d159fb7774144f2b8a22fea97617eb34"
      }
     },
     "metadata": {},
     "output_type": "display_data"
    }
   ],
   "source": [
    "update_local_data(delete=True)"
   ]
  },
  {
   "cell_type": "code",
   "execution_count": null,
   "metadata": {
    "collapsed": true
   },
   "outputs": [],
   "source": []
  },
  {
   "cell_type": "code",
   "execution_count": null,
   "metadata": {
    "collapsed": true
   },
   "outputs": [],
   "source": []
  },
  {
   "cell_type": "code",
   "execution_count": 24,
   "metadata": {
    "collapsed": true
   },
   "outputs": [],
   "source": [
    "commands.shutter_capture()"
   ]
  },
  {
   "cell_type": "code",
   "execution_count": 25,
   "metadata": {
    "collapsed": true
   },
   "outputs": [],
   "source": [
    "commands.shutter_stop()"
   ]
  },
  {
   "cell_type": "code",
   "execution_count": 37,
   "metadata": {
    "collapsed": true
   },
   "outputs": [],
   "source": []
  },
  {
   "cell_type": "code",
   "execution_count": 32,
   "metadata": {},
   "outputs": [
    {
     "data": {
      "text/plain": [
       "0"
      ]
     },
     "execution_count": 32,
     "metadata": {},
     "output_type": "execute_result"
    }
   ],
   "source": [
    "s['System']['System Busy']"
   ]
  },
  {
   "cell_type": "code",
   "execution_count": 44,
   "metadata": {
    "collapsed": true
   },
   "outputs": [],
   "source": [
    "commands.set_mode_photo()"
   ]
  },
  {
   "cell_type": "code",
   "execution_count": 46,
   "metadata": {
    "collapsed": true
   },
   "outputs": [],
   "source": [
    "import time"
   ]
  },
  {
   "cell_type": "code",
   "execution_count": 60,
   "metadata": {
    "collapsed": true
   },
   "outputs": [],
   "source": [
    "def stat_summary(info):\n",
    "    t = info['System']['Current Time Msec']/1000\n",
    "    b = info['System']['System Busy'] > 0\n",
    "    \n",
    "    msg = 'time: {:.3f}  Busy: {}'.format(t,b)\n",
    "    \n",
    "    return msg"
   ]
  },
  {
   "cell_type": "code",
   "execution_count": 74,
   "metadata": {},
   "outputs": [
    {
     "name": "stdout",
     "output_type": "stream",
     "text": [
      "0.013 time: 4856.518  Busy: True\n",
      "0.037 time: 4856.544  Busy: True\n",
      "0.100 time: 4856.605  Busy: True\n",
      "0.112 time: 4856.617  Busy: True\n",
      "0.138 time: 4856.645  Busy: True\n",
      "0.290 time: 4856.706  Busy: True\n",
      "0.312 time: 4856.816  Busy: True\n",
      "2.385 time: 4858.679  Busy: True\n",
      "2.814 time: 4859.309  Busy: False\n",
      "2.830 time: 4859.333  Busy: False\n",
      "2.852 time: 4859.358  Busy: False\n",
      "2.919 time: 4859.424  Busy: False\n",
      "2.931 time: 4859.437  Busy: False\n",
      "2.956 time: 4859.462  Busy: False\n",
      "3.019 time: 4859.525  Busy: False\n"
     ]
    }
   ],
   "source": [
    "commands.shutter_capture()\n",
    "\n",
    "duration = 3\n",
    "interval = 0.025\n",
    "\n",
    "time_start = time.time()\n",
    "time_now = time.time()\n",
    "\n",
    "while time.time() - time_start < duration:\n",
    "    \n",
    "    time_pre = time.time()\n",
    "    stat = gopro.status.fetch_camera_info()    \n",
    "    time_now = time.time()\n",
    "\n",
    "    delta = time_now - time_pre\n",
    "    time_sleep = interval - delta\n",
    "    \n",
    "    print('{:.3f} {:s}'.format(time_now-time_start, stat_summary(stat)))\n",
    "\n",
    "    if time_sleep > 0.001:\n",
    "        time.sleep(time_sleep)"
   ]
  },
  {
   "cell_type": "code",
   "execution_count": null,
   "metadata": {
    "collapsed": true
   },
   "outputs": [],
   "source": []
  },
  {
   "cell_type": "code",
   "execution_count": null,
   "metadata": {
    "collapsed": true
   },
   "outputs": [],
   "source": []
  },
  {
   "cell_type": "code",
   "execution_count": 132,
   "metadata": {
    "scrolled": true
   },
   "outputs": [
    {
     "data": {
      "text/plain": [
       "OrderedDict([('Photo',\n",
       "              {'Color': 'GoPro',\n",
       "               'Default Photo Sub Mode': 'Single',\n",
       "               'EV Comp': '0.0',\n",
       "               'ISO MAX': '400',\n",
       "               'ISO MIN': '100',\n",
       "               'Megapixels': '12MP Linear',\n",
       "               'Photo Sub Mode': 'Continuous',\n",
       "               'Protune': 'ON',\n",
       "               'RAW': 'OFF',\n",
       "               'Sharpness': 'Low',\n",
       "               'Shutter': 'Auto',\n",
       "               'WDR': 'ON',\n",
       "               'White Balance': '3000K'}),\n",
       "             ('Setup',\n",
       "              {'Audio Input': 'Standard Mic',\n",
       "               'Auto Off': 'NEVER',\n",
       "               'Auto-Rotation': 'Auto',\n",
       "               'Beeps': 'Low',\n",
       "               'Current Flat Mode': 'Photo',\n",
       "               'Default Mode': 'Video',\n",
       "               'GPS': 'ON',\n",
       "               'LCD Brightness': '51',\n",
       "               'LED': 'ON',\n",
       "               'Language': 'English',\n",
       "               'Quick Capture': 'OFF',\n",
       "               'Screensaver': '1 MIN',\n",
       "               'Secondary Stream Bit Rate': '2.5 Mbps',\n",
       "               'Secondary Stream GOP Size': '8',\n",
       "               'Secondary Stream IDR Interval': '1',\n",
       "               'Secondary Stream Window Size': '480',\n",
       "               'Video Format': 'NTSC',\n",
       "               'Voice Control Enable': 'OFF',\n",
       "               'Voice Control Language': 'English - US'}),\n",
       "             ('System',\n",
       "              {'acc_mic_status': 0,\n",
       "               'analytics_ready': 2,\n",
       "               'analytics_size': 0,\n",
       "               'ap_ssid': 'GP26528824',\n",
       "               'ap_state': 1,\n",
       "               'app_count': 0,\n",
       "               'camera_locate_active': 0,\n",
       "               'current_time_msec': 7220972,\n",
       "               'enable': 1,\n",
       "               'encoding_active': 0,\n",
       "               'external_battery_level': 0,\n",
       "               'external_battery_present': 0,\n",
       "               'gps_status': 1,\n",
       "               'in_contextual_menu': 0,\n",
       "               'internal_battery_level': 3,\n",
       "               'internal_battery_percentage': 99,\n",
       "               'internal_battery_present': 1,\n",
       "               'last_hilight_time_msec': 0,\n",
       "               'lcd_lock_active': 0,\n",
       "               'mode': 1,\n",
       "               'next_poll_msec': 500,\n",
       "               'num_group_photos': 0,\n",
       "               'num_group_videos': 0,\n",
       "               'num_hilights': 0,\n",
       "               'num_total_photos': 0,\n",
       "               'num_total_videos': 0,\n",
       "               'pair_time': 0,\n",
       "               'pairing': 82,\n",
       "               'photo_selected_flatmode': 17,\n",
       "               'provision_status': 0,\n",
       "               'quick_capture_active': 0,\n",
       "               'remaining_photos': 24336,\n",
       "               'remaining_space': 62298368,\n",
       "               'remaining_timelapse_time': 0,\n",
       "               'remaining_video_time': 9029,\n",
       "               'remote_control_connected': 0,\n",
       "               'remote_control_version': 0,\n",
       "               'scan_time_msec': 0,\n",
       "               'sd_status': 0,\n",
       "               'state': 0,\n",
       "               'sub_mode': 1,\n",
       "               'system_busy': 0,\n",
       "               'system_hot': 0,\n",
       "               'timelapse_selected_flatmode': 20,\n",
       "               'type': 0,\n",
       "               'video_selected_flatmode': 12,\n",
       "               'wifi_bars': 4,\n",
       "               'wlan_ssid': ''})])"
      ]
     },
     "execution_count": 132,
     "metadata": {},
     "output_type": "execute_result"
    }
   ],
   "source": [
    "stat = gopro.status.fetch_camera_info(pretty=False)    \n",
    "\n",
    "stat"
   ]
  },
  {
   "cell_type": "code",
   "execution_count": null,
   "metadata": {
    "collapsed": true
   },
   "outputs": [],
   "source": []
  },
  {
   "cell_type": "code",
   "execution_count": 110,
   "metadata": {},
   "outputs": [
    {
     "data": {
      "text/plain": [
       "[{'display_name': 'Video',\n",
       "  'path_segment': 'video',\n",
       "  'settings': [{'display_name': 'Default Video Sub Mode',\n",
       "    'id': 1,\n",
       "    'options': [{'display_name': 'Video', 'value': 0},\n",
       "     {'display_name': 'Time Lapse Video', 'value': 1},\n",
       "     {'display_name': 'Video + Photo', 'value': 2},\n",
       "     {'display_name': 'Looping', 'value': 3}],\n",
       "    'path_segment': 'default_sub_mode'},\n",
       "   {'display_name': 'Video Sub Mode',\n",
       "    'id': 68,\n",
       "    'options': [{'display_name': 'Video', 'value': 0},\n",
       "     {'display_name': 'Time Lapse Video', 'value': 1},\n",
       "     {'display_name': 'Video + Photo', 'value': 2},\n",
       "     {'display_name': 'Looping', 'value': 3}],\n",
       "    'path_segment': 'current_sub_mode'},\n",
       "   {'display_name': 'Resolution',\n",
       "    'id': 2,\n",
       "    'options': [{'display_name': '4K', 'value': 1},\n",
       "     {'display_name': '2.7K', 'value': 4},\n",
       "     {'display_name': '2.7K 4:3', 'value': 6},\n",
       "     {'display_name': '1440', 'value': 7},\n",
       "     {'display_name': '1080', 'value': 9},\n",
       "     {'display_name': '960', 'value': 10},\n",
       "     {'display_name': '720', 'value': 12},\n",
       "     {'display_name': '480', 'value': 17}],\n",
       "    'path_segment': 'resolution'},\n",
       "   {'display_name': 'Frames Per Second',\n",
       "    'id': 3,\n",
       "    'options': [{'display_name': '240', 'value': 0},\n",
       "     {'display_name': '120', 'value': 1},\n",
       "     {'display_name': '100', 'value': 2},\n",
       "     {'display_name': '90', 'value': 3},\n",
       "     {'display_name': '80', 'value': 4},\n",
       "     {'display_name': '60', 'value': 5},\n",
       "     {'display_name': '50', 'value': 6},\n",
       "     {'display_name': '48', 'value': 7},\n",
       "     {'display_name': '30', 'value': 8},\n",
       "     {'display_name': '25', 'value': 9},\n",
       "     {'display_name': '24', 'value': 10},\n",
       "     {'display_name': '15', 'value': 11},\n",
       "     {'display_name': '12.5', 'value': 12}],\n",
       "    'path_segment': 'fps'},\n",
       "   {'display_name': 'Field of View',\n",
       "    'id': 4,\n",
       "    'options': [{'display_name': 'Superview', 'value': 3},\n",
       "     {'display_name': 'Wide', 'value': 0},\n",
       "     {'display_name': 'Medium', 'value': 1},\n",
       "     {'display_name': 'Linear', 'value': 4},\n",
       "     {'display_name': 'Narrow', 'value': 2}],\n",
       "    'path_segment': 'fov'},\n",
       "   {'display_name': 'Interval',\n",
       "    'id': 5,\n",
       "    'options': [{'display_name': '0.5 Seconds', 'value': 0},\n",
       "     {'display_name': '1 Second', 'value': 1},\n",
       "     {'display_name': '2 Seconds', 'value': 2},\n",
       "     {'display_name': '5 Seconds', 'value': 3},\n",
       "     {'display_name': '10 Seconds', 'value': 4},\n",
       "     {'display_name': '30 Seconds', 'value': 5},\n",
       "     {'display_name': '60 Seconds', 'value': 6}],\n",
       "    'path_segment': 'timelapse_rate'},\n",
       "   {'display_name': 'Interval',\n",
       "    'id': 6,\n",
       "    'options': [{'display_name': 'Max', 'value': 0},\n",
       "     {'display_name': '5 Minutes', 'value': 1},\n",
       "     {'display_name': '20 Minutes', 'value': 2},\n",
       "     {'display_name': '60 Minutes', 'value': 3},\n",
       "     {'display_name': '120 Minutes', 'value': 4}],\n",
       "    'path_segment': 'looping'},\n",
       "   {'display_name': 'Interval',\n",
       "    'id': 7,\n",
       "    'options': [{'display_name': '1 Photo / 5 Seconds', 'value': 1},\n",
       "     {'display_name': '1 Photo / 10 Seconds', 'value': 2},\n",
       "     {'display_name': '1 Photo / 30 Seconds', 'value': 3},\n",
       "     {'display_name': '1 Photo / 60 Seconds', 'value': 4}],\n",
       "    'path_segment': 'piv'},\n",
       "   {'display_name': 'Low Light',\n",
       "    'id': 8,\n",
       "    'options': [{'display_name': 'ON', 'value': 1},\n",
       "     {'display_name': 'OFF', 'value': 0}],\n",
       "    'path_segment': 'low_light'},\n",
       "   {'display_name': 'Video Stabilization',\n",
       "    'id': 78,\n",
       "    'options': [{'display_name': 'ON', 'value': 1},\n",
       "     {'display_name': 'OFF', 'value': 0}],\n",
       "    'path_segment': 'eis'},\n",
       "   {'display_name': 'Protune',\n",
       "    'id': 10,\n",
       "    'options': [{'display_name': 'ON', 'value': 1},\n",
       "     {'display_name': 'OFF', 'value': 0}],\n",
       "    'path_segment': 'protune'},\n",
       "   {'display_name': 'White Balance',\n",
       "    'id': 11,\n",
       "    'options': [{'display_name': 'Auto', 'value': 0},\n",
       "     {'display_name': '3000K', 'value': 1},\n",
       "     {'display_name': '4000K', 'value': 5},\n",
       "     {'display_name': '4800K', 'value': 6},\n",
       "     {'display_name': '5500K', 'value': 2},\n",
       "     {'display_name': '6000K', 'value': 7},\n",
       "     {'display_name': '6500K', 'value': 3},\n",
       "     {'display_name': 'Native', 'value': 4}],\n",
       "    'path_segment': 'protune_white_balance'},\n",
       "   {'display_name': 'Color',\n",
       "    'id': 12,\n",
       "    'options': [{'display_name': 'Flat', 'value': 1},\n",
       "     {'display_name': 'GoPro', 'value': 0}],\n",
       "    'path_segment': 'protune_color'},\n",
       "   {'display_name': 'Sharpness',\n",
       "    'id': 14,\n",
       "    'options': [{'display_name': 'High', 'value': 0},\n",
       "     {'display_name': 'Medium', 'value': 1},\n",
       "     {'display_name': 'Low', 'value': 2}],\n",
       "    'path_segment': 'protune_sharpness'},\n",
       "   {'display_name': 'EV Comp',\n",
       "    'id': 15,\n",
       "    'options': [{'display_name': '-2.0', 'value': 8},\n",
       "     {'display_name': '-1.5', 'value': 7},\n",
       "     {'display_name': '-1.0', 'value': 6},\n",
       "     {'display_name': '-0.5', 'value': 5},\n",
       "     {'display_name': '0.0', 'value': 4},\n",
       "     {'display_name': '0.5', 'value': 3},\n",
       "     {'display_name': '1.0', 'value': 2},\n",
       "     {'display_name': '1.5', 'value': 1},\n",
       "     {'display_name': '2.0', 'value': 0}],\n",
       "    'path_segment': 'protune_ev'},\n",
       "   {'display_name': 'Shutter',\n",
       "    'id': 73,\n",
       "    'options': [{'display_name': 'Auto', 'value': 0},\n",
       "     {'display_name': '1/12.5', 'value': 1},\n",
       "     {'display_name': '1/15', 'value': 2},\n",
       "     {'display_name': '1/24', 'value': 3},\n",
       "     {'display_name': '1/25', 'value': 4},\n",
       "     {'display_name': '1/30', 'value': 5},\n",
       "     {'display_name': '1/48', 'value': 6},\n",
       "     {'display_name': '1/50', 'value': 7},\n",
       "     {'display_name': '1/60', 'value': 8},\n",
       "     {'display_name': '1/80', 'value': 9},\n",
       "     {'display_name': '1/90', 'value': 10},\n",
       "     {'display_name': '1/96', 'value': 11},\n",
       "     {'display_name': '1/100', 'value': 12},\n",
       "     {'display_name': '1/120', 'value': 13},\n",
       "     {'display_name': '1/160', 'value': 14},\n",
       "     {'display_name': '1/180', 'value': 15},\n",
       "     {'display_name': '1/192', 'value': 16},\n",
       "     {'display_name': '1/200', 'value': 17},\n",
       "     {'display_name': '1/240', 'value': 18},\n",
       "     {'display_name': '1/320', 'value': 19},\n",
       "     {'display_name': '1/360', 'value': 20},\n",
       "     {'display_name': '1/384', 'value': 25},\n",
       "     {'display_name': '1/400', 'value': 21},\n",
       "     {'display_name': '1/480', 'value': 22},\n",
       "     {'display_name': '1/640', 'value': 26},\n",
       "     {'display_name': '1/720', 'value': 27},\n",
       "     {'display_name': '1/800', 'value': 28},\n",
       "     {'display_name': '1/960', 'value': 23},\n",
       "     {'display_name': '1/1920', 'value': 24}],\n",
       "    'path_segment': 'exposure_time'},\n",
       "   {'display_name': 'ISO',\n",
       "    'id': 13,\n",
       "    'options': [{'display_name': '6400', 'value': 0},\n",
       "     {'display_name': '3200', 'value': 3},\n",
       "     {'display_name': '1600', 'value': 1},\n",
       "     {'display_name': '1200', 'value': 5},\n",
       "     {'display_name': '800', 'value': 4},\n",
       "     {'display_name': '400', 'value': 2},\n",
       "     {'display_name': '200', 'value': 7},\n",
       "     {'display_name': '100', 'value': 8}],\n",
       "    'path_segment': 'protune_iso'},\n",
       "   {'display_name': 'ISO Mode',\n",
       "    'id': 74,\n",
       "    'options': [{'display_name': 'Max', 'value': 0},\n",
       "     {'display_name': 'Lock', 'value': 1}],\n",
       "    'path_segment': 'protune_iso_mode'},\n",
       "   {'display_name': 'No Audio Track',\n",
       "    'id': 96,\n",
       "    'options': [{'display_name': 'ON', 'value': 1},\n",
       "     {'display_name': 'OFF', 'value': 0}],\n",
       "    'path_segment': 'no_audio'}],\n",
       "  'value': 0},\n",
       " {'display_name': 'Audio',\n",
       "  'path_segment': 'audio',\n",
       "  'settings': [{'display_name': 'Auto Audio Mode',\n",
       "    'id': 80,\n",
       "    'options': [{'display_name': 'Stereo Only', 'value': 0},\n",
       "     {'display_name': 'Wind Only', 'value': 1},\n",
       "     {'display_name': 'Auto', 'value': 2}],\n",
       "    'path_segment': 'option'},\n",
       "   {'display_name': 'Raw Audio Track',\n",
       "    'id': 81,\n",
       "    'options': [{'display_name': 'Off', 'value': 3},\n",
       "     {'display_name': 'Low', 'value': 0},\n",
       "     {'display_name': 'Medium', 'value': 1},\n",
       "     {'display_name': 'High', 'value': 2}],\n",
       "    'path_segment': 'protune_option'}],\n",
       "  'value': 6},\n",
       " {'display_name': 'Photo',\n",
       "  'path_segment': 'photo',\n",
       "  'settings': [{'display_name': 'Default Photo Sub Mode',\n",
       "    'id': 16,\n",
       "    'options': [{'display_name': 'Single', 'value': 0},\n",
       "     {'display_name': 'Continuous', 'value': 1},\n",
       "     {'display_name': 'Night', 'value': 2}],\n",
       "    'path_segment': 'default_sub_mode'},\n",
       "   {'display_name': 'Photo Sub Mode',\n",
       "    'id': 69,\n",
       "    'options': [{'display_name': 'Single', 'value': 0},\n",
       "     {'display_name': 'Continuous', 'value': 1},\n",
       "     {'display_name': 'Night', 'value': 2}],\n",
       "    'path_segment': 'current_sub_mode'},\n",
       "   {'display_name': 'Megapixels',\n",
       "    'id': 17,\n",
       "    'options': [{'display_name': '12MP Wide', 'value': 0},\n",
       "     {'display_name': '12MP Linear', 'value': 10},\n",
       "     {'display_name': '12MP Medium', 'value': 8},\n",
       "     {'display_name': '12MP Narrow', 'value': 9}],\n",
       "    'path_segment': 'resolution'},\n",
       "   {'display_name': 'Shutter',\n",
       "    'id': 19,\n",
       "    'options': [{'display_name': 'Auto', 'value': 0},\n",
       "     {'display_name': '30 Seconds', 'value': 6},\n",
       "     {'display_name': '20 Seconds', 'value': 5},\n",
       "     {'display_name': '15 Seconds', 'value': 4},\n",
       "     {'display_name': '10 Seconds', 'value': 3},\n",
       "     {'display_name': '5 Seconds', 'value': 2},\n",
       "     {'display_name': '2 Seconds', 'value': 1}],\n",
       "    'path_segment': 'exposure_time'},\n",
       "   {'display_name': 'WDR',\n",
       "    'id': 77,\n",
       "    'options': [{'display_name': 'ON', 'value': 1},\n",
       "     {'display_name': 'OFF', 'value': 0}],\n",
       "    'path_segment': 'single_wdr'},\n",
       "   {'display_name': 'RAW',\n",
       "    'id': 82,\n",
       "    'options': [{'display_name': 'ON', 'value': 1},\n",
       "     {'display_name': 'OFF', 'value': 0}],\n",
       "    'path_segment': 'single_raw'},\n",
       "   {'display_name': 'RAW',\n",
       "    'id': 98,\n",
       "    'options': [{'display_name': 'ON', 'value': 1},\n",
       "     {'display_name': 'OFF', 'value': 0}],\n",
       "    'path_segment': 'night_raw'},\n",
       "   {'display_name': 'Protune',\n",
       "    'id': 21,\n",
       "    'options': [{'display_name': 'ON', 'value': 1},\n",
       "     {'display_name': 'OFF', 'value': 0}],\n",
       "    'path_segment': 'protune'},\n",
       "   {'display_name': 'White Balance',\n",
       "    'id': 22,\n",
       "    'options': [{'display_name': 'Auto', 'value': 0},\n",
       "     {'display_name': '3000K', 'value': 1},\n",
       "     {'display_name': '4000K', 'value': 5},\n",
       "     {'display_name': '4800K', 'value': 6},\n",
       "     {'display_name': '5500K', 'value': 2},\n",
       "     {'display_name': '6000K', 'value': 7},\n",
       "     {'display_name': '6500K', 'value': 3},\n",
       "     {'display_name': 'Native', 'value': 4}],\n",
       "    'path_segment': 'protune_white_balance'},\n",
       "   {'display_name': 'Color',\n",
       "    'id': 23,\n",
       "    'options': [{'display_name': 'Flat', 'value': 1},\n",
       "     {'display_name': 'GoPro', 'value': 0}],\n",
       "    'path_segment': 'protune_color'},\n",
       "   {'display_name': 'Sharpness',\n",
       "    'id': 25,\n",
       "    'options': [{'display_name': 'High', 'value': 0},\n",
       "     {'display_name': 'Medium', 'value': 1},\n",
       "     {'display_name': 'Low', 'value': 2}],\n",
       "    'path_segment': 'protune_sharpness'},\n",
       "   {'display_name': 'EV Comp',\n",
       "    'id': 26,\n",
       "    'options': [{'display_name': '-2.0', 'value': 8},\n",
       "     {'display_name': '-1.5', 'value': 7},\n",
       "     {'display_name': '-1.0', 'value': 6},\n",
       "     {'display_name': '-0.5', 'value': 5},\n",
       "     {'display_name': '0.0', 'value': 4},\n",
       "     {'display_name': '0.5', 'value': 3},\n",
       "     {'display_name': '1.0', 'value': 2},\n",
       "     {'display_name': '1.5', 'value': 1},\n",
       "     {'display_name': '2.0', 'value': 0}],\n",
       "    'path_segment': 'protune_ev'},\n",
       "   {'display_name': 'ISO MIN',\n",
       "    'id': 75,\n",
       "    'options': [{'display_name': '1600', 'value': 4},\n",
       "     {'display_name': '800', 'value': 0},\n",
       "     {'display_name': '400', 'value': 1},\n",
       "     {'display_name': '200', 'value': 2},\n",
       "     {'display_name': '100', 'value': 3}],\n",
       "    'path_segment': 'protune_iso_min'},\n",
       "   {'display_name': 'ISO MAX',\n",
       "    'id': 24,\n",
       "    'options': [{'display_name': '1600', 'value': 4},\n",
       "     {'display_name': '800', 'value': 0},\n",
       "     {'display_name': '400', 'value': 1},\n",
       "     {'display_name': '200', 'value': 2},\n",
       "     {'display_name': '100', 'value': 3}],\n",
       "    'path_segment': 'protune_iso'},\n",
       "   {'display_name': 'Shutter',\n",
       "    'id': 97,\n",
       "    'options': [{'display_name': 'Auto', 'value': 0},\n",
       "     {'display_name': '1/125', 'value': 1},\n",
       "     {'display_name': '1/250', 'value': 2},\n",
       "     {'display_name': '1/500', 'value': 3},\n",
       "     {'display_name': '1/1000', 'value': 4},\n",
       "     {'display_name': '1/2000', 'value': 5}],\n",
       "    'path_segment': 'protune_exposure_time'}],\n",
       "  'value': 1},\n",
       " {'display_name': 'Multishot',\n",
       "  'path_segment': 'multi_shot',\n",
       "  'settings': [{'display_name': 'Default Multi-Shot Sub Mode',\n",
       "    'id': 27,\n",
       "    'options': [{'display_name': 'Burst', 'value': 0},\n",
       "     {'display_name': 'Time Lapse Photo', 'value': 1},\n",
       "     {'display_name': 'Night Lapse', 'value': 2}],\n",
       "    'path_segment': 'default_sub_mode'},\n",
       "   {'display_name': 'Multi-Shot Sub Mode',\n",
       "    'id': 70,\n",
       "    'options': [{'display_name': 'Burst', 'value': 0},\n",
       "     {'display_name': 'Time Lapse Photo', 'value': 1},\n",
       "     {'display_name': 'Night Lapse', 'value': 2}],\n",
       "    'path_segment': 'current_sub_mode'},\n",
       "   {'display_name': 'Shutter',\n",
       "    'id': 31,\n",
       "    'options': [{'display_name': 'Auto', 'value': 0},\n",
       "     {'display_name': '30 Seconds', 'value': 6},\n",
       "     {'display_name': '20 Seconds', 'value': 5},\n",
       "     {'display_name': '15 Seconds', 'value': 4},\n",
       "     {'display_name': '10 Seconds', 'value': 3},\n",
       "     {'display_name': '5 Seconds', 'value': 2},\n",
       "     {'display_name': '2 Seconds', 'value': 1}],\n",
       "    'path_segment': 'exposure_time'},\n",
       "   {'display_name': 'Rate',\n",
       "    'id': 29,\n",
       "    'options': [{'display_name': '3 Photos / 1 Second', 'value': 0},\n",
       "     {'display_name': '5 Photos / 1 Second', 'value': 1},\n",
       "     {'display_name': '10 Photos / 1 Second', 'value': 2},\n",
       "     {'display_name': '10 Photos / 2 Seconds', 'value': 3},\n",
       "     {'display_name': '10 Photos / 3 Seconds', 'value': 4},\n",
       "     {'display_name': '30 Photos / 1 Second', 'value': 5},\n",
       "     {'display_name': '30 Photos / 2 Seconds', 'value': 6},\n",
       "     {'display_name': '30 Photos / 3 Seconds', 'value': 7},\n",
       "     {'display_name': '30 Photos / 6 Seconds', 'value': 8}],\n",
       "    'path_segment': 'burst_rate'},\n",
       "   {'display_name': 'Interval',\n",
       "    'id': 30,\n",
       "    'options': [{'display_name': '1 Photo / 0.5 Sec', 'value': 0},\n",
       "     {'display_name': '1 Photo / 1 Sec', 'value': 1},\n",
       "     {'display_name': '1 Photo / 2 Sec', 'value': 2},\n",
       "     {'display_name': '1 Photo / 5 Sec', 'value': 5},\n",
       "     {'display_name': '1 Photo / 10 Sec', 'value': 10},\n",
       "     {'display_name': '1 Photo / 30 Sec', 'value': 30},\n",
       "     {'display_name': '1 Photo / 60 Sec', 'value': 60}],\n",
       "    'path_segment': 'timelapse_rate'},\n",
       "   {'display_name': 'Interval',\n",
       "    'id': 32,\n",
       "    'options': [{'display_name': 'Auto', 'value': 3601},\n",
       "     {'display_name': '4 Seconds', 'value': 4},\n",
       "     {'display_name': '5 Seconds', 'value': 5},\n",
       "     {'display_name': '10 Seconds', 'value': 10},\n",
       "     {'display_name': '15 Seconds', 'value': 15},\n",
       "     {'display_name': '20 Seconds', 'value': 20},\n",
       "     {'display_name': '30 Seconds', 'value': 30},\n",
       "     {'display_name': '1 Minute', 'value': 60},\n",
       "     {'display_name': '2 Minutes', 'value': 120},\n",
       "     {'display_name': '5 Minutes', 'value': 300},\n",
       "     {'display_name': '30 Minutes', 'value': 1800},\n",
       "     {'display_name': '60 Minutes', 'value': 3600}],\n",
       "    'path_segment': 'nightlapse_rate'},\n",
       "   {'display_name': 'Megapixels',\n",
       "    'id': 28,\n",
       "    'options': [{'display_name': '12MP Wide', 'value': 0},\n",
       "     {'display_name': '12MP Linear', 'value': 10},\n",
       "     {'display_name': '12MP Medium', 'value': 8},\n",
       "     {'display_name': '12MP Narrow', 'value': 9}],\n",
       "    'path_segment': 'resolution'},\n",
       "   {'display_name': 'Spot Meter',\n",
       "    'id': 33,\n",
       "    'options': [{'display_name': 'ON', 'value': 1},\n",
       "     {'display_name': 'OFF', 'value': 0}],\n",
       "    'path_segment': 'spot_meter'},\n",
       "   {'display_name': 'Protune',\n",
       "    'id': 34,\n",
       "    'options': [{'display_name': 'ON', 'value': 1},\n",
       "     {'display_name': 'OFF', 'value': 0}],\n",
       "    'path_segment': 'protune'},\n",
       "   {'display_name': 'White Balance',\n",
       "    'id': 35,\n",
       "    'options': [{'display_name': 'Auto', 'value': 0},\n",
       "     {'display_name': '3000K', 'value': 1},\n",
       "     {'display_name': '4000K', 'value': 5},\n",
       "     {'display_name': '4800K', 'value': 6},\n",
       "     {'display_name': '5500K', 'value': 2},\n",
       "     {'display_name': '6000K', 'value': 7},\n",
       "     {'display_name': '6500K', 'value': 3},\n",
       "     {'display_name': 'Native', 'value': 4}],\n",
       "    'path_segment': 'protune_white_balance'},\n",
       "   {'display_name': 'Color',\n",
       "    'id': 36,\n",
       "    'options': [{'display_name': 'Flat', 'value': 1},\n",
       "     {'display_name': 'GoPro', 'value': 0}],\n",
       "    'path_segment': 'protune_color'},\n",
       "   {'display_name': 'Sharpness',\n",
       "    'id': 38,\n",
       "    'options': [{'display_name': 'High', 'value': 0},\n",
       "     {'display_name': 'Medium', 'value': 1},\n",
       "     {'display_name': 'Low', 'value': 2}],\n",
       "    'path_segment': 'protune_sharpness'},\n",
       "   {'display_name': 'EV Comp',\n",
       "    'id': 39,\n",
       "    'options': [{'display_name': '-2.0', 'value': 8},\n",
       "     {'display_name': '-1.5', 'value': 7},\n",
       "     {'display_name': '-1.0', 'value': 6},\n",
       "     {'display_name': '-0.5', 'value': 5},\n",
       "     {'display_name': '0.0', 'value': 4},\n",
       "     {'display_name': '0.5', 'value': 3},\n",
       "     {'display_name': '1.0', 'value': 2},\n",
       "     {'display_name': '1.5', 'value': 1},\n",
       "     {'display_name': '2.0', 'value': 0}],\n",
       "    'path_segment': 'protune_ev'},\n",
       "   {'display_name': 'ISO MIN',\n",
       "    'id': 76,\n",
       "    'options': [{'display_name': '1600', 'value': 4},\n",
       "     {'display_name': '800', 'value': 0},\n",
       "     {'display_name': '400', 'value': 1},\n",
       "     {'display_name': '200', 'value': 2},\n",
       "     {'display_name': '100', 'value': 3}],\n",
       "    'path_segment': 'protune_iso_min'},\n",
       "   {'display_name': 'ISO MAX',\n",
       "    'id': 37,\n",
       "    'options': [{'display_name': '1600', 'value': 4},\n",
       "     {'display_name': '800', 'value': 0},\n",
       "     {'display_name': '400', 'value': 1},\n",
       "     {'display_name': '200', 'value': 2},\n",
       "     {'display_name': '100', 'value': 3}],\n",
       "    'path_segment': 'protune_iso'},\n",
       "   {'display_name': 'WDR',\n",
       "    'id': 93,\n",
       "    'options': [{'display_name': 'ON', 'value': 1},\n",
       "     {'display_name': 'OFF', 'value': 0}],\n",
       "    'path_segment': 'timelapse_wdr'},\n",
       "   {'display_name': 'RAW',\n",
       "    'id': 94,\n",
       "    'options': [{'display_name': 'ON', 'value': 1},\n",
       "     {'display_name': 'OFF', 'value': 0}],\n",
       "    'path_segment': 'timelapse_raw'},\n",
       "   {'display_name': 'RAW',\n",
       "    'id': 99,\n",
       "    'options': [{'display_name': 'ON', 'value': 1},\n",
       "     {'display_name': 'OFF', 'value': 0}],\n",
       "    'path_segment': 'nightlapse_raw'}],\n",
       "  'value': 2},\n",
       " {'display_name': 'Broadcast',\n",
       "  'path_segment': 'broadcast',\n",
       "  'settings': [{'display_name': 'Default Broadcast Sub Mode',\n",
       "    'id': 40,\n",
       "    'options': [{'display_name': 'Record + Broadcast', 'value': 0},\n",
       "     {'display_name': 'Broadcast', 'value': 1}],\n",
       "    'path_segment': 'default_sub_mode'},\n",
       "   {'display_name': 'Sub Mode',\n",
       "    'id': 71,\n",
       "    'options': [{'display_name': 'Record + Broadcast', 'value': 0},\n",
       "     {'display_name': 'Broadcast', 'value': 1}],\n",
       "    'path_segment': 'current_sub_mode'},\n",
       "   {'display_name': 'Resolution',\n",
       "    'id': 41,\n",
       "    'options': [{'display_name': '4K SuperView', 'value': 2},\n",
       "     {'display_name': '4K', 'value': 1},\n",
       "     {'display_name': '2.7K SuperView', 'value': 5},\n",
       "     {'display_name': '2.7K', 'value': 4},\n",
       "     {'display_name': '2.7K 4:3', 'value': 6},\n",
       "     {'display_name': '1440', 'value': 7},\n",
       "     {'display_name': '1080 SuperView', 'value': 8},\n",
       "     {'display_name': '1080', 'value': 9},\n",
       "     {'display_name': '960', 'value': 10},\n",
       "     {'display_name': '720 SuperView', 'value': 11},\n",
       "     {'display_name': '720', 'value': 12},\n",
       "     {'display_name': 'WVGA', 'value': 13},\n",
       "     {'display_name': '480', 'value': 17}],\n",
       "    'path_segment': 'resolution'},\n",
       "   {'display_name': 'Frames Per Second',\n",
       "    'id': 42,\n",
       "    'options': [{'display_name': '240', 'value': 0},\n",
       "     {'display_name': '120', 'value': 1},\n",
       "     {'display_name': '100', 'value': 2},\n",
       "     {'display_name': '90', 'value': 3},\n",
       "     {'display_name': '80', 'value': 4},\n",
       "     {'display_name': '60', 'value': 5},\n",
       "     {'display_name': '50', 'value': 6},\n",
       "     {'display_name': '48', 'value': 7},\n",
       "     {'display_name': '30', 'value': 8},\n",
       "     {'display_name': '25', 'value': 9},\n",
       "     {'display_name': '24', 'value': 10},\n",
       "     {'display_name': '15', 'value': 11},\n",
       "     {'display_name': '12.5', 'value': 12}],\n",
       "    'path_segment': 'fps'},\n",
       "   {'display_name': 'Field of View',\n",
       "    'id': 43,\n",
       "    'options': [{'display_name': 'Wide', 'value': 0},\n",
       "     {'display_name': 'Medium', 'value': 1},\n",
       "     {'display_name': 'Narrow', 'value': 2}],\n",
       "    'path_segment': 'fov'},\n",
       "   {'display_name': 'BNR Resolution',\n",
       "    'id': 44,\n",
       "    'options': [{'display_name': '4K SuperView', 'value': 2},\n",
       "     {'display_name': '4K', 'value': 1},\n",
       "     {'display_name': '2.7K SuperView', 'value': 5},\n",
       "     {'display_name': '2.7K', 'value': 4},\n",
       "     {'display_name': '2.7K 4:3', 'value': 6},\n",
       "     {'display_name': '1440', 'value': 7},\n",
       "     {'display_name': '1080 SuperView', 'value': 8},\n",
       "     {'display_name': '1080', 'value': 9},\n",
       "     {'display_name': '960', 'value': 10},\n",
       "     {'display_name': '720 SuperView', 'value': 11},\n",
       "     {'display_name': '720', 'value': 12},\n",
       "     {'display_name': 'WVGA', 'value': 13},\n",
       "     {'display_name': '480', 'value': 17}],\n",
       "    'path_segment': 'record_resolution'},\n",
       "   {'display_name': 'BNR Frames Per Second',\n",
       "    'id': 45,\n",
       "    'options': [{'display_name': '240', 'value': 0},\n",
       "     {'display_name': '120', 'value': 1},\n",
       "     {'display_name': '100', 'value': 2},\n",
       "     {'display_name': '90', 'value': 3},\n",
       "     {'display_name': '80', 'value': 4},\n",
       "     {'display_name': '60', 'value': 5},\n",
       "     {'display_name': '50', 'value': 6},\n",
       "     {'display_name': '48', 'value': 7},\n",
       "     {'display_name': '30', 'value': 8},\n",
       "     {'display_name': '25', 'value': 9},\n",
       "     {'display_name': '24', 'value': 10},\n",
       "     {'display_name': '15', 'value': 11},\n",
       "     {'display_name': '12.5', 'value': 12}],\n",
       "    'path_segment': 'record_fps'},\n",
       "   {'display_name': 'BNR Field of View',\n",
       "    'id': 46,\n",
       "    'options': [{'display_name': 'Wide', 'value': 0},\n",
       "     {'display_name': 'Medium', 'value': 1},\n",
       "     {'display_name': 'Narrow', 'value': 2}],\n",
       "    'path_segment': 'record_fov'},\n",
       "   {'display_name': 'Privacy',\n",
       "    'id': 48,\n",
       "    'options': [{'display_name': 'Ask', 'value': 0},\n",
       "     {'display_name': 'Public', 'value': 1},\n",
       "     {'display_name': 'Hidden', 'value': 2}],\n",
       "    'path_segment': 'privacy'},\n",
       "   {'display_name': 'GOP Size',\n",
       "    'id': 65,\n",
       "    'options': [{'display_name': 'Default', 'value': 0},\n",
       "     {'display_name': '3', 'value': 3},\n",
       "     {'display_name': '4', 'value': 4},\n",
       "     {'display_name': '8', 'value': 8},\n",
       "     {'display_name': '15', 'value': 15},\n",
       "     {'display_name': '30', 'value': 30}],\n",
       "    'path_segment': 'gop_size'},\n",
       "   {'display_name': 'IDR Interval',\n",
       "    'id': 66,\n",
       "    'options': [{'display_name': 'Default', 'value': 0},\n",
       "     {'display_name': '1', 'value': 1},\n",
       "     {'display_name': '2', 'value': 2},\n",
       "     {'display_name': '4', 'value': 4}],\n",
       "    'path_segment': 'idr_interval'},\n",
       "   {'display_name': 'Bit Rate',\n",
       "    'id': 67,\n",
       "    'options': [{'display_name': '250 Kbps', 'value': 250000},\n",
       "     {'display_name': '400 Kbps', 'value': 400000},\n",
       "     {'display_name': '600 Kbps', 'value': 600000},\n",
       "     {'display_name': '700 Kbps', 'value': 700000},\n",
       "     {'display_name': '800 Kbps', 'value': 800000},\n",
       "     {'display_name': '1 Mbps', 'value': 1000000},\n",
       "     {'display_name': '1.2 Mbps', 'value': 1200000},\n",
       "     {'display_name': '1.6 Mbps', 'value': 1600000},\n",
       "     {'display_name': '2 Mbps', 'value': 2000000},\n",
       "     {'display_name': '2.4 Mbps', 'value': 2400000},\n",
       "     {'display_name': '2.5 Mbps', 'value': 2500000},\n",
       "     {'display_name': '4 Mbps', 'value': 4000000}],\n",
       "    'path_segment': 'bit_rate'},\n",
       "   {'display_name': 'Window Size',\n",
       "    'id': 47,\n",
       "    'options': [{'display_name': 'Default', 'value': 0},\n",
       "     {'display_name': '240', 'value': 1},\n",
       "     {'display_name': '240 3:4 Subsample', 'value': 2},\n",
       "     {'display_name': '240 1:2 Subsample', 'value': 3},\n",
       "     {'display_name': '480', 'value': 4},\n",
       "     {'display_name': '480 3:4 Subsample', 'value': 5},\n",
       "     {'display_name': '480 1:2 Subsample', 'value': 6},\n",
       "     {'display_name': '720', 'value': 7},\n",
       "     {'display_name': '720 3:4 Subsample', 'value': 8},\n",
       "     {'display_name': '720 1:2 Subsample', 'value': 9}],\n",
       "    'path_segment': 'window_size'}],\n",
       "  'value': 3},\n",
       " {'display_name': 'Playback',\n",
       "  'path_segment': 'playback',\n",
       "  'settings': [],\n",
       "  'value': 4},\n",
       " {'display_name': 'Setup',\n",
       "  'path_segment': 'setup',\n",
       "  'settings': [{'display_name': 'Screensaver',\n",
       "    'id': 51,\n",
       "    'options': [{'display_name': '1 MIN', 'value': 1},\n",
       "     {'display_name': '2 MIN', 'value': 2},\n",
       "     {'display_name': '3 MIN', 'value': 3},\n",
       "     {'display_name': 'NEVER', 'value': 0}],\n",
       "    'path_segment': 'lcd_sleep'},\n",
       "   {'display_name': 'Auto-Rotation',\n",
       "    'id': 52,\n",
       "    'options': [{'display_name': 'Auto', 'value': 0},\n",
       "     {'display_name': 'Up', 'value': 1},\n",
       "     {'display_name': 'Down', 'value': 2}],\n",
       "    'path_segment': 'orientation'},\n",
       "   {'display_name': 'Default Mode',\n",
       "    'id': 89,\n",
       "    'options': [{'display_name': 'Video', 'value': 12},\n",
       "     {'display_name': 'Video + Photo', 'value': 14},\n",
       "     {'display_name': 'Looping', 'value': 15},\n",
       "     {'display_name': 'Time Lapse Video', 'value': 13},\n",
       "     {'display_name': 'Single Photo', 'value': 16},\n",
       "     {'display_name': 'Photo', 'value': 17},\n",
       "     {'display_name': 'Night Photo', 'value': 18},\n",
       "     {'display_name': 'Burst Photo', 'value': 19},\n",
       "     {'display_name': 'Night Lapse Photo', 'value': 21},\n",
       "     {'display_name': 'Time Lapse Photo', 'value': 20}],\n",
       "    'path_segment': 'default_app_mode_flat'},\n",
       "   {'display_name': 'Current Flat Mode',\n",
       "    'id': 92,\n",
       "    'options': [{'display_name': 'Video', 'value': 12},\n",
       "     {'display_name': 'Video + Photo', 'value': 14},\n",
       "     {'display_name': 'Looping', 'value': 15},\n",
       "     {'display_name': 'Time Lapse Video', 'value': 13},\n",
       "     {'display_name': 'Single Photo', 'value': 16},\n",
       "     {'display_name': 'Photo', 'value': 17},\n",
       "     {'display_name': 'Night Photo', 'value': 18},\n",
       "     {'display_name': 'Burst Photo', 'value': 19},\n",
       "     {'display_name': 'Night Lapse Photo', 'value': 21},\n",
       "     {'display_name': 'Time Lapse Photo', 'value': 20}],\n",
       "    'path_segment': 'current_flat_mode'},\n",
       "   {'display_name': 'Quick Capture',\n",
       "    'id': 54,\n",
       "    'options': [{'display_name': 'ON', 'value': 1},\n",
       "     {'display_name': 'OFF', 'value': 0}],\n",
       "    'path_segment': 'quick_capture'},\n",
       "   {'display_name': 'LED',\n",
       "    'id': 91,\n",
       "    'options': [{'display_name': 'ON', 'value': 2},\n",
       "     {'display_name': 'OFF', 'value': 0},\n",
       "     {'display_name': 'Front OFF', 'value': 1}],\n",
       "    'path_segment': 'led_v2'},\n",
       "   {'display_name': 'GPS',\n",
       "    'id': 83,\n",
       "    'options': [{'display_name': 'ON', 'value': 1},\n",
       "     {'display_name': 'OFF', 'value': 0}],\n",
       "    'path_segment': 'gps'},\n",
       "   {'display_name': 'Language',\n",
       "    'id': 84,\n",
       "    'options': [{'display_name': 'English', 'value': 0},\n",
       "     {'display_name': 'Chinese', 'value': 1},\n",
       "     {'display_name': 'German', 'value': 2},\n",
       "     {'display_name': 'Italian', 'value': 3},\n",
       "     {'display_name': 'Spanish', 'value': 4},\n",
       "     {'display_name': 'Japanese', 'value': 5},\n",
       "     {'display_name': 'French', 'value': 6},\n",
       "     {'display_name': 'Korean', 'value': 7},\n",
       "     {'display_name': 'Portuguese', 'value': 8},\n",
       "     {'display_name': 'Russian', 'value': 9}],\n",
       "    'path_segment': 'language'},\n",
       "   {'display_name': 'Voice Control Language',\n",
       "    'id': 85,\n",
       "    'options': [{'display_name': 'English - US', 'value': 0},\n",
       "     {'display_name': 'English - UK', 'value': 1},\n",
       "     {'display_name': 'English - AUS', 'value': 2},\n",
       "     {'display_name': 'German', 'value': 3},\n",
       "     {'display_name': 'French', 'value': 4},\n",
       "     {'display_name': 'Italian', 'value': 5},\n",
       "     {'display_name': 'Spanish', 'value': 6},\n",
       "     {'display_name': 'Spanish - NA', 'value': 7},\n",
       "     {'display_name': 'Chinese', 'value': 8},\n",
       "     {'display_name': 'Japanese', 'value': 9},\n",
       "     {'display_name': 'Korean', 'value': 10},\n",
       "     {'display_name': 'Portuguese', 'value': 11},\n",
       "     {'display_name': 'Russian', 'value': 12}],\n",
       "    'path_segment': 'voice_control_language'},\n",
       "   {'display_name': 'Voice Control Enable',\n",
       "    'id': 86,\n",
       "    'options': [{'display_name': 'ON', 'value': 1},\n",
       "     {'display_name': 'OFF', 'value': 0}],\n",
       "    'path_segment': 'local_voice_control'},\n",
       "   {'display_name': 'LCD Brightness',\n",
       "    'id': 88,\n",
       "    'options': [{'display_name': '10%', 'value': 10},\n",
       "     {'display_name': '20%', 'value': 20},\n",
       "     {'display_name': '30%', 'value': 30},\n",
       "     {'display_name': '40%', 'value': 40},\n",
       "     {'display_name': '50%', 'value': 50},\n",
       "     {'display_name': '60%', 'value': 60},\n",
       "     {'display_name': '70%', 'value': 70},\n",
       "     {'display_name': '80%', 'value': 80},\n",
       "     {'display_name': '90%', 'value': 90},\n",
       "     {'display_name': '100%', 'value': 100}],\n",
       "    'path_segment': 'lcd_brightness_v2'},\n",
       "   {'display_name': 'Beeps',\n",
       "    'id': 87,\n",
       "    'options': [{'display_name': 'High', 'value': 100},\n",
       "     {'display_name': 'Medium', 'value': 70},\n",
       "     {'display_name': 'Low', 'value': 40},\n",
       "     {'display_name': 'Mute', 'value': 0}],\n",
       "    'path_segment': 'beep_volume_v2'},\n",
       "   {'display_name': 'Video Format',\n",
       "    'id': 57,\n",
       "    'options': [{'display_name': 'NTSC', 'value': 0},\n",
       "     {'display_name': 'PAL', 'value': 1}],\n",
       "    'path_segment': 'video_format'},\n",
       "   {'display_name': 'Auto Off',\n",
       "    'id': 59,\n",
       "    'options': [{'display_name': '5 MIN', 'value': 4},\n",
       "     {'display_name': '15 MIN', 'value': 6},\n",
       "     {'display_name': '30 MIN', 'value': 7},\n",
       "     {'display_name': 'NEVER', 'value': 0}],\n",
       "    'path_segment': 'auto_power_down'},\n",
       "   {'display_name': 'Secondary Stream GOP Size',\n",
       "    'id': 60,\n",
       "    'options': [{'display_name': 'Default', 'value': 0},\n",
       "     {'display_name': '3', 'value': 3},\n",
       "     {'display_name': '4', 'value': 4},\n",
       "     {'display_name': '8', 'value': 8},\n",
       "     {'display_name': '15', 'value': 15},\n",
       "     {'display_name': '30', 'value': 30}],\n",
       "    'path_segment': 'stream_gop_size'},\n",
       "   {'display_name': 'Secondary Stream IDR Interval',\n",
       "    'id': 61,\n",
       "    'options': [{'display_name': 'Default', 'value': 0},\n",
       "     {'display_name': '1', 'value': 1},\n",
       "     {'display_name': '2', 'value': 2},\n",
       "     {'display_name': '4', 'value': 4}],\n",
       "    'path_segment': 'stream_idr_interval'},\n",
       "   {'display_name': 'Secondary Stream Bit Rate',\n",
       "    'id': 62,\n",
       "    'options': [{'display_name': '250 Kbps', 'value': 250000},\n",
       "     {'display_name': '400 Kbps', 'value': 400000},\n",
       "     {'display_name': '600 Kbps', 'value': 600000},\n",
       "     {'display_name': '700 Kbps', 'value': 700000},\n",
       "     {'display_name': '800 Kbps', 'value': 800000},\n",
       "     {'display_name': '1 Mbps', 'value': 1000000},\n",
       "     {'display_name': '1.2 Mbps', 'value': 1200000},\n",
       "     {'display_name': '1.6 Mbps', 'value': 1600000},\n",
       "     {'display_name': '2 Mbps', 'value': 2000000},\n",
       "     {'display_name': '2.4 Mbps', 'value': 2400000},\n",
       "     {'display_name': '2.5 Mbps', 'value': 2500000},\n",
       "     {'display_name': '4 Mbps', 'value': 4000000}],\n",
       "    'path_segment': 'stream_bit_rate'},\n",
       "   {'display_name': 'Secondary Stream Window Size',\n",
       "    'id': 64,\n",
       "    'options': [{'display_name': 'Default', 'value': 0},\n",
       "     {'display_name': '240', 'value': 1},\n",
       "     {'display_name': '240 3:4 Subsample', 'value': 2},\n",
       "     {'display_name': '240 1:2 Subsample', 'value': 3},\n",
       "     {'display_name': '480', 'value': 4},\n",
       "     {'display_name': '480 3:4 Subsample', 'value': 5},\n",
       "     {'display_name': '480 1:2 Subsample', 'value': 6},\n",
       "     {'display_name': '720', 'value': 7},\n",
       "     {'display_name': '720 3:4 Subsample', 'value': 8},\n",
       "     {'display_name': '720 1:2 Subsample', 'value': 9}],\n",
       "    'path_segment': 'stream_window_size'},\n",
       "   {'display_name': 'Audio Input',\n",
       "    'id': 95,\n",
       "    'options': [{'display_name': 'None', 'value': 0},\n",
       "     {'display_name': 'Standard Mic', 'value': 1},\n",
       "     {'display_name': 'Standard Mic+', 'value': 2},\n",
       "     {'display_name': 'Powered Mic', 'value': 3},\n",
       "     {'display_name': 'Powered Mic+', 'value': 4},\n",
       "     {'display_name': 'Line In', 'value': 5}],\n",
       "    'path_segment': 'acc_mic_mode'}],\n",
       "  'value': 5}]"
      ]
     },
     "execution_count": 110,
     "metadata": {},
     "output_type": "execute_result"
    }
   ],
   "source": [
    "api.api_details['modes']"
   ]
  },
  {
   "cell_type": "code",
   "execution_count": 113,
   "metadata": {
    "collapsed": true
   },
   "outputs": [],
   "source": [
    "def _mode_details(mode):\n",
    "    for info in api.api_details['modes']:\n",
    "        if info['path_segment'] == mode:\n",
    "            return info['settings']\n",
    "\n",
    "def video_mode_details():\n",
    "    return _mode_details('video')\n",
    "\n",
    "def photo_mode_details():\n",
    "    return _mode_details('photo')\n",
    "\n"
   ]
  },
  {
   "cell_type": "code",
   "execution_count": 114,
   "metadata": {
    "collapsed": true,
    "scrolled": false
   },
   "outputs": [],
   "source": [
    "info = photo_mode_details()"
   ]
  },
  {
   "cell_type": "code",
   "execution_count": 118,
   "metadata": {},
   "outputs": [
    {
     "data": {
      "text/plain": [
       "15"
      ]
     },
     "execution_count": 118,
     "metadata": {},
     "output_type": "execute_result"
    }
   ],
   "source": [
    "len(info)"
   ]
  },
  {
   "cell_type": "code",
   "execution_count": 119,
   "metadata": {},
   "outputs": [
    {
     "data": {
      "text/plain": [
       "{'display_name': 'Shutter',\n",
       " 'id': 97,\n",
       " 'options': [{'display_name': 'Auto', 'value': 0},\n",
       "  {'display_name': '1/125', 'value': 1},\n",
       "  {'display_name': '1/250', 'value': 2},\n",
       "  {'display_name': '1/500', 'value': 3},\n",
       "  {'display_name': '1/1000', 'value': 4},\n",
       "  {'display_name': '1/2000', 'value': 5}],\n",
       " 'path_segment': 'protune_exposure_time'}"
      ]
     },
     "execution_count": 119,
     "metadata": {},
     "output_type": "execute_result"
    }
   ],
   "source": [
    "k = 14\n",
    "\n",
    "info[k]"
   ]
  },
  {
   "cell_type": "code",
   "execution_count": 134,
   "metadata": {},
   "outputs": [
    {
     "data": {
      "text/plain": [
       "'http://10.5.5.9/gp/gpControl/setting/16/0'"
      ]
     },
     "execution_count": 134,
     "metadata": {},
     "output_type": "execute_result"
    }
   ],
   "source": [
    "url = api.tpl_setting.format(feature=16, value=0)\n",
    "\n",
    "url"
   ]
  },
  {
   "cell_type": "code",
   "execution_count": 135,
   "metadata": {},
   "outputs": [
    {
     "data": {
      "text/plain": [
       "{}"
      ]
     },
     "execution_count": 135,
     "metadata": {},
     "output_type": "execute_result"
    }
   ],
   "source": [
    "api.get(api.url_mode_photo)\n",
    "api.get(url)"
   ]
  },
  {
   "cell_type": "code",
   "execution_count": 136,
   "metadata": {},
   "outputs": [
    {
     "data": {
      "text/plain": [
       "{'Color': 'GoPro',\n",
       " 'Default Photo Sub Mode': 'Single',\n",
       " 'EV Comp': '0.0',\n",
       " 'ISO MAX': '400',\n",
       " 'ISO MIN': '100',\n",
       " 'Megapixels': '12MP Linear',\n",
       " 'Photo Sub Mode': 'Continuous',\n",
       " 'Protune': 'ON',\n",
       " 'RAW': 'OFF',\n",
       " 'Sharpness': 'Low',\n",
       " 'Shutter': 'Auto',\n",
       " 'WDR': 'ON',\n",
       " 'White Balance': '3000K'}"
      ]
     },
     "execution_count": 136,
     "metadata": {},
     "output_type": "execute_result"
    }
   ],
   "source": [
    "stat = gopro.status.fetch_camera_info(pretty=False)    \n",
    "\n",
    "stat['Photo']"
   ]
  },
  {
   "cell_type": "code",
   "execution_count": null,
   "metadata": {
    "collapsed": true
   },
   "outputs": [],
   "source": []
  }
 ],
 "metadata": {
  "kernelspec": {
   "display_name": "Python 3",
   "language": "python",
   "name": "python3"
  },
  "language_info": {
   "codemirror_mode": {
    "name": "ipython",
    "version": 3
   },
   "file_extension": ".py",
   "mimetype": "text/x-python",
   "name": "python",
   "nbconvert_exporter": "python",
   "pygments_lexer": "ipython3",
   "version": "3.6.1"
  }
 },
 "nbformat": 4,
 "nbformat_minor": 2
}
