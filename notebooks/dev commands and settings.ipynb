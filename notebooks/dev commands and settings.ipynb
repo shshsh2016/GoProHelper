{
 "cells": [
  {
   "cell_type": "markdown",
   "metadata": {},
   "source": [
    "# Issue Commands to Change Settings"
   ]
  },
  {
   "cell_type": "code",
   "execution_count": 1,
   "metadata": {
    "collapsed": true
   },
   "outputs": [],
   "source": [
    "import os\n",
    "import numpy as np\n",
    "\n",
    "import context\n",
    "\n",
    "from gopro_helper import api\n",
    "from gopro_helper import json_io\n"
   ]
  },
  {
   "cell_type": "code",
   "execution_count": 3,
   "metadata": {},
   "outputs": [],
   "source": [
    "# Load JSON API information\n",
    "api_details = json_io.read(api.fname_json)"
   ]
  },
  {
   "cell_type": "code",
   "execution_count": 12,
   "metadata": {},
   "outputs": [
    {
     "data": {
      "text/plain": [
       "'/gp/gpMediaList'"
      ]
     },
     "execution_count": 12,
     "metadata": {},
     "output_type": "execute_result"
    }
   ],
   "source": [
    "# Example status group details\n"
   ]
  },
  {
   "cell_type": "code",
   "execution_count": 4,
   "metadata": {},
   "outputs": [
    {
     "data": {
      "text/plain": [
       "{'fields': [{'id': 43, 'name': 'mode'},\n",
       "  {'id': 44, 'name': 'sub_mode'},\n",
       "  {'id': 71, 'name': 'video_selected_flatmode'},\n",
       "  {'id': 72, 'name': 'photo_selected_flatmode'},\n",
       "  {'id': 73, 'name': 'timelapse_selected_flatmode'}],\n",
       " 'group': 'app'}"
      ]
     },
     "execution_count": 4,
     "metadata": {},
     "output_type": "execute_result"
    }
   ],
   "source": [
    "# Example status group details\n",
    "api_details['status']['groups'][1]"
   ]
  },
  {
   "cell_type": "markdown",
   "metadata": {},
   "source": [
    "# Camera Current Settings"
   ]
  },
  {
   "cell_type": "code",
   "execution_count": 7,
   "metadata": {},
   "outputs": [
    {
     "data": {
      "text/plain": [
       "{'Setup': {'Auto Off': '30 MIN', 'Current Flat Mode': 'Video', 'GPS': 'ON'},\n",
       " 'System': {'Current Time Msec': 1170312,\n",
       "  'Internal Battery Percentage': 83,\n",
       "  'Num Total Photos': 8448,\n",
       "  'Num Total Videos': 6,\n",
       "  'Remaining Photos': 6317,\n",
       "  'Remaining Space': 42040064,\n",
       "  'Remaining Timelapse Time': 0,\n",
       "  'Remaining Video Time': 4765,\n",
       "  'System Busy': 0,\n",
       "  'System Hot': 0},\n",
       " 'Video': {'Color': 'GoPro',\n",
       "  'EV Comp': '0.0',\n",
       "  'Field of View': 'Wide',\n",
       "  'Frames Per Second': '60',\n",
       "  'ISO': '400',\n",
       "  'ISO Mode': 'Max',\n",
       "  'Low Light': 'ON',\n",
       "  'Protune': 'ON',\n",
       "  'Resolution': '2.7K',\n",
       "  'Sharpness': 'Low',\n",
       "  'Shutter': '1/60',\n",
       "  'Video Stabilization': 'OFF',\n",
       "  'White Balance': '4800K'}}"
      ]
     },
     "execution_count": 7,
     "metadata": {},
     "output_type": "execute_result"
    }
   ],
   "source": [
    "api.get_settings()"
   ]
  },
  {
   "cell_type": "code",
   "execution_count": null,
   "metadata": {
    "collapsed": true
   },
   "outputs": [],
   "source": []
  }
 ],
 "metadata": {
  "kernelspec": {
   "display_name": "Python 3",
   "language": "python",
   "name": "python3"
  },
  "language_info": {
   "codemirror_mode": {
    "name": "ipython",
    "version": 3
   },
   "file_extension": ".py",
   "mimetype": "text/x-python",
   "name": "python",
   "nbconvert_exporter": "python",
   "pygments_lexer": "ipython3",
   "version": "3.5.3"
  }
 },
 "nbformat": 4,
 "nbformat_minor": 2
}
