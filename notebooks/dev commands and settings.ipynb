{
 "cells": [
  {
   "cell_type": "markdown",
   "metadata": {},
   "source": [
    "# Issue Commands to Change Settings"
   ]
  },
  {
   "cell_type": "markdown",
   "metadata": {},
   "source": [
    "https://github.com/stilldavid/gopro-utils"
   ]
  },
  {
   "cell_type": "code",
   "execution_count": 1,
   "metadata": {},
   "outputs": [],
   "source": [
    "import os\n",
    "import time\n",
    "from collections import OrderedDict\n",
    "\n",
    "import IPython\n",
    "import ipywidgets\n",
    "\n",
    "import data_io\n",
    "from progress_bar import bar\n",
    "\n",
    "import context\n",
    "\n",
    "import gopro_helper as gopro"
   ]
  },
  {
   "cell_type": "markdown",
   "metadata": {},
   "source": [
    "# Camera Current Settings"
   ]
  },
  {
   "cell_type": "code",
   "execution_count": 4,
   "metadata": {},
   "outputs": [
    {
     "data": {
      "application/vnd.jupyter.widget-view+json": {
       "model_id": "b917c63d99164111a6ebe50e1190bc75"
      }
     },
     "metadata": {},
     "output_type": "display_data"
    }
   ],
   "source": [
    "wid_stat = gopro.GoProStatus(interval=5)"
   ]
  },
  {
   "cell_type": "code",
   "execution_count": 26,
   "metadata": {},
   "outputs": [],
   "source": [
    "wid_stat.stop()"
   ]
  },
  {
   "cell_type": "markdown",
   "metadata": {},
   "source": [
    "# New Stuff"
   ]
  },
  {
   "cell_type": "code",
   "execution_count": 7,
   "metadata": {},
   "outputs": [],
   "source": [
    "# # Photo feature IDs\n",
    "# photo = gopro.namespace.Struct()\n",
    "# video = gopro.namespace.Struct()\n",
    "\n",
    "# photo.white = 22\n",
    "# photo.color = 23\n",
    "# photo.EV = 26\n",
    "# photo.protune = 21\n",
    "# photo.resolution = 17\n",
    "# photo.RAW = 82\n",
    "# photo.WDR = 77\n",
    "# photo.ISO_min = 75\n",
    "# photo.ISO_max = 24\n",
    "# photo.shutter = 97\n",
    "\n",
    "# video.resolution = 2\n",
    "# video.FPS = 3\n",
    "# video.FOV = 4\n",
    "# video.low_light = 8\n",
    "# video.stab = 78\n",
    "# video.white = 11\n",
    "# video.color = 12\n",
    "# video.sharp = 14\n",
    "# video.EV = 15\n",
    "# video.shutter = 73\n",
    "# video.ISO = 13\n",
    "# video.ISO_mode = 74\n",
    "# video.protune = 10\n",
    "\n",
    "# feature_id = gopro.namespace.Struct()\n",
    "# feature_id.photo = photo\n",
    "# feature_id.video = video"
   ]
  },
  {
   "cell_type": "code",
   "execution_count": 142,
   "metadata": {},
   "outputs": [],
   "source": [
    "# def feature_choices(mode, fid):\n",
    "#     details = _mode_details(mode)\n",
    "\n",
    "#     options = OrderedDict()\n",
    "#     for item in details:\n",
    "#         if item['id'] == fid:\n",
    "#             name = item['display_name']\n",
    "#             for entry in item['options']:\n",
    "#                 options[entry['display_name']] = entry['value']\n",
    "#             return name, options\n",
    "\n",
    "\n",
    "def fid_mode(fid):\n",
    "    \"\"\"Determine mode to which specified feature ID belongs\n",
    "    \"\"\"\n",
    "    mode = None\n",
    "    for m in ['photo', 'video']:        \n",
    "        for item in _mode_details(m):\n",
    "            if item['id'] == fid:\n",
    "                if not mode:\n",
    "                    mode = m\n",
    "                else:\n",
    "                    raise ValueError('Found multiple entries for feature: {}'.format(fid))\n",
    "\n",
    "    return mode\n",
    "\n",
    "\n",
    "\n",
    "def feature_current_value(fid):\n",
    "    \"\"\"Return camera's current value for specified feature ID\n",
    "    \"\"\"\n",
    "    content = gopro.get(gopro.api.url_status)\n",
    "    settings = content['settings']\n",
    "    \n",
    "    try:\n",
    "        value = settings[str(fid)]\n",
    "    except KeyError:\n",
    "        raise ValueError('Invalid feature ID {}'.format(fid))\n",
    "        \n",
    "    return value\n",
    "\n",
    "\n",
    "\n",
    "\n",
    "\n",
    "\n",
    "def select_feature_widget(fid, value_init=0):\n",
    "    mode = fid_mode(fid)\n",
    "    \n",
    "    name, options = feature_choices(mode, fid)\n",
    "    \n",
    "    wid = ipywidgets.Dropdown(value=value_init, options=options, description=name)\n",
    "    wid.layout.width='200pt'\n",
    "\n",
    "    return wid\n",
    "\n",
    "\n",
    "\n",
    "def multi_feature_dropdown():\n",
    "    \n",
    "    mode = gopro.status.current_mode()\n",
    "\n",
    "    widgets = []\n",
    "    for feature_name, fid in feature_id[mode].items():\n",
    "        value_init = feature_current_value(fid)\n",
    "        wid_feature = select_feature_value(fid, value_init=value_init)\n",
    "    \n",
    "        def handle_feature_selection(event):\n",
    "            value = event.new\n",
    "            if value > -1:\n",
    "                print('set {} {}'.format(fid, value))\n",
    "#                set_feature_value(fid, value)\n",
    "        \n",
    "\n",
    "        wid_feature.observe(handle_feature_selection, names='value')\n",
    "        \n",
    "        widgets.append(wid_feature)\n",
    "  \n",
    "    box = ipywidgets.VBox(widgets)\n",
    "    \n",
    "    IPython.display.display(box)"
   ]
  },
  {
   "cell_type": "code",
   "execution_count": 145,
   "metadata": {},
   "outputs": [],
   "source": [
    "def feature_value(fid):\n",
    "    mode = gopro.status.current_mode()\n",
    "    \n",
    "    assert(mode == fid_mode(fid))\n",
    "    \n",
    "    value_init = feature_current_value(fid)\n",
    "    wid_feature = select_feature_widget(fid, value_init=value_init)\n",
    "    \n",
    "    def handle_feature_selection(event):\n",
    "        value = event.new\n",
    "#         print('set {} {}'.format(fid, value))\n",
    "        set_feature_value(fid, value)\n",
    "        \n",
    "    wid_feature.observe(handle_feature_selection, names='value')\n",
    "  \n",
    "    IPython.display.display(wid_feature)"
   ]
  },
  {
   "cell_type": "code",
   "execution_count": 169,
   "metadata": {},
   "outputs": [
    {
     "data": {
      "application/vnd.jupyter.widget-view+json": {
       "model_id": "fc391203deac4e7c9c6ba10ee98b9c4f"
      }
     },
     "metadata": {},
     "output_type": "display_data"
    }
   ],
   "source": [
    "feature_value(feature_id.video.resolution)"
   ]
  },
  {
   "cell_type": "code",
   "execution_count": 146,
   "metadata": {},
   "outputs": [
    {
     "data": {
      "application/vnd.jupyter.widget-view+json": {
       "model_id": "8c9d6ca915d0438c95aa49d93d8662b6"
      }
     },
     "metadata": {},
     "output_type": "display_data"
    }
   ],
   "source": [
    "feature_value(feature_id.video.FPS)"
   ]
  },
  {
   "cell_type": "code",
   "execution_count": 147,
   "metadata": {},
   "outputs": [
    {
     "data": {
      "application/vnd.jupyter.widget-view+json": {
       "model_id": "ccf9c3708d88431481d016b65b424c85"
      }
     },
     "metadata": {},
     "output_type": "display_data"
    }
   ],
   "source": [
    "feature_value(feature_id.video.ISO_mode)"
   ]
  },
  {
   "cell_type": "code",
   "execution_count": 170,
   "metadata": {},
   "outputs": [
    {
     "data": {
      "application/vnd.jupyter.widget-view+json": {
       "model_id": "257a7188400f4b6890a15ee62411a4ed"
      }
     },
     "metadata": {},
     "output_type": "display_data"
    },
    {
     "name": "stdout",
     "output_type": "stream",
     "text": [
      "Internal Server Error\n",
      "500\n"
     ]
    }
   ],
   "source": [
    "feature_value(feature_id.video.ISO)"
   ]
  },
  {
   "cell_type": "code",
   "execution_count": 51,
   "metadata": {},
   "outputs": [
    {
     "data": {
      "application/vnd.jupyter.widget-view+json": {
       "model_id": "8559fcc0cd5a4ac8a63c6ddbf055d463"
      }
     },
     "metadata": {},
     "output_type": "display_data"
    }
   ],
   "source": [
    "wid_stat = gopro.GoProStatus(interval=1)"
   ]
  },
  {
   "cell_type": "code",
   "execution_count": 41,
   "metadata": {},
   "outputs": [],
   "source": [
    "wid_stat.stop()"
   ]
  },
  {
   "cell_type": "code",
   "execution_count": 171,
   "metadata": {},
   "outputs": [
    {
     "data": {
      "text/plain": [
       "{'settings': {'1': 0,\n",
       "  '10': 1,\n",
       "  '11': 6,\n",
       "  '12': 0,\n",
       "  '13': 2,\n",
       "  '14': 2,\n",
       "  '15': 4,\n",
       "  '16': 0,\n",
       "  '17': 10,\n",
       "  '18': 4,\n",
       "  '19': 0,\n",
       "  '2': 7,\n",
       "  '20': 0,\n",
       "  '21': 1,\n",
       "  '22': 1,\n",
       "  '23': 0,\n",
       "  '24': 1,\n",
       "  '25': 2,\n",
       "  '26': 4,\n",
       "  '27': 0,\n",
       "  '28': 0,\n",
       "  '29': 1,\n",
       "  '3': 5,\n",
       "  '30': 1,\n",
       "  '31': 0,\n",
       "  '32': 4,\n",
       "  '33': 0,\n",
       "  '34': 0,\n",
       "  '35': 0,\n",
       "  '36': 0,\n",
       "  '37': 4,\n",
       "  '38': 0,\n",
       "  '39': 4,\n",
       "  '4': 0,\n",
       "  '40': 0,\n",
       "  '41': 13,\n",
       "  '42': 8,\n",
       "  '43': 0,\n",
       "  '44': 8,\n",
       "  '45': 8,\n",
       "  '46': 0,\n",
       "  '47': 0,\n",
       "  '48': 0,\n",
       "  '5': 1,\n",
       "  '50': 0,\n",
       "  '51': 1,\n",
       "  '52': 0,\n",
       "  '54': 0,\n",
       "  '57': 0,\n",
       "  '58': 1,\n",
       "  '59': 0,\n",
       "  '6': 1,\n",
       "  '60': 8,\n",
       "  '61': 1,\n",
       "  '62': 2500000,\n",
       "  '63': 7,\n",
       "  '64': 4,\n",
       "  '65': 0,\n",
       "  '66': 0,\n",
       "  '67': 0,\n",
       "  '68': 0,\n",
       "  '69': 1,\n",
       "  '7': 1,\n",
       "  '70': 0,\n",
       "  '71': 0,\n",
       "  '72': 1,\n",
       "  '73': 0,\n",
       "  '74': 0,\n",
       "  '75': 2,\n",
       "  '76': 3,\n",
       "  '77': 0,\n",
       "  '78': 0,\n",
       "  '79': 1,\n",
       "  '8': 1,\n",
       "  '80': 0,\n",
       "  '81': 0,\n",
       "  '82': 0,\n",
       "  '83': 1,\n",
       "  '84': 0,\n",
       "  '85': 0,\n",
       "  '86': 0,\n",
       "  '87': 40,\n",
       "  '88': 51,\n",
       "  '89': 12,\n",
       "  '9': 0,\n",
       "  '91': 2,\n",
       "  '92': 12,\n",
       "  '93': 0,\n",
       "  '94': 0,\n",
       "  '95': 1,\n",
       "  '96': 0,\n",
       "  '97': 3,\n",
       "  '98': 0,\n",
       "  '99': 0},\n",
       " 'status': {'1': 1,\n",
       "  '10': 0,\n",
       "  '11': 0,\n",
       "  '13': 0,\n",
       "  '14': 0,\n",
       "  '15': 0,\n",
       "  '16': 0,\n",
       "  '17': 1,\n",
       "  '19': 0,\n",
       "  '2': 1,\n",
       "  '20': 0,\n",
       "  '21': 0,\n",
       "  '22': 0,\n",
       "  '23': 0,\n",
       "  '24': 0,\n",
       "  '26': 0,\n",
       "  '27': 0,\n",
       "  '28': 82,\n",
       "  '29': '',\n",
       "  '3': 0,\n",
       "  '30': 'GP26528824',\n",
       "  '31': 0,\n",
       "  '32': 0,\n",
       "  '33': 0,\n",
       "  '34': 9360,\n",
       "  '35': 7061,\n",
       "  '36': 0,\n",
       "  '37': 0,\n",
       "  '38': 0,\n",
       "  '39': 0,\n",
       "  '4': 0,\n",
       "  '40': '%11%05%1D%10%06%38',\n",
       "  '41': 0,\n",
       "  '42': 0,\n",
       "  '43': 0,\n",
       "  '44': 0,\n",
       "  '45': 0,\n",
       "  '46': 0,\n",
       "  '47': 0,\n",
       "  '48': 1,\n",
       "  '49': 0,\n",
       "  '54': 62298368,\n",
       "  '55': 1,\n",
       "  '56': 4,\n",
       "  '57': 6729187,\n",
       "  '58': 0,\n",
       "  '59': 0,\n",
       "  '6': 0,\n",
       "  '60': 500,\n",
       "  '61': 2,\n",
       "  '62': 0,\n",
       "  '63': 0,\n",
       "  '64': 0,\n",
       "  '65': 0,\n",
       "  '66': 0,\n",
       "  '67': 0,\n",
       "  '68': 1,\n",
       "  '69': 1,\n",
       "  '70': 26,\n",
       "  '71': 12,\n",
       "  '72': 17,\n",
       "  '73': 20,\n",
       "  '74': 0,\n",
       "  '8': 0,\n",
       "  '9': 0}}"
      ]
     },
     "execution_count": 171,
     "metadata": {},
     "output_type": "execute_result"
    }
   ],
   "source": [
    "gopro.commands.get_status()"
   ]
  },
  {
   "cell_type": "code",
   "execution_count": 167,
   "metadata": {
    "scrolled": true
   },
   "outputs": [
    {
     "data": {
      "text/plain": [
       "Struct([('video',\n",
       "         Struct([('Default Video Sub Mode', 'Video'),\n",
       "                 ('Video Sub Mode', 'Video'),\n",
       "                 ('Resolution', '1440'),\n",
       "                 ('Frames Per Second', '60'),\n",
       "                 ('Field of View', 'Wide'),\n",
       "                 ('Interval', '1 Photo / 5 Seconds'),\n",
       "                 ('Low Light', 'ON'),\n",
       "                 ('Video Stabilization', 'OFF'),\n",
       "                 ('Protune', 'ON'),\n",
       "                 ('White Balance', '4800K'),\n",
       "                 ('Color', 'GoPro'),\n",
       "                 ('Sharpness', 'Low'),\n",
       "                 ('EV Comp', '0.0'),\n",
       "                 ('Shutter', 'Auto'),\n",
       "                 ('ISO', '400'),\n",
       "                 ('ISO Mode', 'Max'),\n",
       "                 ('No Audio Track', 'OFF')])),\n",
       "        ('setup',\n",
       "         Struct([('Screensaver', '1 MIN'),\n",
       "                 ('Auto-Rotation', 'Auto'),\n",
       "                 ('Default Mode', 'Video'),\n",
       "                 ('Current Flat Mode', 'Video'),\n",
       "                 ('Quick Capture', 'OFF'),\n",
       "                 ('LED', 'ON'),\n",
       "                 ('GPS', 'ON'),\n",
       "                 ('Language', 'English'),\n",
       "                 ('Voice Control Language', 'English - US'),\n",
       "                 ('Voice Control Enable', 'OFF'),\n",
       "                 ('LCD Brightness', '51'),\n",
       "                 ('Beeps', 'Low'),\n",
       "                 ('Video Format', 'NTSC'),\n",
       "                 ('Auto Off', 'NEVER'),\n",
       "                 ('Secondary Stream GOP Size', '8'),\n",
       "                 ('Secondary Stream IDR Interval', '1'),\n",
       "                 ('Secondary Stream Bit Rate', '2.5 Mbps'),\n",
       "                 ('Secondary Stream Window Size', '480'),\n",
       "                 ('Audio Input', 'Standard Mic')])),\n",
       "        ('mode', 'video'),\n",
       "        ('system',\n",
       "         Struct([('internal_battery_present', 1),\n",
       "                 ('internal_battery_level', 1),\n",
       "                 ('external_battery_present', 0),\n",
       "                 ('external_battery_level', 0),\n",
       "                 ('system_hot', 0),\n",
       "                 ('system_busy', 0),\n",
       "                 ('quick_capture_active', 0),\n",
       "                 ('encoding_active', 0),\n",
       "                 ('lcd_lock_active', 0),\n",
       "                 ('camera_locate_active', 0),\n",
       "                 ('current_time_msec', 6334989),\n",
       "                 ('next_poll_msec', 500),\n",
       "                 ('analytics_ready', 2),\n",
       "                 ('analytics_size', 0),\n",
       "                 ('in_contextual_menu', 0),\n",
       "                 ('gps_status', 1),\n",
       "                 ('internal_battery_percentage', 31),\n",
       "                 ('acc_mic_status', 0),\n",
       "                 ('mode', 0),\n",
       "                 ('sub_mode', 0),\n",
       "                 ('video_selected_flatmode', 12),\n",
       "                 ('photo_selected_flatmode', 17),\n",
       "                 ('timelapse_selected_flatmode', 20),\n",
       "                 ('enable', 1),\n",
       "                 ('state', 0),\n",
       "                 ('type', 0),\n",
       "                 ('pair_time', 0),\n",
       "                 ('scan_time_msec', 0),\n",
       "                 ('pairing', 82),\n",
       "                 ('remote_control_version', 0),\n",
       "                 ('remote_control_connected', 0),\n",
       "                 ('app_count', 0),\n",
       "                 ('provision_status', 0),\n",
       "                 ('wlan_ssid', ''),\n",
       "                 ('ap_ssid', 'GP26528824'),\n",
       "                 ('wifi_bars', 4),\n",
       "                 ('ap_state', 1),\n",
       "                 ('sd_status', 0),\n",
       "                 ('remaining_photos', 9360),\n",
       "                 ('remaining_video_time', 7061),\n",
       "                 ('num_group_photos', 0),\n",
       "                 ('num_group_videos', 0),\n",
       "                 ('num_total_photos', 0),\n",
       "                 ('num_total_videos', 0),\n",
       "                 ('remaining_space', 62298368),\n",
       "                 ('num_hilights', 0),\n",
       "                 ('last_hilight_time_msec', 0),\n",
       "                 ('remaining_timelapse_time', 0)]))])"
      ]
     },
     "execution_count": 167,
     "metadata": {},
     "output_type": "execute_result"
    }
   ],
   "source": [
    "gopro.status.fetch_camera_info(False)"
   ]
  },
  {
   "cell_type": "code",
   "execution_count": 62,
   "metadata": {},
   "outputs": [
    {
     "data": {
      "text/plain": [
       "'http://10.5.5.9/gp/gpControl/setting/75/2'"
      ]
     },
     "execution_count": 62,
     "metadata": {},
     "output_type": "execute_result"
    }
   ],
   "source": [
    "url = gopro.api.tpl_setting.format(feature=75, value=2)\n",
    "\n",
    "url"
   ]
  },
  {
   "cell_type": "code",
   "execution_count": 63,
   "metadata": {},
   "outputs": [
    {
     "data": {
      "text/plain": [
       "{}"
      ]
     },
     "execution_count": 63,
     "metadata": {},
     "output_type": "execute_result"
    }
   ],
   "source": [
    "# gopro.api.get(gopro.api.url_mode_photo)\n",
    "gopro.api.get(url)"
   ]
  },
  {
   "cell_type": "code",
   "execution_count": null,
   "metadata": {
    "collapsed": true
   },
   "outputs": [],
   "source": []
  },
  {
   "cell_type": "code",
   "execution_count": null,
   "metadata": {
    "collapsed": true
   },
   "outputs": [],
   "source": []
  },
  {
   "cell_type": "markdown",
   "metadata": {},
   "source": [
    "# Timing"
   ]
  },
  {
   "cell_type": "code",
   "execution_count": 39,
   "metadata": {
    "scrolled": true
   },
   "outputs": [
    {
     "name": "stdout",
     "output_type": "stream",
     "text": [
      "1.643 sec\n"
     ]
    }
   ],
   "source": [
    "gopro.commands.shutter_capture()\n",
    "\n",
    "time_max = 5\n",
    "interval = 0.05\n",
    "\n",
    "time_start = time.time()\n",
    "while time.time() - time_start < time_max:\n",
    "    \n",
    "    time_pre = time.time()\n",
    "    stat = gopro.status.fetch_camera_info(pretty=False)    \n",
    "    time_after = time.time()\n",
    "\n",
    "    delta = time_after - time_pre\n",
    "    time_sleep = interval - delta\n",
    "    \n",
    "    if stat['System']['system_busy'] > 0:\n",
    "        if time_sleep > 0.001:\n",
    "            time.sleep(time_sleep)\n",
    "    else:\n",
    "        break\n",
    "\n",
    "print('{:.3f} sec'.format(time_after - time_start))"
   ]
  },
  {
   "cell_type": "code",
   "execution_count": null,
   "metadata": {
    "collapsed": true
   },
   "outputs": [],
   "source": []
  },
  {
   "cell_type": "markdown",
   "metadata": {},
   "source": [
    "# Basic Commands"
   ]
  },
  {
   "cell_type": "code",
   "execution_count": 19,
   "metadata": {},
   "outputs": [],
   "source": [
    "gopro.commands.set_mode_photo()"
   ]
  },
  {
   "cell_type": "code",
   "execution_count": 16,
   "metadata": {
    "collapsed": true
   },
   "outputs": [],
   "source": [
    "gopro.commands.set_mode_video()"
   ]
  },
  {
   "cell_type": "code",
   "execution_count": 53,
   "metadata": {
    "collapsed": true
   },
   "outputs": [],
   "source": [
    "gopro.commands.shutter_capture()"
   ]
  },
  {
   "cell_type": "code",
   "execution_count": 52,
   "metadata": {
    "collapsed": true
   },
   "outputs": [],
   "source": [
    "gopro.commands.shutter_stop()"
   ]
  },
  {
   "cell_type": "markdown",
   "metadata": {},
   "source": [
    "# File Transfer"
   ]
  },
  {
   "cell_type": "code",
   "execution_count": 51,
   "metadata": {},
   "outputs": [
    {
     "data": {
      "application/vnd.jupyter.widget-view+json": {
       "model_id": "14ce6e8ee3e341b69af02520333c836d"
      }
     },
     "metadata": {},
     "output_type": "display_data"
    }
   ],
   "source": [
    "gopro.commands.update_local_data(delete=True)"
   ]
  },
  {
   "cell_type": "code",
   "execution_count": null,
   "metadata": {
    "collapsed": true
   },
   "outputs": [],
   "source": []
  }
 ],
 "metadata": {
  "kernelspec": {
   "display_name": "Python 3",
   "language": "python",
   "name": "python3"
  },
  "language_info": {
   "codemirror_mode": {
    "name": "ipython",
    "version": 3
   },
   "file_extension": ".py",
   "mimetype": "text/x-python",
   "name": "python",
   "nbconvert_exporter": "python",
   "pygments_lexer": "ipython3",
   "version": "3.6.1"
  }
 },
 "nbformat": 4,
 "nbformat_minor": 2
}
