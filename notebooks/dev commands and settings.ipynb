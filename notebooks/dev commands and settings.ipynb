{
 "cells": [
  {
   "cell_type": "markdown",
   "metadata": {},
   "source": [
    "# Issue Commands to Change Settings"
   ]
  },
  {
   "cell_type": "markdown",
   "metadata": {},
   "source": [
    "https://github.com/stilldavid/gopro-utils"
   ]
  },
  {
   "cell_type": "code",
   "execution_count": 1,
   "metadata": {
    "collapsed": true
   },
   "outputs": [],
   "source": [
    "import os\n",
    "import time\n",
    "from collections import OrderedDict\n",
    "\n",
    "import IPython\n",
    "import ipywidgets\n",
    "\n",
    "import data_io\n",
    "from progress_bar import bar\n",
    "\n",
    "import context\n",
    "\n",
    "import gopro_helper as gopro"
   ]
  },
  {
   "cell_type": "markdown",
   "metadata": {},
   "source": [
    "# Camera Current Settings"
   ]
  },
  {
   "cell_type": "code",
   "execution_count": 4,
   "metadata": {},
   "outputs": [
    {
     "data": {
      "application/vnd.jupyter.widget-view+json": {
       "model_id": "b917c63d99164111a6ebe50e1190bc75"
      }
     },
     "metadata": {},
     "output_type": "display_data"
    }
   ],
   "source": [
    "wid_stat = gopro.GoProStatus(interval=5)"
   ]
  },
  {
   "cell_type": "code",
   "execution_count": 26,
   "metadata": {
    "collapsed": true
   },
   "outputs": [],
   "source": [
    "wid_stat.stop()"
   ]
  },
  {
   "cell_type": "markdown",
   "metadata": {},
   "source": [
    "# New Stuff"
   ]
  },
  {
   "cell_type": "code",
   "execution_count": 142,
   "metadata": {
    "collapsed": true
   },
   "outputs": [],
   "source": [
    "\n",
    "\n",
    "\n",
    "\n",
    "def select_feature_widget(fid, value_init=0):\n",
    "    mode = fid_mode(fid)\n",
    "    \n",
    "    name, options = feature_choices(mode, fid)\n",
    "    \n",
    "    wid = ipywidgets.Dropdown(value=value_init, options=options, description=name)\n",
    "    wid.layout.width='200pt'\n",
    "\n",
    "    return wid\n",
    "\n",
    "\n",
    "\n",
    "def multi_feature_dropdown():\n",
    "    \n",
    "    mode = gopro.status.current_mode()\n",
    "\n",
    "    widgets = []\n",
    "    for feature_name, fid in feature_id[mode].items():\n",
    "        value_init = feature_current_value(fid)\n",
    "        wid_feature = select_feature_value(fid, value_init=value_init)\n",
    "    \n",
    "        def handle_feature_selection(event):\n",
    "            value = event.new\n",
    "            if value > -1:\n",
    "                print('set {} {}'.format(fid, value))\n",
    "#                set_feature_value(fid, value)\n",
    "        \n",
    "\n",
    "        wid_feature.observe(handle_feature_selection, names='value')\n",
    "        \n",
    "        widgets.append(wid_feature)\n",
    "  \n",
    "    box = ipywidgets.VBox(widgets)\n",
    "    \n",
    "    IPython.display.display(box)"
   ]
  },
  {
   "cell_type": "code",
   "execution_count": 145,
   "metadata": {
    "collapsed": true
   },
   "outputs": [],
   "source": [
    "def feature_value(fid):\n",
    "    mode = gopro.status.current_mode()\n",
    "    \n",
    "    assert(mode == fid_mode(fid))\n",
    "    \n",
    "    value_init = feature_current_value(fid)\n",
    "    wid_feature = select_feature_widget(fid, value_init=value_init)\n",
    "    \n",
    "    def handle_feature_selection(event):\n",
    "        value = event.new\n",
    "#         print('set {} {}'.format(fid, value))\n",
    "        set_feature_value(fid, value)\n",
    "        \n",
    "    wid_feature.observe(handle_feature_selection, names='value')\n",
    "  \n",
    "    IPython.display.display(wid_feature)"
   ]
  },
  {
   "cell_type": "code",
   "execution_count": 169,
   "metadata": {},
   "outputs": [
    {
     "data": {
      "application/vnd.jupyter.widget-view+json": {
       "model_id": "fc391203deac4e7c9c6ba10ee98b9c4f"
      }
     },
     "metadata": {},
     "output_type": "display_data"
    }
   ],
   "source": [
    "feature_value(feature_id.video.resolution)"
   ]
  },
  {
   "cell_type": "code",
   "execution_count": 146,
   "metadata": {},
   "outputs": [
    {
     "data": {
      "application/vnd.jupyter.widget-view+json": {
       "model_id": "8c9d6ca915d0438c95aa49d93d8662b6"
      }
     },
     "metadata": {},
     "output_type": "display_data"
    }
   ],
   "source": [
    "feature_value(feature_id.video.FPS)"
   ]
  },
  {
   "cell_type": "code",
   "execution_count": 147,
   "metadata": {},
   "outputs": [
    {
     "data": {
      "application/vnd.jupyter.widget-view+json": {
       "model_id": "ccf9c3708d88431481d016b65b424c85"
      }
     },
     "metadata": {},
     "output_type": "display_data"
    }
   ],
   "source": [
    "feature_value(feature_id.video.ISO_mode)"
   ]
  },
  {
   "cell_type": "code",
   "execution_count": 170,
   "metadata": {},
   "outputs": [
    {
     "data": {
      "application/vnd.jupyter.widget-view+json": {
       "model_id": "257a7188400f4b6890a15ee62411a4ed"
      }
     },
     "metadata": {},
     "output_type": "display_data"
    },
    {
     "name": "stdout",
     "output_type": "stream",
     "text": [
      "Internal Server Error\n",
      "500\n"
     ]
    }
   ],
   "source": [
    "feature_value(feature_id.video.ISO)"
   ]
  },
  {
   "cell_type": "code",
   "execution_count": 51,
   "metadata": {},
   "outputs": [
    {
     "data": {
      "application/vnd.jupyter.widget-view+json": {
       "model_id": "8559fcc0cd5a4ac8a63c6ddbf055d463"
      }
     },
     "metadata": {},
     "output_type": "display_data"
    }
   ],
   "source": [
    "wid_stat = gopro.GoProStatus(interval=1)"
   ]
  },
  {
   "cell_type": "code",
   "execution_count": 41,
   "metadata": {
    "collapsed": true
   },
   "outputs": [],
   "source": [
    "wid_stat.stop()"
   ]
  },
  {
   "cell_type": "code",
   "execution_count": 62,
   "metadata": {},
   "outputs": [
    {
     "data": {
      "text/plain": [
       "'http://10.5.5.9/gp/gpControl/setting/75/2'"
      ]
     },
     "execution_count": 62,
     "metadata": {},
     "output_type": "execute_result"
    }
   ],
   "source": [
    "url = gopro.api.tpl_setting.format(feature=75, value=2)\n",
    "\n",
    "url"
   ]
  },
  {
   "cell_type": "code",
   "execution_count": 63,
   "metadata": {},
   "outputs": [
    {
     "data": {
      "text/plain": [
       "{}"
      ]
     },
     "execution_count": 63,
     "metadata": {},
     "output_type": "execute_result"
    }
   ],
   "source": [
    "# gopro.api.get(gopro.api.url_mode_photo)\n",
    "gopro.api.get(url)"
   ]
  },
  {
   "cell_type": "code",
   "execution_count": null,
   "metadata": {
    "collapsed": true
   },
   "outputs": [],
   "source": []
  },
  {
   "cell_type": "code",
   "execution_count": null,
   "metadata": {
    "collapsed": true
   },
   "outputs": [],
   "source": []
  },
  {
   "cell_type": "markdown",
   "metadata": {},
   "source": [
    "# Timing"
   ]
  },
  {
   "cell_type": "code",
   "execution_count": 39,
   "metadata": {
    "scrolled": true
   },
   "outputs": [
    {
     "name": "stdout",
     "output_type": "stream",
     "text": [
      "1.643 sec\n"
     ]
    }
   ],
   "source": [
    "gopro.commands.shutter_capture()\n",
    "\n",
    "time_max = 5\n",
    "interval = 0.05\n",
    "\n",
    "time_start = time.time()\n",
    "while time.time() - time_start < time_max:\n",
    "    \n",
    "    time_pre = time.time()\n",
    "    stat = gopro.status.fetch_camera_info(pretty=False)    \n",
    "    time_after = time.time()\n",
    "\n",
    "    delta = time_after - time_pre\n",
    "    time_sleep = interval - delta\n",
    "    \n",
    "    if stat['System']['system_busy'] > 0:\n",
    "        if time_sleep > 0.001:\n",
    "            time.sleep(time_sleep)\n",
    "    else:\n",
    "        break\n",
    "\n",
    "print('{:.3f} sec'.format(time_after - time_start))"
   ]
  },
  {
   "cell_type": "code",
   "execution_count": null,
   "metadata": {
    "collapsed": true
   },
   "outputs": [],
   "source": []
  },
  {
   "cell_type": "markdown",
   "metadata": {},
   "source": [
    "# Basic Commands"
   ]
  },
  {
   "cell_type": "code",
   "execution_count": 19,
   "metadata": {
    "collapsed": true
   },
   "outputs": [],
   "source": [
    "gopro.commands.set_mode_photo()"
   ]
  },
  {
   "cell_type": "code",
   "execution_count": 16,
   "metadata": {
    "collapsed": true
   },
   "outputs": [],
   "source": [
    "gopro.commands.set_mode_video()"
   ]
  },
  {
   "cell_type": "code",
   "execution_count": 53,
   "metadata": {
    "collapsed": true
   },
   "outputs": [],
   "source": [
    "gopro.commands.shutter_capture()"
   ]
  },
  {
   "cell_type": "code",
   "execution_count": 52,
   "metadata": {
    "collapsed": true
   },
   "outputs": [],
   "source": [
    "gopro.commands.shutter_stop()"
   ]
  },
  {
   "cell_type": "markdown",
   "metadata": {},
   "source": [
    "# File Transfer"
   ]
  },
  {
   "cell_type": "code",
   "execution_count": 51,
   "metadata": {},
   "outputs": [
    {
     "data": {
      "application/vnd.jupyter.widget-view+json": {
       "model_id": "14ce6e8ee3e341b69af02520333c836d"
      }
     },
     "metadata": {},
     "output_type": "display_data"
    }
   ],
   "source": [
    "gopro.commands.update_local_data(delete=True)"
   ]
  },
  {
   "cell_type": "code",
   "execution_count": null,
   "metadata": {
    "collapsed": true
   },
   "outputs": [],
   "source": []
  }
 ],
 "metadata": {
  "kernelspec": {
   "display_name": "Python 3",
   "language": "python",
   "name": "python3"
  },
  "language_info": {
   "codemirror_mode": {
    "name": "ipython",
    "version": 3
   },
   "file_extension": ".py",
   "mimetype": "text/x-python",
   "name": "python",
   "nbconvert_exporter": "python",
   "pygments_lexer": "ipython3",
   "version": "3.6.1"
  }
 },
 "nbformat": 4,
 "nbformat_minor": 2
}
