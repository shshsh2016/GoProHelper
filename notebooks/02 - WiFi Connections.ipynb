{
 "cells": [
  {
   "cell_type": "code",
   "execution_count": 1,
   "metadata": {
    "collapsed": true
   },
   "outputs": [],
   "source": [
    "import context\n",
    "import gopro_helper as gopro"
   ]
  },
  {
   "cell_type": "code",
   "execution_count": 2,
   "metadata": {},
   "outputs": [
    {
     "data": {
      "text/plain": [
       "['ATTXHt4uI2     : 29',\n",
       " 'BlueBalloon    : 100',\n",
       " 'Cocea@Mpk      : 30',\n",
       " 'Ehrlich-ext    : 32',\n",
       " 'GreenCanoe     : 100',\n",
       " 'HighFive       : 92',\n",
       " 'TG1672GF2-5G   : 35',\n",
       " 'WIFIEBA333     : 29']"
      ]
     },
     "execution_count": 2,
     "metadata": {},
     "output_type": "execute_result"
    }
   ],
   "source": [
    "gopro.network.scan()"
   ]
  },
  {
   "cell_type": "code",
   "execution_count": 3,
   "metadata": {},
   "outputs": [
    {
     "data": {
      "text/plain": [
       "'GreenCanoe'"
      ]
     },
     "execution_count": 3,
     "metadata": {},
     "output_type": "execute_result"
    }
   ],
   "source": [
    "gopro.network.current_connection()"
   ]
  },
  {
   "cell_type": "markdown",
   "metadata": {},
   "source": [
    "### Change WiFi connection to/from GoPro "
   ]
  },
  {
   "cell_type": "code",
   "execution_count": 4,
   "metadata": {
    "collapsed": true
   },
   "outputs": [],
   "source": [
    "# ssid = 'GP26528824'\n",
    "ssid = 'GreenCanoe'"
   ]
  },
  {
   "cell_type": "code",
   "execution_count": 5,
   "metadata": {},
   "outputs": [
    {
     "name": "stdout",
     "output_type": "stream",
     "text": [
      "disconnected  [new_activation]\n",
      "config\n",
      "ip_config\n",
      "activated\n",
      "ok: GreenCanoe\n"
     ]
    }
   ],
   "source": [
    "gopro.network.connect_wifi(ssid)"
   ]
  },
  {
   "cell_type": "markdown",
   "metadata": {},
   "source": [
    "### Lots and lots of connection info"
   ]
  },
  {
   "cell_type": "code",
   "execution_count": 4,
   "metadata": {},
   "outputs": [
    {
     "name": "stdout",
     "output_type": "stream",
     "text": [
      "Active connection: GreenCanoe (on wlp4s0)\n",
      "   802-11-wireless\n",
      "      ssid                       GreenCanoe\n",
      "      mode                       infrastructure\n",
      "      mac-address                E4:B3:18:66:1B:42\n",
      "      mac-address-blacklist      []\n",
      "      seen-bssids                ['70:3A:CB:1E:C4:F5', '70:3A:CB:1E:D8:18', '70:3A:CB:1E:CB:3B', '70:3A:CB:1E:C4:F9', '70:3A:CB:1E:D8:14']\n",
      "      security                   802-11-wireless-security\n",
      "   802-11-wireless-security\n",
      "      key-mgmt                   wpa-psk\n",
      "      auth-alg                   open\n",
      "      proto                      []\n",
      "      pairwise                   []\n",
      "      group                      []\n",
      "   connection\n",
      "      id                         GreenCanoe\n",
      "      uuid                       a3f5174b-23df-4766-a5b3-c99488a22763\n",
      "      type                       802-11-wireless\n",
      "      permissions                []\n",
      "      timestamp                  1498342715\n",
      "      secondaries                []\n",
      "   ipv4\n",
      "      method                     auto\n",
      "      dns                        []\n",
      "      dns-search                 []\n",
      "      addresses                  []\n",
      "      routes                     []\n",
      "      address-data               []\n",
      "      route-data                 []\n",
      "   ipv6\n",
      "      method                     auto\n",
      "      dns                        []\n",
      "      dns-search                 []\n",
      "      addresses                  []\n",
      "      routes                     []\n",
      "      address-data               []\n",
      "      route-data                 []\n",
      "Device: wlp4s0\n",
      "   Type             wifi\n",
      "   MAC address      E4:B3:18:66:1B:42\n",
      "   IPv4 config\n",
      "      Addresses\n",
      "         192.168.86.100/24 -> 192.168.86.1\n",
      "      Routes\n",
      "         169.254.0.0/16 -> 0.0.0.0 (1000)\n",
      "      Nameservers\n",
      "         192.168.86.1\n"
     ]
    }
   ],
   "source": [
    "gopro.network.display_connection_details()"
   ]
  },
  {
   "cell_type": "code",
   "execution_count": null,
   "metadata": {
    "collapsed": true
   },
   "outputs": [],
   "source": []
  },
  {
   "cell_type": "code",
   "execution_count": null,
   "metadata": {
    "collapsed": true
   },
   "outputs": [],
   "source": []
  },
  {
   "cell_type": "code",
   "execution_count": null,
   "metadata": {
    "collapsed": true
   },
   "outputs": [],
   "source": []
  }
 ],
 "metadata": {
  "kernelspec": {
   "display_name": "Python 3",
   "language": "python",
   "name": "python3"
  },
  "language_info": {
   "codemirror_mode": {
    "name": "ipython",
    "version": 3
   },
   "file_extension": ".py",
   "mimetype": "text/x-python",
   "name": "python",
   "nbconvert_exporter": "python",
   "pygments_lexer": "ipython3",
   "version": "3.6.1"
  }
 },
 "nbformat": 4,
 "nbformat_minor": 2
}
